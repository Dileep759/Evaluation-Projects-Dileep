{
 "cells": [
  {
   "cell_type": "code",
   "execution_count": 122,
   "metadata": {},
   "outputs": [
    {
     "data": {
      "text/html": [
       "<div>\n",
       "<style scoped>\n",
       "    .dataframe tbody tr th:only-of-type {\n",
       "        vertical-align: middle;\n",
       "    }\n",
       "\n",
       "    .dataframe tbody tr th {\n",
       "        vertical-align: top;\n",
       "    }\n",
       "\n",
       "    .dataframe thead th {\n",
       "        text-align: right;\n",
       "    }\n",
       "</style>\n",
       "<table border=\"1\" class=\"dataframe\">\n",
       "  <thead>\n",
       "    <tr style=\"text-align: right;\">\n",
       "      <th></th>\n",
       "      <th>objid</th>\n",
       "      <th>ra</th>\n",
       "      <th>dec</th>\n",
       "      <th>u</th>\n",
       "      <th>g</th>\n",
       "      <th>r</th>\n",
       "      <th>i</th>\n",
       "      <th>z</th>\n",
       "      <th>run</th>\n",
       "      <th>rerun</th>\n",
       "      <th>camcol</th>\n",
       "      <th>field</th>\n",
       "      <th>specobjid</th>\n",
       "      <th>class</th>\n",
       "      <th>redshift</th>\n",
       "      <th>plate</th>\n",
       "      <th>mjd</th>\n",
       "      <th>fiberid</th>\n",
       "    </tr>\n",
       "  </thead>\n",
       "  <tbody>\n",
       "    <tr>\n",
       "      <th>0</th>\n",
       "      <td>1.237650e+18</td>\n",
       "      <td>183.531326</td>\n",
       "      <td>0.089693</td>\n",
       "      <td>19.47406</td>\n",
       "      <td>17.04240</td>\n",
       "      <td>15.94699</td>\n",
       "      <td>15.50342</td>\n",
       "      <td>15.22531</td>\n",
       "      <td>752</td>\n",
       "      <td>301</td>\n",
       "      <td>4</td>\n",
       "      <td>267</td>\n",
       "      <td>3.722360e+18</td>\n",
       "      <td>STAR</td>\n",
       "      <td>-0.000009</td>\n",
       "      <td>3306</td>\n",
       "      <td>54922</td>\n",
       "      <td>491</td>\n",
       "    </tr>\n",
       "    <tr>\n",
       "      <th>1</th>\n",
       "      <td>1.237650e+18</td>\n",
       "      <td>183.598371</td>\n",
       "      <td>0.135285</td>\n",
       "      <td>18.66280</td>\n",
       "      <td>17.21449</td>\n",
       "      <td>16.67637</td>\n",
       "      <td>16.48922</td>\n",
       "      <td>16.39150</td>\n",
       "      <td>752</td>\n",
       "      <td>301</td>\n",
       "      <td>4</td>\n",
       "      <td>267</td>\n",
       "      <td>3.638140e+17</td>\n",
       "      <td>STAR</td>\n",
       "      <td>-0.000055</td>\n",
       "      <td>323</td>\n",
       "      <td>51615</td>\n",
       "      <td>541</td>\n",
       "    </tr>\n",
       "    <tr>\n",
       "      <th>2</th>\n",
       "      <td>1.237650e+18</td>\n",
       "      <td>183.680207</td>\n",
       "      <td>0.126185</td>\n",
       "      <td>19.38298</td>\n",
       "      <td>18.19169</td>\n",
       "      <td>17.47428</td>\n",
       "      <td>17.08732</td>\n",
       "      <td>16.80125</td>\n",
       "      <td>752</td>\n",
       "      <td>301</td>\n",
       "      <td>4</td>\n",
       "      <td>268</td>\n",
       "      <td>3.232740e+17</td>\n",
       "      <td>GALAXY</td>\n",
       "      <td>0.123111</td>\n",
       "      <td>287</td>\n",
       "      <td>52023</td>\n",
       "      <td>513</td>\n",
       "    </tr>\n",
       "    <tr>\n",
       "      <th>3</th>\n",
       "      <td>1.237650e+18</td>\n",
       "      <td>183.870529</td>\n",
       "      <td>0.049911</td>\n",
       "      <td>17.76536</td>\n",
       "      <td>16.60272</td>\n",
       "      <td>16.16116</td>\n",
       "      <td>15.98233</td>\n",
       "      <td>15.90438</td>\n",
       "      <td>752</td>\n",
       "      <td>301</td>\n",
       "      <td>4</td>\n",
       "      <td>269</td>\n",
       "      <td>3.722370e+18</td>\n",
       "      <td>STAR</td>\n",
       "      <td>-0.000111</td>\n",
       "      <td>3306</td>\n",
       "      <td>54922</td>\n",
       "      <td>510</td>\n",
       "    </tr>\n",
       "    <tr>\n",
       "      <th>4</th>\n",
       "      <td>1.237650e+18</td>\n",
       "      <td>183.883288</td>\n",
       "      <td>0.102557</td>\n",
       "      <td>17.55025</td>\n",
       "      <td>16.26342</td>\n",
       "      <td>16.43869</td>\n",
       "      <td>16.55492</td>\n",
       "      <td>16.61326</td>\n",
       "      <td>752</td>\n",
       "      <td>301</td>\n",
       "      <td>4</td>\n",
       "      <td>269</td>\n",
       "      <td>3.722370e+18</td>\n",
       "      <td>STAR</td>\n",
       "      <td>0.000590</td>\n",
       "      <td>3306</td>\n",
       "      <td>54922</td>\n",
       "      <td>512</td>\n",
       "    </tr>\n",
       "  </tbody>\n",
       "</table>\n",
       "</div>"
      ],
      "text/plain": [
       "          objid          ra       dec         u         g         r         i  \\\n",
       "0  1.237650e+18  183.531326  0.089693  19.47406  17.04240  15.94699  15.50342   \n",
       "1  1.237650e+18  183.598371  0.135285  18.66280  17.21449  16.67637  16.48922   \n",
       "2  1.237650e+18  183.680207  0.126185  19.38298  18.19169  17.47428  17.08732   \n",
       "3  1.237650e+18  183.870529  0.049911  17.76536  16.60272  16.16116  15.98233   \n",
       "4  1.237650e+18  183.883288  0.102557  17.55025  16.26342  16.43869  16.55492   \n",
       "\n",
       "          z  run  rerun  camcol  field     specobjid   class  redshift  plate  \\\n",
       "0  15.22531  752    301       4    267  3.722360e+18    STAR -0.000009   3306   \n",
       "1  16.39150  752    301       4    267  3.638140e+17    STAR -0.000055    323   \n",
       "2  16.80125  752    301       4    268  3.232740e+17  GALAXY  0.123111    287   \n",
       "3  15.90438  752    301       4    269  3.722370e+18    STAR -0.000111   3306   \n",
       "4  16.61326  752    301       4    269  3.722370e+18    STAR  0.000590   3306   \n",
       "\n",
       "     mjd  fiberid  \n",
       "0  54922      491  \n",
       "1  51615      541  \n",
       "2  52023      513  \n",
       "3  54922      510  \n",
       "4  54922      512  "
      ]
     },
     "execution_count": 122,
     "metadata": {},
     "output_type": "execute_result"
    }
   ],
   "source": [
    "import pandas as pd\n",
    "df=pd.read_csv('Space Server Dataset.csv')\n",
    "df.head()"
   ]
  },
  {
   "cell_type": "raw",
   "metadata": {},
   "source": [
    "Feature Description:\n",
    "    \n",
    "1.objid = Object Identifier\n",
    "2.ra = J2000 Right Ascension (r-band)\n",
    "3.dec = J2000 Declination (r-band)\n",
    "4.u = better of DeV/Exp magnitude fit\n",
    "5.g = better of DeV/Exp magnitude fit\n",
    "6.r = better of DeV/Exp magnitude fit\n",
    "7.i = better of DeV/Exp magnitude fit\n",
    "8.z = better of DeV/Exp magnitude fit\n",
    "9.run = Run Number\n",
    "10.rereun = Rerun Number\n",
    "11.camcol = Camera column\n",
    "12.field = Field number\n",
    "13.specobjid = Object Identifier\n",
    "14.class = object class (galaxy, star or quasar object)\n",
    "15.redshift = Final Redshift\n",
    "16.plate = plate number\n",
    "17.mjd = MJD of observation\n",
    "18.fiberid = fiber ID\n",
    "\n",
    "Column No.2-3 -Right ascension (abbreviated RA) is the angular distance measured eastward along the celestial equator from the Sun at the March equinox to the hour circle of the point above the earth in question. When paired with declination (abbreviated dec), these astronomical coordinates specify the direction of a point on the celestial sphere (traditionally called in English the skies or the sky) in the equatorial coordinate system.\n",
    "Column No.4-8 -The Thuan-Gunn astronomic magnitude system. u, g, r, i, z represent the response of the 5 bands of the telescope.\n",
    "Column No.9-12 -Run, rerun, camcol and field are features which describe a field within an image taken by the SDSS. A field is basically a part of the entire image corresponding to 2048 by 1489 pixels. A field can be identified by:\n",
    "\n",
    "      .run number, which identifies the specific scan,\n",
    "      .the camera column, or \"camcol,\" a number from 1 to 6, identifying the scanline within the run, and\n",
    "      .the field number. The field number typically starts at 11 (after an initial rampup time), and can be as large as 800 for particularly long runs.\n",
    "      .An additional number, rerun, specifies how the image was processed.\n",
    "\n",
    "Column No.14. -The class identifies an object to be either a galaxy, star or quasar. This will be the response variable which we will be trying to predict.\n",
    "\n",
    "Column No.15-18 -In physics, redshift happens when light or other electromagnetic radiation from an object is increased in wavelength, or shifted to the red end of the spectrum.\n",
    "\n",
    "Each spectroscopic exposure employs a large, thin, circular metal plate that positions optical fibers via holes drilled at the locations of the images in the telescope focal plane. These fibers then feed into the spectrographs. Each plate has a unique serial number, which is called plate in views such as SpecObj in the CAS.\n",
    "\n",
    "Modified Julian Date, used to indicate the date that a given piece of SDSS data (image or spectrum) was taken.\n",
    "\n",
    "The SDSS spectrograph uses optical fibers to direct the light at the focal plane from individual objects to the slithead. Each object is assigned a corresponding fiberID."
   ]
  },
  {
   "cell_type": "code",
   "execution_count": 123,
   "metadata": {},
   "outputs": [
    {
     "data": {
      "text/plain": [
       "(10000, 18)"
      ]
     },
     "execution_count": 123,
     "metadata": {},
     "output_type": "execute_result"
    }
   ],
   "source": [
    "df.shape"
   ]
  },
  {
   "cell_type": "code",
   "execution_count": 124,
   "metadata": {},
   "outputs": [
    {
     "data": {
      "text/plain": [
       "False"
      ]
     },
     "execution_count": 124,
     "metadata": {},
     "output_type": "execute_result"
    }
   ],
   "source": [
    "df.isnull().values.any()"
   ]
  },
  {
   "cell_type": "markdown",
   "metadata": {},
   "source": [
    "There are no any null values in dataframe"
   ]
  },
  {
   "cell_type": "code",
   "execution_count": 125,
   "metadata": {},
   "outputs": [
    {
     "name": "stdout",
     "output_type": "stream",
     "text": [
      "<class 'pandas.core.frame.DataFrame'>\n",
      "RangeIndex: 10000 entries, 0 to 9999\n",
      "Data columns (total 18 columns):\n",
      " #   Column     Non-Null Count  Dtype  \n",
      "---  ------     --------------  -----  \n",
      " 0   objid      10000 non-null  float64\n",
      " 1   ra         10000 non-null  float64\n",
      " 2   dec        10000 non-null  float64\n",
      " 3   u          10000 non-null  float64\n",
      " 4   g          10000 non-null  float64\n",
      " 5   r          10000 non-null  float64\n",
      " 6   i          10000 non-null  float64\n",
      " 7   z          10000 non-null  float64\n",
      " 8   run        10000 non-null  int64  \n",
      " 9   rerun      10000 non-null  int64  \n",
      " 10  camcol     10000 non-null  int64  \n",
      " 11  field      10000 non-null  int64  \n",
      " 12  specobjid  10000 non-null  float64\n",
      " 13  class      10000 non-null  object \n",
      " 14  redshift   10000 non-null  float64\n",
      " 15  plate      10000 non-null  int64  \n",
      " 16  mjd        10000 non-null  int64  \n",
      " 17  fiberid    10000 non-null  int64  \n",
      "dtypes: float64(10), int64(7), object(1)\n",
      "memory usage: 1.4+ MB\n"
     ]
    }
   ],
   "source": [
    "df.info()"
   ]
  },
  {
   "cell_type": "raw",
   "metadata": {},
   "source": [
    "Observations:\n",
    "    \n",
    "    1. There are total 18 columns and 10000 rows in dataframe.\n",
    "    2. No null values are present in any column.\n",
    "    \n",
    " int_features=['run','rerun','camcol','field','plate','mjd','fiberid']\n",
    " float_features=['objid','ra','dec','u','g','r','i','z','specobjid','redshift']\n",
    " cat_feature=['class']   "
   ]
  },
  {
   "cell_type": "code",
   "execution_count": 126,
   "metadata": {},
   "outputs": [
    {
     "data": {
      "text/plain": [
       "array(['STAR', 'GALAXY', 'QSO'], dtype=object)"
      ]
     },
     "execution_count": 126,
     "metadata": {},
     "output_type": "execute_result"
    }
   ],
   "source": [
    "df['class'].unique()"
   ]
  },
  {
   "cell_type": "code",
   "execution_count": 127,
   "metadata": {},
   "outputs": [
    {
     "data": {
      "text/plain": [
       "dtype('int64')"
      ]
     },
     "execution_count": 127,
     "metadata": {},
     "output_type": "execute_result"
    }
   ],
   "source": [
    "df['class']=df['class'].map({'STAR':0,'GALAXY':1,'QSO':2})\n",
    "df['class'].dtypes"
   ]
  },
  {
   "cell_type": "raw",
   "metadata": {},
   "source": [
    "class 0:STAR\n",
    "class 1:GALAXY\n",
    "class 2:QSO    "
   ]
  },
  {
   "cell_type": "code",
   "execution_count": 128,
   "metadata": {},
   "outputs": [
    {
     "data": {
      "text/html": [
       "<div>\n",
       "<style scoped>\n",
       "    .dataframe tbody tr th:only-of-type {\n",
       "        vertical-align: middle;\n",
       "    }\n",
       "\n",
       "    .dataframe tbody tr th {\n",
       "        vertical-align: top;\n",
       "    }\n",
       "\n",
       "    .dataframe thead th {\n",
       "        text-align: right;\n",
       "    }\n",
       "</style>\n",
       "<table border=\"1\" class=\"dataframe\">\n",
       "  <thead>\n",
       "    <tr style=\"text-align: right;\">\n",
       "      <th></th>\n",
       "      <th>objid</th>\n",
       "      <th>ra</th>\n",
       "      <th>dec</th>\n",
       "      <th>u</th>\n",
       "      <th>g</th>\n",
       "      <th>r</th>\n",
       "      <th>i</th>\n",
       "      <th>z</th>\n",
       "      <th>run</th>\n",
       "      <th>rerun</th>\n",
       "      <th>camcol</th>\n",
       "      <th>field</th>\n",
       "      <th>specobjid</th>\n",
       "      <th>class</th>\n",
       "      <th>redshift</th>\n",
       "      <th>plate</th>\n",
       "      <th>mjd</th>\n",
       "      <th>fiberid</th>\n",
       "    </tr>\n",
       "  </thead>\n",
       "  <tbody>\n",
       "    <tr>\n",
       "      <th>count</th>\n",
       "      <td>1.000000e+04</td>\n",
       "      <td>10000.000000</td>\n",
       "      <td>10000.000000</td>\n",
       "      <td>10000.000000</td>\n",
       "      <td>10000.000000</td>\n",
       "      <td>10000.000000</td>\n",
       "      <td>10000.000000</td>\n",
       "      <td>10000.000000</td>\n",
       "      <td>10000.000000</td>\n",
       "      <td>10000.0</td>\n",
       "      <td>10000.000000</td>\n",
       "      <td>10000.000000</td>\n",
       "      <td>1.000000e+04</td>\n",
       "      <td>10000.000000</td>\n",
       "      <td>10000.000000</td>\n",
       "      <td>10000.000000</td>\n",
       "      <td>10000.000000</td>\n",
       "      <td>10000.000000</td>\n",
       "    </tr>\n",
       "    <tr>\n",
       "      <th>mean</th>\n",
       "      <td>1.237650e+18</td>\n",
       "      <td>175.529987</td>\n",
       "      <td>14.836148</td>\n",
       "      <td>18.619355</td>\n",
       "      <td>17.371931</td>\n",
       "      <td>16.840963</td>\n",
       "      <td>16.583579</td>\n",
       "      <td>16.422833</td>\n",
       "      <td>981.034800</td>\n",
       "      <td>301.0</td>\n",
       "      <td>3.648700</td>\n",
       "      <td>302.380100</td>\n",
       "      <td>1.645022e+18</td>\n",
       "      <td>0.669800</td>\n",
       "      <td>0.143726</td>\n",
       "      <td>1460.986400</td>\n",
       "      <td>52943.533300</td>\n",
       "      <td>353.069400</td>\n",
       "    </tr>\n",
       "    <tr>\n",
       "      <th>std</th>\n",
       "      <td>1.577039e+05</td>\n",
       "      <td>47.783439</td>\n",
       "      <td>25.212207</td>\n",
       "      <td>0.828656</td>\n",
       "      <td>0.945457</td>\n",
       "      <td>1.067764</td>\n",
       "      <td>1.141805</td>\n",
       "      <td>1.203188</td>\n",
       "      <td>273.305024</td>\n",
       "      <td>0.0</td>\n",
       "      <td>1.666183</td>\n",
       "      <td>162.577763</td>\n",
       "      <td>2.013998e+18</td>\n",
       "      <td>0.625465</td>\n",
       "      <td>0.388774</td>\n",
       "      <td>1788.778371</td>\n",
       "      <td>1511.150651</td>\n",
       "      <td>206.298149</td>\n",
       "    </tr>\n",
       "    <tr>\n",
       "      <th>min</th>\n",
       "      <td>1.237650e+18</td>\n",
       "      <td>8.235100</td>\n",
       "      <td>-5.382632</td>\n",
       "      <td>12.988970</td>\n",
       "      <td>12.799550</td>\n",
       "      <td>12.431600</td>\n",
       "      <td>11.947210</td>\n",
       "      <td>11.610410</td>\n",
       "      <td>308.000000</td>\n",
       "      <td>301.0</td>\n",
       "      <td>1.000000</td>\n",
       "      <td>11.000000</td>\n",
       "      <td>2.995780e+17</td>\n",
       "      <td>0.000000</td>\n",
       "      <td>-0.004136</td>\n",
       "      <td>266.000000</td>\n",
       "      <td>51578.000000</td>\n",
       "      <td>1.000000</td>\n",
       "    </tr>\n",
       "    <tr>\n",
       "      <th>25%</th>\n",
       "      <td>1.237650e+18</td>\n",
       "      <td>157.370946</td>\n",
       "      <td>-0.539035</td>\n",
       "      <td>18.178035</td>\n",
       "      <td>16.815100</td>\n",
       "      <td>16.173333</td>\n",
       "      <td>15.853705</td>\n",
       "      <td>15.618285</td>\n",
       "      <td>752.000000</td>\n",
       "      <td>301.0</td>\n",
       "      <td>2.000000</td>\n",
       "      <td>184.000000</td>\n",
       "      <td>3.389248e+17</td>\n",
       "      <td>0.000000</td>\n",
       "      <td>0.000081</td>\n",
       "      <td>301.000000</td>\n",
       "      <td>51900.000000</td>\n",
       "      <td>186.750000</td>\n",
       "    </tr>\n",
       "    <tr>\n",
       "      <th>50%</th>\n",
       "      <td>1.237650e+18</td>\n",
       "      <td>180.394514</td>\n",
       "      <td>0.404166</td>\n",
       "      <td>18.853095</td>\n",
       "      <td>17.495135</td>\n",
       "      <td>16.858770</td>\n",
       "      <td>16.554985</td>\n",
       "      <td>16.389945</td>\n",
       "      <td>756.000000</td>\n",
       "      <td>301.0</td>\n",
       "      <td>4.000000</td>\n",
       "      <td>299.000000</td>\n",
       "      <td>4.966580e+17</td>\n",
       "      <td>1.000000</td>\n",
       "      <td>0.042591</td>\n",
       "      <td>441.000000</td>\n",
       "      <td>51997.000000</td>\n",
       "      <td>351.000000</td>\n",
       "    </tr>\n",
       "    <tr>\n",
       "      <th>75%</th>\n",
       "      <td>1.237650e+18</td>\n",
       "      <td>201.547279</td>\n",
       "      <td>35.649397</td>\n",
       "      <td>19.259232</td>\n",
       "      <td>18.010145</td>\n",
       "      <td>17.512675</td>\n",
       "      <td>17.258550</td>\n",
       "      <td>17.141447</td>\n",
       "      <td>1331.000000</td>\n",
       "      <td>301.0</td>\n",
       "      <td>5.000000</td>\n",
       "      <td>414.000000</td>\n",
       "      <td>2.881300e+18</td>\n",
       "      <td>1.000000</td>\n",
       "      <td>0.092579</td>\n",
       "      <td>2559.000000</td>\n",
       "      <td>54468.000000</td>\n",
       "      <td>510.000000</td>\n",
       "    </tr>\n",
       "    <tr>\n",
       "      <th>max</th>\n",
       "      <td>1.237650e+18</td>\n",
       "      <td>260.884382</td>\n",
       "      <td>68.542265</td>\n",
       "      <td>19.599900</td>\n",
       "      <td>19.918970</td>\n",
       "      <td>24.802040</td>\n",
       "      <td>28.179630</td>\n",
       "      <td>22.833060</td>\n",
       "      <td>1412.000000</td>\n",
       "      <td>301.0</td>\n",
       "      <td>6.000000</td>\n",
       "      <td>768.000000</td>\n",
       "      <td>9.468830e+18</td>\n",
       "      <td>2.000000</td>\n",
       "      <td>5.353854</td>\n",
       "      <td>8410.000000</td>\n",
       "      <td>57481.000000</td>\n",
       "      <td>1000.000000</td>\n",
       "    </tr>\n",
       "  </tbody>\n",
       "</table>\n",
       "</div>"
      ],
      "text/plain": [
       "              objid            ra           dec             u             g  \\\n",
       "count  1.000000e+04  10000.000000  10000.000000  10000.000000  10000.000000   \n",
       "mean   1.237650e+18    175.529987     14.836148     18.619355     17.371931   \n",
       "std    1.577039e+05     47.783439     25.212207      0.828656      0.945457   \n",
       "min    1.237650e+18      8.235100     -5.382632     12.988970     12.799550   \n",
       "25%    1.237650e+18    157.370946     -0.539035     18.178035     16.815100   \n",
       "50%    1.237650e+18    180.394514      0.404166     18.853095     17.495135   \n",
       "75%    1.237650e+18    201.547279     35.649397     19.259232     18.010145   \n",
       "max    1.237650e+18    260.884382     68.542265     19.599900     19.918970   \n",
       "\n",
       "                  r             i             z           run    rerun  \\\n",
       "count  10000.000000  10000.000000  10000.000000  10000.000000  10000.0   \n",
       "mean      16.840963     16.583579     16.422833    981.034800    301.0   \n",
       "std        1.067764      1.141805      1.203188    273.305024      0.0   \n",
       "min       12.431600     11.947210     11.610410    308.000000    301.0   \n",
       "25%       16.173333     15.853705     15.618285    752.000000    301.0   \n",
       "50%       16.858770     16.554985     16.389945    756.000000    301.0   \n",
       "75%       17.512675     17.258550     17.141447   1331.000000    301.0   \n",
       "max       24.802040     28.179630     22.833060   1412.000000    301.0   \n",
       "\n",
       "             camcol         field     specobjid         class      redshift  \\\n",
       "count  10000.000000  10000.000000  1.000000e+04  10000.000000  10000.000000   \n",
       "mean       3.648700    302.380100  1.645022e+18      0.669800      0.143726   \n",
       "std        1.666183    162.577763  2.013998e+18      0.625465      0.388774   \n",
       "min        1.000000     11.000000  2.995780e+17      0.000000     -0.004136   \n",
       "25%        2.000000    184.000000  3.389248e+17      0.000000      0.000081   \n",
       "50%        4.000000    299.000000  4.966580e+17      1.000000      0.042591   \n",
       "75%        5.000000    414.000000  2.881300e+18      1.000000      0.092579   \n",
       "max        6.000000    768.000000  9.468830e+18      2.000000      5.353854   \n",
       "\n",
       "              plate           mjd       fiberid  \n",
       "count  10000.000000  10000.000000  10000.000000  \n",
       "mean    1460.986400  52943.533300    353.069400  \n",
       "std     1788.778371   1511.150651    206.298149  \n",
       "min      266.000000  51578.000000      1.000000  \n",
       "25%      301.000000  51900.000000    186.750000  \n",
       "50%      441.000000  51997.000000    351.000000  \n",
       "75%     2559.000000  54468.000000    510.000000  \n",
       "max     8410.000000  57481.000000   1000.000000  "
      ]
     },
     "execution_count": 128,
     "metadata": {},
     "output_type": "execute_result"
    }
   ],
   "source": [
    "df.describe()"
   ]
  },
  {
   "cell_type": "raw",
   "metadata": {},
   "source": [
    "Observations:\n",
    "    \n",
    "    1. There is high difference between the values of Q3 and max of plate,redshift columns.(Highest being in redshift column)\n",
    "    2. In dec,run columns mean is greater than Q2(median), so there is right skewness into their distribution.\n",
    "    3. std is high in ra,dec,run,plate,mjd and fiberid columns.(Highest being in plate column)\n",
    "    4. from above insights we can assume that there might be some outliers are present in columns."
   ]
  },
  {
   "cell_type": "code",
   "execution_count": 129,
   "metadata": {},
   "outputs": [
    {
     "data": {
      "text/plain": [
       "array([1.23765e+18])"
      ]
     },
     "execution_count": 129,
     "metadata": {},
     "output_type": "execute_result"
    }
   ],
   "source": [
    "df['objid'].unique()"
   ]
  },
  {
   "cell_type": "code",
   "execution_count": 130,
   "metadata": {},
   "outputs": [
    {
     "data": {
      "text/plain": [
       "array([3.72236e+18, 3.63814e+17, 3.23274e+17, ..., 5.03345e+17,\n",
       "       5.03340e+17, 5.03341e+17])"
      ]
     },
     "execution_count": 130,
     "metadata": {},
     "output_type": "execute_result"
    }
   ],
   "source": [
    "df['specobjid'].unique()"
   ]
  },
  {
   "cell_type": "code",
   "execution_count": 131,
   "metadata": {},
   "outputs": [
    {
     "data": {
      "text/html": [
       "<div>\n",
       "<style scoped>\n",
       "    .dataframe tbody tr th:only-of-type {\n",
       "        vertical-align: middle;\n",
       "    }\n",
       "\n",
       "    .dataframe tbody tr th {\n",
       "        vertical-align: top;\n",
       "    }\n",
       "\n",
       "    .dataframe thead th {\n",
       "        text-align: right;\n",
       "    }\n",
       "</style>\n",
       "<table border=\"1\" class=\"dataframe\">\n",
       "  <thead>\n",
       "    <tr style=\"text-align: right;\">\n",
       "      <th></th>\n",
       "      <th>objid</th>\n",
       "      <th>ra</th>\n",
       "      <th>dec</th>\n",
       "      <th>u</th>\n",
       "      <th>g</th>\n",
       "      <th>r</th>\n",
       "      <th>i</th>\n",
       "      <th>z</th>\n",
       "      <th>run</th>\n",
       "      <th>rerun</th>\n",
       "      <th>camcol</th>\n",
       "      <th>field</th>\n",
       "      <th>specobjid</th>\n",
       "      <th>class</th>\n",
       "      <th>redshift</th>\n",
       "      <th>plate</th>\n",
       "      <th>mjd</th>\n",
       "      <th>fiberid</th>\n",
       "    </tr>\n",
       "  </thead>\n",
       "  <tbody>\n",
       "    <tr>\n",
       "      <th>objid</th>\n",
       "      <td>1.000000e+00</td>\n",
       "      <td>2.524419e-14</td>\n",
       "      <td>-1.937483e-15</td>\n",
       "      <td>5.581214e-14</td>\n",
       "      <td>1.001149e-13</td>\n",
       "      <td>2.995673e-14</td>\n",
       "      <td>2.212198e-14</td>\n",
       "      <td>-4.107700e-14</td>\n",
       "      <td>-1.553011e-14</td>\n",
       "      <td>NaN</td>\n",
       "      <td>1.921887e-15</td>\n",
       "      <td>5.938881e-16</td>\n",
       "      <td>-1.829075e-15</td>\n",
       "      <td>1.442555e-15</td>\n",
       "      <td>5.085882e-16</td>\n",
       "      <td>4.156934e-16</td>\n",
       "      <td>-3.317582e-15</td>\n",
       "      <td>4.665195e-15</td>\n",
       "    </tr>\n",
       "    <tr>\n",
       "      <th>ra</th>\n",
       "      <td>2.524419e-14</td>\n",
       "      <td>1.000000e+00</td>\n",
       "      <td>3.596046e-03</td>\n",
       "      <td>3.123756e-02</td>\n",
       "      <td>4.390863e-02</td>\n",
       "      <td>4.710290e-02</td>\n",
       "      <td>4.573107e-02</td>\n",
       "      <td>4.294957e-02</td>\n",
       "      <td>-9.274056e-02</td>\n",
       "      <td>NaN</td>\n",
       "      <td>-6.293831e-03</td>\n",
       "      <td>5.946996e-01</td>\n",
       "      <td>-9.532711e-02</td>\n",
       "      <td>4.118918e-02</td>\n",
       "      <td>3.030740e-02</td>\n",
       "      <td>-9.532933e-02</td>\n",
       "      <td>-8.688726e-02</td>\n",
       "      <td>5.748482e-02</td>\n",
       "    </tr>\n",
       "    <tr>\n",
       "      <th>dec</th>\n",
       "      <td>-1.937483e-15</td>\n",
       "      <td>3.596046e-03</td>\n",
       "      <td>1.000000e+00</td>\n",
       "      <td>3.527932e-02</td>\n",
       "      <td>6.187471e-02</td>\n",
       "      <td>6.340395e-02</td>\n",
       "      <td>5.829189e-02</td>\n",
       "      <td>5.687030e-02</td>\n",
       "      <td>7.783849e-01</td>\n",
       "      <td>NaN</td>\n",
       "      <td>1.146139e-01</td>\n",
       "      <td>-1.314714e-01</td>\n",
       "      <td>8.834533e-02</td>\n",
       "      <td>9.124866e-02</td>\n",
       "      <td>6.702076e-02</td>\n",
       "      <td>8.834153e-02</td>\n",
       "      <td>6.614663e-02</td>\n",
       "      <td>1.550124e-01</td>\n",
       "    </tr>\n",
       "    <tr>\n",
       "      <th>u</th>\n",
       "      <td>5.581214e-14</td>\n",
       "      <td>3.123756e-02</td>\n",
       "      <td>3.527932e-02</td>\n",
       "      <td>1.000000e+00</td>\n",
       "      <td>8.492320e-01</td>\n",
       "      <td>6.923790e-01</td>\n",
       "      <td>6.026302e-01</td>\n",
       "      <td>5.514828e-01</td>\n",
       "      <td>3.822910e-02</td>\n",
       "      <td>NaN</td>\n",
       "      <td>9.944672e-03</td>\n",
       "      <td>8.547880e-03</td>\n",
       "      <td>-1.294293e-01</td>\n",
       "      <td>2.845415e-01</td>\n",
       "      <td>1.637409e-01</td>\n",
       "      <td>-1.294304e-01</td>\n",
       "      <td>-1.687927e-01</td>\n",
       "      <td>1.130112e-02</td>\n",
       "    </tr>\n",
       "    <tr>\n",
       "      <th>g</th>\n",
       "      <td>1.001149e-13</td>\n",
       "      <td>4.390863e-02</td>\n",
       "      <td>6.187471e-02</td>\n",
       "      <td>8.492320e-01</td>\n",
       "      <td>1.000000e+00</td>\n",
       "      <td>9.581062e-01</td>\n",
       "      <td>9.074187e-01</td>\n",
       "      <td>8.796222e-01</td>\n",
       "      <td>5.844630e-02</td>\n",
       "      <td>NaN</td>\n",
       "      <td>1.022304e-02</td>\n",
       "      <td>1.465110e-02</td>\n",
       "      <td>-5.497908e-02</td>\n",
       "      <td>3.573522e-01</td>\n",
       "      <td>4.075763e-01</td>\n",
       "      <td>-5.498078e-02</td>\n",
       "      <td>-9.277155e-02</td>\n",
       "      <td>4.718739e-02</td>\n",
       "    </tr>\n",
       "    <tr>\n",
       "      <th>r</th>\n",
       "      <td>2.995673e-14</td>\n",
       "      <td>4.710290e-02</td>\n",
       "      <td>6.340395e-02</td>\n",
       "      <td>6.923790e-01</td>\n",
       "      <td>9.581062e-01</td>\n",
       "      <td>1.000000e+00</td>\n",
       "      <td>9.776718e-01</td>\n",
       "      <td>9.691967e-01</td>\n",
       "      <td>5.726060e-02</td>\n",
       "      <td>NaN</td>\n",
       "      <td>1.074725e-02</td>\n",
       "      <td>1.713294e-02</td>\n",
       "      <td>1.978831e-02</td>\n",
       "      <td>2.786783e-01</td>\n",
       "      <td>4.410797e-01</td>\n",
       "      <td>1.978671e-02</td>\n",
       "      <td>-9.344506e-03</td>\n",
       "      <td>6.108141e-02</td>\n",
       "    </tr>\n",
       "    <tr>\n",
       "      <th>i</th>\n",
       "      <td>2.212198e-14</td>\n",
       "      <td>4.573107e-02</td>\n",
       "      <td>5.829189e-02</td>\n",
       "      <td>6.026302e-01</td>\n",
       "      <td>9.074187e-01</td>\n",
       "      <td>9.776718e-01</td>\n",
       "      <td>1.000000e+00</td>\n",
       "      <td>9.815066e-01</td>\n",
       "      <td>4.976478e-02</td>\n",
       "      <td>NaN</td>\n",
       "      <td>1.346079e-02</td>\n",
       "      <td>1.978147e-02</td>\n",
       "      <td>7.295994e-02</td>\n",
       "      <td>2.053670e-01</td>\n",
       "      <td>4.314500e-01</td>\n",
       "      <td>7.295843e-02</td>\n",
       "      <td>5.089616e-02</td>\n",
       "      <td>6.997739e-02</td>\n",
       "    </tr>\n",
       "    <tr>\n",
       "      <th>z</th>\n",
       "      <td>-4.107700e-14</td>\n",
       "      <td>4.294957e-02</td>\n",
       "      <td>5.687030e-02</td>\n",
       "      <td>5.514828e-01</td>\n",
       "      <td>8.796222e-01</td>\n",
       "      <td>9.691967e-01</td>\n",
       "      <td>9.815066e-01</td>\n",
       "      <td>1.000000e+00</td>\n",
       "      <td>4.825225e-02</td>\n",
       "      <td>NaN</td>\n",
       "      <td>1.092981e-02</td>\n",
       "      <td>1.824845e-02</td>\n",
       "      <td>1.123981e-01</td>\n",
       "      <td>1.494443e-01</td>\n",
       "      <td>4.240342e-01</td>\n",
       "      <td>1.123969e-01</td>\n",
       "      <td>9.565845e-02</td>\n",
       "      <td>6.797999e-02</td>\n",
       "    </tr>\n",
       "    <tr>\n",
       "      <th>run</th>\n",
       "      <td>-1.553011e-14</td>\n",
       "      <td>-9.274056e-02</td>\n",
       "      <td>7.783849e-01</td>\n",
       "      <td>3.822910e-02</td>\n",
       "      <td>5.844630e-02</td>\n",
       "      <td>5.726060e-02</td>\n",
       "      <td>4.976478e-02</td>\n",
       "      <td>4.825225e-02</td>\n",
       "      <td>1.000000e+00</td>\n",
       "      <td>NaN</td>\n",
       "      <td>1.518143e-01</td>\n",
       "      <td>-4.638975e-01</td>\n",
       "      <td>9.360436e-02</td>\n",
       "      <td>1.006273e-01</td>\n",
       "      <td>5.905595e-02</td>\n",
       "      <td>9.360107e-02</td>\n",
       "      <td>7.035433e-02</td>\n",
       "      <td>1.385659e-01</td>\n",
       "    </tr>\n",
       "    <tr>\n",
       "      <th>rerun</th>\n",
       "      <td>NaN</td>\n",
       "      <td>NaN</td>\n",
       "      <td>NaN</td>\n",
       "      <td>NaN</td>\n",
       "      <td>NaN</td>\n",
       "      <td>NaN</td>\n",
       "      <td>NaN</td>\n",
       "      <td>NaN</td>\n",
       "      <td>NaN</td>\n",
       "      <td>NaN</td>\n",
       "      <td>NaN</td>\n",
       "      <td>NaN</td>\n",
       "      <td>NaN</td>\n",
       "      <td>NaN</td>\n",
       "      <td>NaN</td>\n",
       "      <td>NaN</td>\n",
       "      <td>NaN</td>\n",
       "      <td>NaN</td>\n",
       "    </tr>\n",
       "    <tr>\n",
       "      <th>camcol</th>\n",
       "      <td>1.921887e-15</td>\n",
       "      <td>-6.293831e-03</td>\n",
       "      <td>1.146139e-01</td>\n",
       "      <td>9.944672e-03</td>\n",
       "      <td>1.022304e-02</td>\n",
       "      <td>1.074725e-02</td>\n",
       "      <td>1.346079e-02</td>\n",
       "      <td>1.092981e-02</td>\n",
       "      <td>1.518143e-01</td>\n",
       "      <td>NaN</td>\n",
       "      <td>1.000000e+00</td>\n",
       "      <td>-6.792055e-02</td>\n",
       "      <td>4.080943e-02</td>\n",
       "      <td>1.026907e-02</td>\n",
       "      <td>6.833537e-03</td>\n",
       "      <td>4.079461e-02</td>\n",
       "      <td>2.628396e-02</td>\n",
       "      <td>5.356292e-01</td>\n",
       "    </tr>\n",
       "    <tr>\n",
       "      <th>field</th>\n",
       "      <td>5.938881e-16</td>\n",
       "      <td>5.946996e-01</td>\n",
       "      <td>-1.314714e-01</td>\n",
       "      <td>8.547880e-03</td>\n",
       "      <td>1.465110e-02</td>\n",
       "      <td>1.713294e-02</td>\n",
       "      <td>1.978147e-02</td>\n",
       "      <td>1.824845e-02</td>\n",
       "      <td>-4.638975e-01</td>\n",
       "      <td>NaN</td>\n",
       "      <td>-6.792055e-02</td>\n",
       "      <td>1.000000e+00</td>\n",
       "      <td>-9.372375e-02</td>\n",
       "      <td>-2.610148e-03</td>\n",
       "      <td>1.541360e-02</td>\n",
       "      <td>-9.372323e-02</td>\n",
       "      <td>-8.655805e-02</td>\n",
       "      <td>-4.049295e-02</td>\n",
       "    </tr>\n",
       "    <tr>\n",
       "      <th>specobjid</th>\n",
       "      <td>-1.829075e-15</td>\n",
       "      <td>-9.532711e-02</td>\n",
       "      <td>8.834533e-02</td>\n",
       "      <td>-1.294293e-01</td>\n",
       "      <td>-5.497908e-02</td>\n",
       "      <td>1.978831e-02</td>\n",
       "      <td>7.295994e-02</td>\n",
       "      <td>1.123981e-01</td>\n",
       "      <td>9.360436e-02</td>\n",
       "      <td>NaN</td>\n",
       "      <td>4.080943e-02</td>\n",
       "      <td>-9.372375e-02</td>\n",
       "      <td>1.000000e+00</td>\n",
       "      <td>-4.660012e-01</td>\n",
       "      <td>-3.808992e-02</td>\n",
       "      <td>1.000000e+00</td>\n",
       "      <td>9.668799e-01</td>\n",
       "      <td>2.298375e-01</td>\n",
       "    </tr>\n",
       "    <tr>\n",
       "      <th>class</th>\n",
       "      <td>1.442555e-15</td>\n",
       "      <td>4.118918e-02</td>\n",
       "      <td>9.124866e-02</td>\n",
       "      <td>2.845415e-01</td>\n",
       "      <td>3.573522e-01</td>\n",
       "      <td>2.786783e-01</td>\n",
       "      <td>2.053670e-01</td>\n",
       "      <td>1.494443e-01</td>\n",
       "      <td>1.006273e-01</td>\n",
       "      <td>NaN</td>\n",
       "      <td>1.026907e-02</td>\n",
       "      <td>-2.610148e-03</td>\n",
       "      <td>-4.660012e-01</td>\n",
       "      <td>1.000000e+00</td>\n",
       "      <td>6.210460e-01</td>\n",
       "      <td>-4.660039e-01</td>\n",
       "      <td>-5.278030e-01</td>\n",
       "      <td>-1.266851e-02</td>\n",
       "    </tr>\n",
       "    <tr>\n",
       "      <th>redshift</th>\n",
       "      <td>5.085882e-16</td>\n",
       "      <td>3.030740e-02</td>\n",
       "      <td>6.702076e-02</td>\n",
       "      <td>1.637409e-01</td>\n",
       "      <td>4.075763e-01</td>\n",
       "      <td>4.410797e-01</td>\n",
       "      <td>4.314500e-01</td>\n",
       "      <td>4.240342e-01</td>\n",
       "      <td>5.905595e-02</td>\n",
       "      <td>NaN</td>\n",
       "      <td>6.833537e-03</td>\n",
       "      <td>1.541360e-02</td>\n",
       "      <td>-3.808992e-02</td>\n",
       "      <td>6.210460e-01</td>\n",
       "      <td>1.000000e+00</td>\n",
       "      <td>-3.809149e-02</td>\n",
       "      <td>-5.795732e-02</td>\n",
       "      <td>4.653223e-02</td>\n",
       "    </tr>\n",
       "    <tr>\n",
       "      <th>plate</th>\n",
       "      <td>4.156934e-16</td>\n",
       "      <td>-9.532933e-02</td>\n",
       "      <td>8.834153e-02</td>\n",
       "      <td>-1.294304e-01</td>\n",
       "      <td>-5.498078e-02</td>\n",
       "      <td>1.978671e-02</td>\n",
       "      <td>7.295843e-02</td>\n",
       "      <td>1.123969e-01</td>\n",
       "      <td>9.360107e-02</td>\n",
       "      <td>NaN</td>\n",
       "      <td>4.079461e-02</td>\n",
       "      <td>-9.372323e-02</td>\n",
       "      <td>1.000000e+00</td>\n",
       "      <td>-4.660039e-01</td>\n",
       "      <td>-3.809149e-02</td>\n",
       "      <td>1.000000e+00</td>\n",
       "      <td>9.668808e-01</td>\n",
       "      <td>2.298108e-01</td>\n",
       "    </tr>\n",
       "    <tr>\n",
       "      <th>mjd</th>\n",
       "      <td>-3.317582e-15</td>\n",
       "      <td>-8.688726e-02</td>\n",
       "      <td>6.614663e-02</td>\n",
       "      <td>-1.687927e-01</td>\n",
       "      <td>-9.277155e-02</td>\n",
       "      <td>-9.344506e-03</td>\n",
       "      <td>5.089616e-02</td>\n",
       "      <td>9.565845e-02</td>\n",
       "      <td>7.035433e-02</td>\n",
       "      <td>NaN</td>\n",
       "      <td>2.628396e-02</td>\n",
       "      <td>-8.655805e-02</td>\n",
       "      <td>9.668799e-01</td>\n",
       "      <td>-5.278030e-01</td>\n",
       "      <td>-5.795732e-02</td>\n",
       "      <td>9.668808e-01</td>\n",
       "      <td>1.000000e+00</td>\n",
       "      <td>1.903281e-01</td>\n",
       "    </tr>\n",
       "    <tr>\n",
       "      <th>fiberid</th>\n",
       "      <td>4.665195e-15</td>\n",
       "      <td>5.748482e-02</td>\n",
       "      <td>1.550124e-01</td>\n",
       "      <td>1.130112e-02</td>\n",
       "      <td>4.718739e-02</td>\n",
       "      <td>6.108141e-02</td>\n",
       "      <td>6.997739e-02</td>\n",
       "      <td>6.797999e-02</td>\n",
       "      <td>1.385659e-01</td>\n",
       "      <td>NaN</td>\n",
       "      <td>5.356292e-01</td>\n",
       "      <td>-4.049295e-02</td>\n",
       "      <td>2.298375e-01</td>\n",
       "      <td>-1.266851e-02</td>\n",
       "      <td>4.653223e-02</td>\n",
       "      <td>2.298108e-01</td>\n",
       "      <td>1.903281e-01</td>\n",
       "      <td>1.000000e+00</td>\n",
       "    </tr>\n",
       "  </tbody>\n",
       "</table>\n",
       "</div>"
      ],
      "text/plain": [
       "                  objid            ra           dec             u  \\\n",
       "objid      1.000000e+00  2.524419e-14 -1.937483e-15  5.581214e-14   \n",
       "ra         2.524419e-14  1.000000e+00  3.596046e-03  3.123756e-02   \n",
       "dec       -1.937483e-15  3.596046e-03  1.000000e+00  3.527932e-02   \n",
       "u          5.581214e-14  3.123756e-02  3.527932e-02  1.000000e+00   \n",
       "g          1.001149e-13  4.390863e-02  6.187471e-02  8.492320e-01   \n",
       "r          2.995673e-14  4.710290e-02  6.340395e-02  6.923790e-01   \n",
       "i          2.212198e-14  4.573107e-02  5.829189e-02  6.026302e-01   \n",
       "z         -4.107700e-14  4.294957e-02  5.687030e-02  5.514828e-01   \n",
       "run       -1.553011e-14 -9.274056e-02  7.783849e-01  3.822910e-02   \n",
       "rerun               NaN           NaN           NaN           NaN   \n",
       "camcol     1.921887e-15 -6.293831e-03  1.146139e-01  9.944672e-03   \n",
       "field      5.938881e-16  5.946996e-01 -1.314714e-01  8.547880e-03   \n",
       "specobjid -1.829075e-15 -9.532711e-02  8.834533e-02 -1.294293e-01   \n",
       "class      1.442555e-15  4.118918e-02  9.124866e-02  2.845415e-01   \n",
       "redshift   5.085882e-16  3.030740e-02  6.702076e-02  1.637409e-01   \n",
       "plate      4.156934e-16 -9.532933e-02  8.834153e-02 -1.294304e-01   \n",
       "mjd       -3.317582e-15 -8.688726e-02  6.614663e-02 -1.687927e-01   \n",
       "fiberid    4.665195e-15  5.748482e-02  1.550124e-01  1.130112e-02   \n",
       "\n",
       "                      g             r             i             z  \\\n",
       "objid      1.001149e-13  2.995673e-14  2.212198e-14 -4.107700e-14   \n",
       "ra         4.390863e-02  4.710290e-02  4.573107e-02  4.294957e-02   \n",
       "dec        6.187471e-02  6.340395e-02  5.829189e-02  5.687030e-02   \n",
       "u          8.492320e-01  6.923790e-01  6.026302e-01  5.514828e-01   \n",
       "g          1.000000e+00  9.581062e-01  9.074187e-01  8.796222e-01   \n",
       "r          9.581062e-01  1.000000e+00  9.776718e-01  9.691967e-01   \n",
       "i          9.074187e-01  9.776718e-01  1.000000e+00  9.815066e-01   \n",
       "z          8.796222e-01  9.691967e-01  9.815066e-01  1.000000e+00   \n",
       "run        5.844630e-02  5.726060e-02  4.976478e-02  4.825225e-02   \n",
       "rerun               NaN           NaN           NaN           NaN   \n",
       "camcol     1.022304e-02  1.074725e-02  1.346079e-02  1.092981e-02   \n",
       "field      1.465110e-02  1.713294e-02  1.978147e-02  1.824845e-02   \n",
       "specobjid -5.497908e-02  1.978831e-02  7.295994e-02  1.123981e-01   \n",
       "class      3.573522e-01  2.786783e-01  2.053670e-01  1.494443e-01   \n",
       "redshift   4.075763e-01  4.410797e-01  4.314500e-01  4.240342e-01   \n",
       "plate     -5.498078e-02  1.978671e-02  7.295843e-02  1.123969e-01   \n",
       "mjd       -9.277155e-02 -9.344506e-03  5.089616e-02  9.565845e-02   \n",
       "fiberid    4.718739e-02  6.108141e-02  6.997739e-02  6.797999e-02   \n",
       "\n",
       "                    run  rerun        camcol         field     specobjid  \\\n",
       "objid     -1.553011e-14    NaN  1.921887e-15  5.938881e-16 -1.829075e-15   \n",
       "ra        -9.274056e-02    NaN -6.293831e-03  5.946996e-01 -9.532711e-02   \n",
       "dec        7.783849e-01    NaN  1.146139e-01 -1.314714e-01  8.834533e-02   \n",
       "u          3.822910e-02    NaN  9.944672e-03  8.547880e-03 -1.294293e-01   \n",
       "g          5.844630e-02    NaN  1.022304e-02  1.465110e-02 -5.497908e-02   \n",
       "r          5.726060e-02    NaN  1.074725e-02  1.713294e-02  1.978831e-02   \n",
       "i          4.976478e-02    NaN  1.346079e-02  1.978147e-02  7.295994e-02   \n",
       "z          4.825225e-02    NaN  1.092981e-02  1.824845e-02  1.123981e-01   \n",
       "run        1.000000e+00    NaN  1.518143e-01 -4.638975e-01  9.360436e-02   \n",
       "rerun               NaN    NaN           NaN           NaN           NaN   \n",
       "camcol     1.518143e-01    NaN  1.000000e+00 -6.792055e-02  4.080943e-02   \n",
       "field     -4.638975e-01    NaN -6.792055e-02  1.000000e+00 -9.372375e-02   \n",
       "specobjid  9.360436e-02    NaN  4.080943e-02 -9.372375e-02  1.000000e+00   \n",
       "class      1.006273e-01    NaN  1.026907e-02 -2.610148e-03 -4.660012e-01   \n",
       "redshift   5.905595e-02    NaN  6.833537e-03  1.541360e-02 -3.808992e-02   \n",
       "plate      9.360107e-02    NaN  4.079461e-02 -9.372323e-02  1.000000e+00   \n",
       "mjd        7.035433e-02    NaN  2.628396e-02 -8.655805e-02  9.668799e-01   \n",
       "fiberid    1.385659e-01    NaN  5.356292e-01 -4.049295e-02  2.298375e-01   \n",
       "\n",
       "                  class      redshift         plate           mjd  \\\n",
       "objid      1.442555e-15  5.085882e-16  4.156934e-16 -3.317582e-15   \n",
       "ra         4.118918e-02  3.030740e-02 -9.532933e-02 -8.688726e-02   \n",
       "dec        9.124866e-02  6.702076e-02  8.834153e-02  6.614663e-02   \n",
       "u          2.845415e-01  1.637409e-01 -1.294304e-01 -1.687927e-01   \n",
       "g          3.573522e-01  4.075763e-01 -5.498078e-02 -9.277155e-02   \n",
       "r          2.786783e-01  4.410797e-01  1.978671e-02 -9.344506e-03   \n",
       "i          2.053670e-01  4.314500e-01  7.295843e-02  5.089616e-02   \n",
       "z          1.494443e-01  4.240342e-01  1.123969e-01  9.565845e-02   \n",
       "run        1.006273e-01  5.905595e-02  9.360107e-02  7.035433e-02   \n",
       "rerun               NaN           NaN           NaN           NaN   \n",
       "camcol     1.026907e-02  6.833537e-03  4.079461e-02  2.628396e-02   \n",
       "field     -2.610148e-03  1.541360e-02 -9.372323e-02 -8.655805e-02   \n",
       "specobjid -4.660012e-01 -3.808992e-02  1.000000e+00  9.668799e-01   \n",
       "class      1.000000e+00  6.210460e-01 -4.660039e-01 -5.278030e-01   \n",
       "redshift   6.210460e-01  1.000000e+00 -3.809149e-02 -5.795732e-02   \n",
       "plate     -4.660039e-01 -3.809149e-02  1.000000e+00  9.668808e-01   \n",
       "mjd       -5.278030e-01 -5.795732e-02  9.668808e-01  1.000000e+00   \n",
       "fiberid   -1.266851e-02  4.653223e-02  2.298108e-01  1.903281e-01   \n",
       "\n",
       "                fiberid  \n",
       "objid      4.665195e-15  \n",
       "ra         5.748482e-02  \n",
       "dec        1.550124e-01  \n",
       "u          1.130112e-02  \n",
       "g          4.718739e-02  \n",
       "r          6.108141e-02  \n",
       "i          6.997739e-02  \n",
       "z          6.797999e-02  \n",
       "run        1.385659e-01  \n",
       "rerun               NaN  \n",
       "camcol     5.356292e-01  \n",
       "field     -4.049295e-02  \n",
       "specobjid  2.298375e-01  \n",
       "class     -1.266851e-02  \n",
       "redshift   4.653223e-02  \n",
       "plate      2.298108e-01  \n",
       "mjd        1.903281e-01  \n",
       "fiberid    1.000000e+00  "
      ]
     },
     "execution_count": 131,
     "metadata": {},
     "output_type": "execute_result"
    }
   ],
   "source": [
    "cor=df.corr()\n",
    "cor"
   ]
  },
  {
   "cell_type": "code",
   "execution_count": 132,
   "metadata": {},
   "outputs": [
    {
     "data": {
      "image/png": "[encoded data removed]",
      "text/plain": [
       "<Figure size 864x720 with 2 Axes>"
      ]
     },
     "metadata": {
      "needs_background": "light"
     },
     "output_type": "display_data"
    }
   ],
   "source": [
    "import seaborn as sns\n",
    "import matplotlib.pyplot as plt\n",
    "plt.figure(figsize=(12,10))\n",
    "sns.heatmap(cor,annot=True,fmt='.0%',cmap='Blues')\n",
    "plt.show()"
   ]
  },
  {
   "cell_type": "raw",
   "metadata": {},
   "source": [
    "Observations:\n",
    "    \n",
    "    1. redshift attribute is highly correlated with our target class label whereas mjd attribute is most negatively correlated        with output\n",
    "    2. ra-field,run-dec,camcol-fiberid are moderately high correlated attributes.\n",
    "    3. u,g,r,i,z - these attributes are internally very highly correlated with each other, so I will drop all of them except u."
   ]
  },
  {
   "cell_type": "code",
   "execution_count": 133,
   "metadata": {},
   "outputs": [
    {
     "data": {
      "text/plain": [
       "Text(0.5, 1.0, 'correlation with target variable')"
      ]
     },
     "execution_count": 133,
     "metadata": {},
     "output_type": "execute_result"
    },
    {
     "data": {
      "image/png": "[encoded data removed]",
      "text/plain": [
       "<Figure size 576x432 with 1 Axes>"
      ]
     },
     "metadata": {
      "needs_background": "light"
     },
     "output_type": "display_data"
    }
   ],
   "source": [
    "plt.figure(figsize=(8,6))\n",
    "df.drop('class',axis=1).corrwith(df['class']).plot(kind='bar',grid=True)\n",
    "plt.xticks(rotation=20)\n",
    "plt.title(\"correlation with target variable\")"
   ]
  },
  {
   "cell_type": "markdown",
   "metadata": {},
   "source": [
    "From above correlation plot we observe that redshift and mjd are the most highly correlated and most negatively correlated with the target class respectively."
   ]
  },
  {
   "cell_type": "markdown",
   "metadata": {},
   "source": [
    "Univariate Analysis"
   ]
  },
  {
   "cell_type": "code",
   "execution_count": 189,
   "metadata": {},
   "outputs": [
    {
     "data": {
      "image/png": "[encoded data removed]",
      "text/plain": [
       "<Figure size 432x288 with 1 Axes>"
      ]
     },
     "metadata": {
      "needs_background": "light"
     },
     "output_type": "display_data"
    },
    {
     "name": "stdout",
     "output_type": "stream",
     "text": [
      "1    4998\n",
      "0    4152\n",
      "2     850\n",
      "Name: class, dtype: int64\n"
     ]
    }
   ],
   "source": [
    "plt.subplots(figsize=(6,4))\n",
    "sns.countplot(x='class',data=df)\n",
    "plt.title('class count')\n",
    "plt.xlabel('class type')\n",
    "plt.ylabel('class count')\n",
    "plt.show()\n",
    "\n",
    "print(df['class'].value_counts())"
   ]
  },
  {
   "cell_type": "markdown",
   "metadata": {},
   "source": [
    "Observation: From above plot Galaxy class and QSO output class has highest(4998) and lowest(850) count respectively"
   ]
  },
  {
   "cell_type": "markdown",
   "metadata": {},
   "source": [
    "Bi-Variate Analysis"
   ]
  },
  {
   "cell_type": "code",
   "execution_count": 191,
   "metadata": {},
   "outputs": [
    {
     "data": {
      "image/png": "[encoded data removed]",
      "text/plain": [
       "<Figure size 648x216 with 3 Axes>"
      ]
     },
     "metadata": {
      "needs_background": "light"
     },
     "output_type": "display_data"
    }
   ],
   "source": [
    "facet=sns.FacetGrid(df,col='class')\n",
    "facet.map(sns.distplot,'u')\n",
    "plt.show()"
   ]
  },
  {
   "cell_type": "markdown",
   "metadata": {},
   "source": [
    "From above distplots between u vs class, all the classes are left skewed(Negatively skewed)"
   ]
  },
  {
   "cell_type": "code",
   "execution_count": null,
   "metadata": {},
   "outputs": [],
   "source": [
    "plt.figure(figsize=(6,4))\n",
    "sns.lmplot(x=)"
   ]
  },
  {
   "cell_type": "code",
   "execution_count": 134,
   "metadata": {},
   "outputs": [],
   "source": [
    "df.drop(columns=['objid','rerun','field','g','r','i','z','camcol','fiberid','run'],axis=1,inplace=True)"
   ]
  },
  {
   "cell_type": "markdown",
   "metadata": {},
   "source": [
    "Detecting Outliers"
   ]
  },
  {
   "cell_type": "code",
   "execution_count": 135,
   "metadata": {},
   "outputs": [
    {
     "data": {
      "text/plain": [
       "ra              AxesSubplot(0.125,0.125;0.0824468x0.755)\n",
       "dec          AxesSubplot(0.223936,0.125;0.0824468x0.755)\n",
       "u            AxesSubplot(0.322872,0.125;0.0824468x0.755)\n",
       "specobjid    AxesSubplot(0.421809,0.125;0.0824468x0.755)\n",
       "class        AxesSubplot(0.520745,0.125;0.0824468x0.755)\n",
       "redshift     AxesSubplot(0.619681,0.125;0.0824468x0.755)\n",
       "plate        AxesSubplot(0.718617,0.125;0.0824468x0.755)\n",
       "mjd          AxesSubplot(0.817553,0.125;0.0824468x0.755)\n",
       "dtype: object"
      ]
     },
     "execution_count": 135,
     "metadata": {},
     "output_type": "execute_result"
    },
    {
     "data": {
      "image/png": "[encoded data removed]",
      "text/plain": [
       "<Figure size 432x288 with 8 Axes>"
      ]
     },
     "metadata": {
      "needs_background": "light"
     },
     "output_type": "display_data"
    }
   ],
   "source": [
    "df.plot(kind='box',subplots=True)"
   ]
  },
  {
   "cell_type": "markdown",
   "metadata": {},
   "source": [
    "From above boxplot subplots we observe that ra,u,specobjid,redshift and plate columns has high number of outliers within."
   ]
  },
  {
   "cell_type": "markdown",
   "metadata": {},
   "source": [
    "Removing Outliers"
   ]
  },
  {
   "cell_type": "code",
   "execution_count": 136,
   "metadata": {},
   "outputs": [],
   "source": [
    "from scipy.stats import zscore\n",
    "z=np.abs(zscore(df))\n",
    "df_new=df[(z<3).all(axis=1)]"
   ]
  },
  {
   "cell_type": "code",
   "execution_count": 137,
   "metadata": {},
   "outputs": [
    {
     "data": {
      "text/plain": [
       "(8752, 8)"
      ]
     },
     "execution_count": 137,
     "metadata": {},
     "output_type": "execute_result"
    }
   ],
   "source": [
    "df_new.shape"
   ]
  },
  {
   "cell_type": "code",
   "execution_count": 138,
   "metadata": {},
   "outputs": [
    {
     "data": {
      "text/plain": [
       "(10000, 8)"
      ]
     },
     "execution_count": 138,
     "metadata": {},
     "output_type": "execute_result"
    }
   ],
   "source": [
    "df.shape"
   ]
  },
  {
   "cell_type": "markdown",
   "metadata": {},
   "source": [
    "Data Preprocessing - Normalization,Imputing and Standardization"
   ]
  },
  {
   "cell_type": "code",
   "execution_count": 161,
   "metadata": {},
   "outputs": [
    {
     "data": {
      "text/plain": [
       "ra          -0.129489\n",
       "dec          1.216894\n",
       "u           -0.989262\n",
       "specobjid    1.315505\n",
       "class        0.196944\n",
       "redshift     4.949887\n",
       "plate        1.315490\n",
       "mjd          0.961263\n",
       "dtype: float64"
      ]
     },
     "execution_count": 161,
     "metadata": {},
     "output_type": "execute_result"
    }
   ],
   "source": [
    "df_new.skew()"
   ]
  },
  {
   "cell_type": "code",
   "execution_count": 162,
   "metadata": {},
   "outputs": [],
   "source": [
    "x=df_new.drop(columns=['class'],axis=1)"
   ]
  },
  {
   "cell_type": "code",
   "execution_count": 163,
   "metadata": {},
   "outputs": [],
   "source": [
    "y=df_new['class']"
   ]
  },
  {
   "cell_type": "code",
   "execution_count": 164,
   "metadata": {},
   "outputs": [
    {
     "data": {
      "text/plain": [
       "ra          -0.129489\n",
       "dec          1.216894\n",
       "u           -0.989262\n",
       "specobjid    1.315505\n",
       "redshift     4.949887\n",
       "plate        1.315490\n",
       "mjd          0.961263\n",
       "dtype: float64"
      ]
     },
     "execution_count": 164,
     "metadata": {},
     "output_type": "execute_result"
    }
   ],
   "source": [
    "x.skew()"
   ]
  },
  {
   "cell_type": "code",
   "execution_count": 165,
   "metadata": {},
   "outputs": [],
   "source": [
    "import numpy as np\n",
    "import warnings\n",
    "warnings.filterwarnings('ignore')\n",
    "df.skew()\n",
    "for col in x.skew().index:\n",
    "    if col in x.describe().columns:\n",
    "        if x[col].skew()>0.55:\n",
    "            x[col]=np.sqrt(x[col])\n",
    "        if x[col].skew()<-0.55:\n",
    "            x[col]=(x[col])**2"
   ]
  },
  {
   "cell_type": "code",
   "execution_count": 166,
   "metadata": {},
   "outputs": [
    {
     "data": {
      "text/plain": [
       "ra          -0.129489\n",
       "dec          0.317338\n",
       "u           -0.906392\n",
       "specobjid    0.949773\n",
       "redshift     1.746239\n",
       "plate        0.949755\n",
       "mjd          0.953945\n",
       "dtype: float64"
      ]
     },
     "execution_count": 166,
     "metadata": {},
     "output_type": "execute_result"
    }
   ],
   "source": [
    "x.skew()"
   ]
  },
  {
   "cell_type": "code",
   "execution_count": 167,
   "metadata": {},
   "outputs": [
    {
     "data": {
      "text/plain": [
       "ra              0\n",
       "dec          3533\n",
       "u               0\n",
       "specobjid       0\n",
       "redshift     1610\n",
       "plate           0\n",
       "mjd             0\n",
       "dtype: int64"
      ]
     },
     "execution_count": 167,
     "metadata": {},
     "output_type": "execute_result"
    }
   ],
   "source": [
    "x.isnull().sum()"
   ]
  },
  {
   "cell_type": "code",
   "execution_count": 168,
   "metadata": {},
   "outputs": [],
   "source": [
    "x['dec'].fillna(x['dec'].mean(),inplace=True)\n",
    "x['redshift'].fillna(x['redshift'].mean(),inplace=True)"
   ]
  },
  {
   "cell_type": "code",
   "execution_count": 169,
   "metadata": {},
   "outputs": [],
   "source": [
    "from sklearn.preprocessing import StandardScaler\n",
    "sc=StandardScaler()\n",
    "x=sc.fit_transform(x)\n",
    "x=pd.DataFrame(x)"
   ]
  },
  {
   "cell_type": "markdown",
   "metadata": {},
   "source": [
    "Model Training"
   ]
  },
  {
   "cell_type": "code",
   "execution_count": 170,
   "metadata": {},
   "outputs": [],
   "source": [
    "from sklearn.tree import DecisionTreeClassifier\n",
    "from sklearn.svm import SVC\n",
    "from sklearn.neighbors import KNeighborsClassifier\n",
    "from sklearn.metrics import accuracy_score,confusion_matrix,classification_report\n",
    "from sklearn.model_selection import train_test_split,GridSearchCV,cross_val_score"
   ]
  },
  {
   "cell_type": "code",
   "execution_count": 171,
   "metadata": {},
   "outputs": [],
   "source": [
    "x_train,x_test,y_train,y_test=train_test_split(x,y,random_state=59,test_size=0.30)"
   ]
  },
  {
   "cell_type": "code",
   "execution_count": 172,
   "metadata": {},
   "outputs": [
    {
     "name": "stdout",
     "output_type": "stream",
     "text": [
      "(6126, 7) \t (2626, 7)\n"
     ]
    }
   ],
   "source": [
    "print(x_train.shape,'\\t',x_test.shape)"
   ]
  },
  {
   "cell_type": "code",
   "execution_count": 173,
   "metadata": {},
   "outputs": [
    {
     "name": "stdout",
     "output_type": "stream",
     "text": [
      "(6126,) \t (2626,)\n"
     ]
    }
   ],
   "source": [
    "print(y_train.shape,'\\t',y_test.shape)"
   ]
  },
  {
   "cell_type": "code",
   "execution_count": 174,
   "metadata": {},
   "outputs": [
    {
     "name": "stdout",
     "output_type": "stream",
     "text": [
      "Score of DecisionTreeClassifier() is: 1.0\n",
      "accuracy score: 0.9836252856054837\n",
      "confusion matrix: [[1064    3    0]\n",
      " [   2 1424   17]\n",
      " [   1   20   95]]\n",
      "classification report:               precision    recall  f1-score   support\n",
      "\n",
      "           0       1.00      1.00      1.00      1067\n",
      "           1       0.98      0.99      0.99      1443\n",
      "           2       0.85      0.82      0.83       116\n",
      "\n",
      "    accuracy                           0.98      2626\n",
      "   macro avg       0.94      0.93      0.94      2626\n",
      "weighted avg       0.98      0.98      0.98      2626\n",
      "\n",
      "\n",
      "\n",
      "Score of SVC() is: 0.9221351616062684\n",
      "accuracy score: 0.913937547600914\n",
      "confusion matrix: [[ 909  158    0]\n",
      " [  45 1394    4]\n",
      " [   2   17   97]]\n",
      "classification report:               precision    recall  f1-score   support\n",
      "\n",
      "           0       0.95      0.85      0.90      1067\n",
      "           1       0.89      0.97      0.93      1443\n",
      "           2       0.96      0.84      0.89       116\n",
      "\n",
      "    accuracy                           0.91      2626\n",
      "   macro avg       0.93      0.88      0.91      2626\n",
      "weighted avg       0.92      0.91      0.91      2626\n",
      "\n",
      "\n",
      "\n",
      "Score of KNeighborsClassifier() is: 0.9428664707802807\n",
      "accuracy score: 0.9074638233054074\n",
      "confusion matrix: [[ 946  121    0]\n",
      " [  88 1349    6]\n",
      " [   3   25   88]]\n",
      "classification report:               precision    recall  f1-score   support\n",
      "\n",
      "           0       0.91      0.89      0.90      1067\n",
      "           1       0.90      0.93      0.92      1443\n",
      "           2       0.94      0.76      0.84       116\n",
      "\n",
      "    accuracy                           0.91      2626\n",
      "   macro avg       0.92      0.86      0.89      2626\n",
      "weighted avg       0.91      0.91      0.91      2626\n",
      "\n",
      "\n",
      "\n"
     ]
    }
   ],
   "source": [
    "dtc=DecisionTreeClassifier()\n",
    "svc=SVC()\n",
    "knc=KNeighborsClassifier()\n",
    "model=[dtc,svc,knc]\n",
    "for m in model:\n",
    "    m.fit(x_train,y_train)\n",
    "    print('Score of',m,'is:',m.score(x_train,y_train))\n",
    "    y_pred=m.predict(x_test)\n",
    "    print('accuracy score:',accuracy_score(y_test,y_pred))\n",
    "    print('confusion matrix:',confusion_matrix(y_test,y_pred))\n",
    "    print('classification report:',classification_report(y_test,y_pred))\n",
    "    print('\\n')"
   ]
  },
  {
   "cell_type": "raw",
   "metadata": {},
   "source": [
    "Observations:\n",
    "    \n",
    "    1. In terms of accuracy score DecisionTreeClassifier is performing better than other two.\n",
    "    2. In terms of precision SVC is performing good on all the output classes (0,1 and 2) but DTC is relatively performing            better on only 1 and 2 classes.\n",
    "\n",
    "So here both DTC and SVC are performing good."
   ]
  },
  {
   "cell_type": "markdown",
   "metadata": {},
   "source": [
    "Hyperparameter Tuning"
   ]
  },
  {
   "cell_type": "code",
   "execution_count": 175,
   "metadata": {},
   "outputs": [
    {
     "name": "stdout",
     "output_type": "stream",
     "text": [
      "{'criterion': 'entropy'}\n"
     ]
    }
   ],
   "source": [
    "grid_param={'criterion':['gini','entropy']}\n",
    "gd_sr=GridSearchCV(estimator=dtc,param_grid=grid_param,scoring='accuracy',cv=5)\n",
    "gd_sr.fit(x,y)\n",
    "best_parameters=gd_sr.best_params_\n",
    "print(best_parameters)"
   ]
  },
  {
   "cell_type": "code",
   "execution_count": 176,
   "metadata": {},
   "outputs": [
    {
     "name": "stdout",
     "output_type": "stream",
     "text": [
      "{'n_neighbors': 9}\n"
     ]
    }
   ],
   "source": [
    "grid_param={'n_neighbors':range(1,100)}\n",
    "gd_sr=GridSearchCV(estimator=knc,param_grid=grid_param,scoring='accuracy',cv=5)\n",
    "gd_sr.fit(x,y)\n",
    "best_parameters=gd_sr.best_params_\n",
    "print(best_parameters)"
   ]
  },
  {
   "cell_type": "markdown",
   "metadata": {},
   "source": [
    "Passing best parameters to the classifiers finding out results"
   ]
  },
  {
   "cell_type": "code",
   "execution_count": 177,
   "metadata": {},
   "outputs": [
    {
     "name": "stdout",
     "output_type": "stream",
     "text": [
      "Score of DecisionTreeClassifier(criterion='entropy') is: 1.0\n",
      "accuracy score: 0.9843869002284844\n",
      "confusion matrix: [[1066    1    0]\n",
      " [   0 1425   18]\n",
      " [   1   21   94]]\n",
      "classification report:               precision    recall  f1-score   support\n",
      "\n",
      "           0       1.00      1.00      1.00      1067\n",
      "           1       0.98      0.99      0.99      1443\n",
      "           2       0.84      0.81      0.82       116\n",
      "\n",
      "    accuracy                           0.98      2626\n",
      "   macro avg       0.94      0.93      0.94      2626\n",
      "weighted avg       0.98      0.98      0.98      2626\n",
      "\n",
      "Score of KNeighborsClassifier(n_neighbors=9) is: 0.9285014691478942\n",
      "accuracy score: 0.9127951256664127\n",
      "confusion matrix: [[ 935  132    0]\n",
      " [  64 1376    3]\n",
      " [   4   26   86]]\n",
      "classification report:               precision    recall  f1-score   support\n",
      "\n",
      "           0       0.93      0.88      0.90      1067\n",
      "           1       0.90      0.95      0.92      1443\n",
      "           2       0.97      0.74      0.84       116\n",
      "\n",
      "    accuracy                           0.91      2626\n",
      "   macro avg       0.93      0.86      0.89      2626\n",
      "weighted avg       0.91      0.91      0.91      2626\n",
      "\n"
     ]
    }
   ],
   "source": [
    "dtc=DecisionTreeClassifier(criterion='entropy')\n",
    "knc=KNeighborsClassifier(n_neighbors=9)\n",
    "model=[dtc,knc]\n",
    "for m in model:\n",
    "    m.fit(x_train,y_train)\n",
    "    print('Score of',m,'is:',m.score(x_train,y_train))\n",
    "    y_pred=m.predict(x_test)\n",
    "    print('accuracy score:',accuracy_score(y_test,y_pred))\n",
    "    print('confusion matrix:',confusion_matrix(y_test,y_pred))\n",
    "    print('classification report:',classification_report(y_test,y_pred))"
   ]
  },
  {
   "cell_type": "code",
   "execution_count": 179,
   "metadata": {},
   "outputs": [
    {
     "name": "stdout",
     "output_type": "stream",
     "text": [
      "[0.98400914 0.98572244 0.97828571 0.97085714 0.98685714]\n",
      "mean score and standard deviation of DecisionTreeClassifier(criterion='entropy') is 0.9811463163906339 0.005929593031899015\n",
      "\n",
      "\n",
      "[0.92061679 0.91776128 0.89942857 0.90857143 0.92171429]\n",
      "mean score and standard deviation of KNeighborsClassifier(n_neighbors=9) is 0.9136184710777515 0.00846767309082999\n",
      "\n",
      "\n"
     ]
    }
   ],
   "source": [
    "from sklearn.model_selection import cross_val_score\n",
    "model=[DecisionTreeClassifier(criterion='entropy'),KNeighborsClassifier(n_neighbors=9)]\n",
    "for m in model:\n",
    "    mscores=cross_val_score(m,x,y,cv=5,scoring='accuracy')\n",
    "    print(mscores)\n",
    "    print('mean score and standard deviation of',m,'is',mscores.mean(),mscores.std())\n",
    "    print('\\n')"
   ]
  },
  {
   "cell_type": "markdown",
   "metadata": {},
   "source": [
    "From above we observe Mean score of DTC>KNC,also Standard deviation in DTC<KNC."
   ]
  },
  {
   "cell_type": "markdown",
   "metadata": {},
   "source": [
    "Using Ensemble Technique To Boostup Our Score"
   ]
  },
  {
   "cell_type": "code",
   "execution_count": 180,
   "metadata": {},
   "outputs": [],
   "source": [
    "from sklearn.ensemble import RandomForestClassifier\n",
    "from sklearn.ensemble import AdaBoostClassifier\n",
    "from sklearn.ensemble import GradientBoostingClassifier\n",
    "from sklearn.ensemble import BaggingClassifier\n",
    "from sklearn.ensemble import ExtraTreesClassifier"
   ]
  },
  {
   "cell_type": "code",
   "execution_count": 181,
   "metadata": {},
   "outputs": [
    {
     "name": "stdout",
     "output_type": "stream",
     "text": [
      "Score of RandomForestClassifier() is: 1.0\n",
      "accuracy score: 0.9821020563594821\n",
      "confusion matrix: [[1057   10    0]\n",
      " [  10 1428    5]\n",
      " [   1   21   94]]\n",
      "classification report:               precision    recall  f1-score   support\n",
      "\n",
      "           0       0.99      0.99      0.99      1067\n",
      "           1       0.98      0.99      0.98      1443\n",
      "           2       0.95      0.81      0.87       116\n",
      "\n",
      "    accuracy                           0.98      2626\n",
      "   macro avg       0.97      0.93      0.95      2626\n",
      "weighted avg       0.98      0.98      0.98      2626\n",
      "\n",
      "*****************************************************************************************************************\n",
      "\n",
      "\n",
      "Score of AdaBoostClassifier() is: 0.8540646425073457\n",
      "accuracy score: 0.8526275704493527\n",
      "confusion matrix: [[ 768  299    0]\n",
      " [  13 1367   63]\n",
      " [   1   11  104]]\n",
      "classification report:               precision    recall  f1-score   support\n",
      "\n",
      "           0       0.98      0.72      0.83      1067\n",
      "           1       0.82      0.95      0.88      1443\n",
      "           2       0.62      0.90      0.73       116\n",
      "\n",
      "    accuracy                           0.85      2626\n",
      "   macro avg       0.81      0.85      0.81      2626\n",
      "weighted avg       0.87      0.85      0.85      2626\n",
      "\n",
      "*****************************************************************************************************************\n",
      "\n",
      "\n",
      "Score of GradientBoostingClassifier() is: 0.9967352269017303\n",
      "accuracy score: 0.9893373952779894\n",
      "confusion matrix: [[1067    0    0]\n",
      " [   1 1435    7]\n",
      " [   1   19   96]]\n",
      "classification report:               precision    recall  f1-score   support\n",
      "\n",
      "           0       1.00      1.00      1.00      1067\n",
      "           1       0.99      0.99      0.99      1443\n",
      "           2       0.93      0.83      0.88       116\n",
      "\n",
      "    accuracy                           0.99      2626\n",
      "   macro avg       0.97      0.94      0.96      2626\n",
      "weighted avg       0.99      0.99      0.99      2626\n",
      "\n",
      "*****************************************************************************************************************\n",
      "\n",
      "\n",
      "Score of BaggingClassifier() is: 0.9973881815213843\n",
      "accuracy score: 0.9893373952779894\n",
      "confusion matrix: [[1065    2    0]\n",
      " [   3 1432    8]\n",
      " [   1   14  101]]\n",
      "classification report:               precision    recall  f1-score   support\n",
      "\n",
      "           0       1.00      1.00      1.00      1067\n",
      "           1       0.99      0.99      0.99      1443\n",
      "           2       0.93      0.87      0.90       116\n",
      "\n",
      "    accuracy                           0.99      2626\n",
      "   macro avg       0.97      0.95      0.96      2626\n",
      "weighted avg       0.99      0.99      0.99      2626\n",
      "\n",
      "*****************************************************************************************************************\n",
      "\n",
      "\n",
      "Score of ExtraTreesClassifier() is: 1.0\n",
      "accuracy score: 0.9421172886519421\n",
      "confusion matrix: [[ 972   95    0]\n",
      " [  31 1408    4]\n",
      " [   1   21   94]]\n",
      "classification report:               precision    recall  f1-score   support\n",
      "\n",
      "           0       0.97      0.91      0.94      1067\n",
      "           1       0.92      0.98      0.95      1443\n",
      "           2       0.96      0.81      0.88       116\n",
      "\n",
      "    accuracy                           0.94      2626\n",
      "   macro avg       0.95      0.90      0.92      2626\n",
      "weighted avg       0.94      0.94      0.94      2626\n",
      "\n",
      "*****************************************************************************************************************\n",
      "\n",
      "\n"
     ]
    }
   ],
   "source": [
    "model=[RandomForestClassifier(),AdaBoostClassifier(),GradientBoostingClassifier(),BaggingClassifier(),ExtraTreesClassifier()]\n",
    "\n",
    "for m in model:\n",
    "    m.fit(x_train,y_train)\n",
    "    print('Score of',m,'is:',m.score(x_train,y_train))\n",
    "    y_pred=m.predict(x_test)\n",
    "    print('accuracy score:',accuracy_score(y_test,y_pred))\n",
    "    print('confusion matrix:',confusion_matrix(y_test,y_pred))\n",
    "    print('classification report:',classification_report(y_test,y_pred))\n",
    "    print('*****************************************************************************************************************')\n",
    "    print('\\n')"
   ]
  },
  {
   "cell_type": "markdown",
   "metadata": {},
   "source": [
    "From above ensembling techniques we observe that GradientBoostingClassifier and BaggingClassifier are in competition for being best model while BaggingClassifier having accuracy score slightly higher than GradientBoostingClassifier due to the reason that GradientBoostingClassifier has slightly less precision on output class 2.  "
   ]
  },
  {
   "cell_type": "markdown",
   "metadata": {},
   "source": [
    "Let's analyse through cross validation score and confusion matrix and see which one is the final winner. "
   ]
  },
  {
   "cell_type": "code",
   "execution_count": 182,
   "metadata": {},
   "outputs": [
    {
     "name": "stdout",
     "output_type": "stream",
     "text": [
      "[0.98001142 0.98286693 0.97942857 0.97542857 0.98628571]\n",
      "mean score and standard deviation of RandomForestClassifier() is 0.9808042424736886 0.0036254682572813973\n",
      "\n",
      "\n",
      "[0.89377499 0.86921759 0.86742857 0.85085714 0.88514286]\n",
      "mean score and standard deviation of AdaBoostClassifier() is 0.8732842294199233 0.014928487157889015\n",
      "\n",
      "\n",
      "[0.98572244 0.98743575 0.99028571 0.98457143 0.988     ]\n",
      "mean score and standard deviation of GradientBoostingClassifier() is 0.987203067634821 0.0019651830797546236\n",
      "\n",
      "\n",
      "[0.98972016 0.98800685 0.98114286 0.97314286 0.98857143]\n",
      "mean score and standard deviation of BaggingClassifier() is 0.9841168311984989 0.006255327809575632\n",
      "\n",
      "\n",
      "[0.93889206 0.93889206 0.92857143 0.92285714 0.94342857]\n",
      "mean score and standard deviation of ExtraTreesClassifier() is 0.9345282532430448 0.0076026296732648515\n",
      "\n",
      "\n"
     ]
    }
   ],
   "source": [
    "from sklearn.model_selection import cross_val_score\n",
    "model=[RandomForestClassifier(),AdaBoostClassifier(),GradientBoostingClassifier(),BaggingClassifier(),ExtraTreesClassifier()]\n",
    "for m in model:\n",
    "    mscores=cross_val_score(m,x,y,cv=5,scoring='accuracy')\n",
    "    print(mscores)\n",
    "    print('mean score and standard deviation of',m,'is',mscores.mean(),mscores.std())\n",
    "    print('\\n')"
   ]
  },
  {
   "cell_type": "markdown",
   "metadata": {},
   "source": [
    "From above CVS of GradientBoostingClassifier>BaggingClassifier, also SD of GradientBoostingClassifier<BaggingClassifier,so here GradientBoostingClassifier performing better "
   ]
  },
  {
   "cell_type": "code",
   "execution_count": 183,
   "metadata": {},
   "outputs": [
    {
     "data": {
      "image/png": "[encoded data removed]",
      "text/plain": [
       "<Figure size 432x288 with 1 Axes>"
      ]
     },
     "metadata": {
      "needs_background": "light"
     },
     "output_type": "display_data"
    }
   ],
   "source": [
    "gb=GradientBoostingClassifier()\n",
    "gb.fit(x_train,y_train)\n",
    "predgb=gb.predict(x_test)\n",
    "cm=confusion_matrix(y_test,predgb)\n",
    "sns.heatmap(cm,annot=True,cbar=False,cmap='Blues')\n",
    "plt.title('confusion matrix-GreadientBoostingClassifier')\n",
    "plt.show()"
   ]
  },
  {
   "cell_type": "code",
   "execution_count": 184,
   "metadata": {},
   "outputs": [
    {
     "data": {
      "image/png": "[encoded data removed]",
      "text/plain": [
       "<Figure size 432x288 with 1 Axes>"
      ]
     },
     "metadata": {
      "needs_background": "light"
     },
     "output_type": "display_data"
    }
   ],
   "source": [
    "bgc=BaggingClassifier()\n",
    "bgc.fit(x_train,y_train)\n",
    "predbgc=bgc.predict(x_test)\n",
    "cm=confusion_matrix(y_test,predbgc)\n",
    "sns.heatmap(cm,annot=True,cbar=False,cmap='Blues')\n",
    "plt.title('confusion matrix-BaggingClassifier')\n",
    "plt.show()"
   ]
  },
  {
   "cell_type": "markdown",
   "metadata": {},
   "source": [
    "From above Confusion matrices GradientBoostingClassifier has slightly lesser False positives and False negatives as compared to BaggingClassifier, so here also we see GradientBoostingClassifier is better than BaggingClassifier.  "
   ]
  },
  {
   "cell_type": "markdown",
   "metadata": {},
   "source": [
    "Saving GradientBoostingClassifier model"
   ]
  },
  {
   "cell_type": "code",
   "execution_count": 80,
   "metadata": {},
   "outputs": [
    {
     "data": {
      "text/plain": [
       "['spacesrvgb.pkl']"
      ]
     },
     "execution_count": 80,
     "metadata": {},
     "output_type": "execute_result"
    }
   ],
   "source": [
    "import joblib\n",
    "file='spacesrvgb.pkl'\n",
    "joblib.dump(gb,file)"
   ]
  },
  {
   "cell_type": "raw",
   "metadata": {},
   "source": [
    "Conclusions:\n",
    "\n",
    "1.Here from above Data Analysis and Modelling I have seen that DTC and SVC models were in competition till I used ensembling techniques.\n",
    "2.Then I used ensembling techniques and found out that GradientBoostingClassifier performed very good but also observed that BaggingClassifier was working very good.\n",
    "3.Since all the classifier models are performing good and there is no overfitting present in any of the model as I have checked it by finding Cross validation scores and there is very less difference between the model score and cross validation score.\n",
    "4.Still after analysing parameters like CVS and confusion matrix I have saved GradientBoostingClassifier as the best model for future predictions."
   ]
  },
  {
   "cell_type": "code",
   "execution_count": null,
   "metadata": {},
   "outputs": [],
   "source": []
  }
 ],
 "metadata": {
  "kernelspec": {
   "display_name": "Python 3",
   "language": "python",
   "name": "python3"
  },
  "language_info": {
   "codemirror_mode": {
    "name": "ipython",
    "version": 3
   },
   "file_extension": ".py",
   "mimetype": "text/x-python",
   "name": "python",
   "nbconvert_exporter": "python",
   "pygments_lexer": "ipython3",
   "version": "3.8.3"
  }
 },
 "nbformat": 4,
 "nbformat_minor": 4
}
