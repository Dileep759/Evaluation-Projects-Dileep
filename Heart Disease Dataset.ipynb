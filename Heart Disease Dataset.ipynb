{
 "cells": [
  {
   "cell_type": "code",
   "execution_count": 417,
   "metadata": {},
   "outputs": [
    {
     "data": {
      "text/html": [
       "<div>\n",
       "<style scoped>\n",
       "    .dataframe tbody tr th:only-of-type {\n",
       "        vertical-align: middle;\n",
       "    }\n",
       "\n",
       "    .dataframe tbody tr th {\n",
       "        vertical-align: top;\n",
       "    }\n",
       "\n",
       "    .dataframe thead th {\n",
       "        text-align: right;\n",
       "    }\n",
       "</style>\n",
       "<table border=\"1\" class=\"dataframe\">\n",
       "  <thead>\n",
       "    <tr style=\"text-align: right;\">\n",
       "      <th></th>\n",
       "      <th>age</th>\n",
       "      <th>sex</th>\n",
       "      <th>cp</th>\n",
       "      <th>trestbps</th>\n",
       "      <th>chol</th>\n",
       "      <th>fbs</th>\n",
       "      <th>restecg</th>\n",
       "      <th>thalach</th>\n",
       "      <th>exang</th>\n",
       "      <th>oldpeak</th>\n",
       "      <th>slope</th>\n",
       "      <th>ca</th>\n",
       "      <th>thal</th>\n",
       "      <th>num</th>\n",
       "    </tr>\n",
       "  </thead>\n",
       "  <tbody>\n",
       "    <tr>\n",
       "      <th>0</th>\n",
       "      <td>63</td>\n",
       "      <td>1</td>\n",
       "      <td>4</td>\n",
       "      <td>140</td>\n",
       "      <td>260</td>\n",
       "      <td>0</td>\n",
       "      <td>1</td>\n",
       "      <td>112</td>\n",
       "      <td>1</td>\n",
       "      <td>3</td>\n",
       "      <td>2</td>\n",
       "      <td>?</td>\n",
       "      <td>?</td>\n",
       "      <td>2</td>\n",
       "    </tr>\n",
       "    <tr>\n",
       "      <th>1</th>\n",
       "      <td>44</td>\n",
       "      <td>1</td>\n",
       "      <td>4</td>\n",
       "      <td>130</td>\n",
       "      <td>209</td>\n",
       "      <td>0</td>\n",
       "      <td>1</td>\n",
       "      <td>127</td>\n",
       "      <td>0</td>\n",
       "      <td>0</td>\n",
       "      <td>?</td>\n",
       "      <td>?</td>\n",
       "      <td>?</td>\n",
       "      <td>0</td>\n",
       "    </tr>\n",
       "    <tr>\n",
       "      <th>2</th>\n",
       "      <td>60</td>\n",
       "      <td>1</td>\n",
       "      <td>4</td>\n",
       "      <td>132</td>\n",
       "      <td>218</td>\n",
       "      <td>0</td>\n",
       "      <td>1</td>\n",
       "      <td>140</td>\n",
       "      <td>1</td>\n",
       "      <td>1.5</td>\n",
       "      <td>3</td>\n",
       "      <td>?</td>\n",
       "      <td>?</td>\n",
       "      <td>2</td>\n",
       "    </tr>\n",
       "    <tr>\n",
       "      <th>3</th>\n",
       "      <td>55</td>\n",
       "      <td>1</td>\n",
       "      <td>4</td>\n",
       "      <td>142</td>\n",
       "      <td>228</td>\n",
       "      <td>0</td>\n",
       "      <td>1</td>\n",
       "      <td>149</td>\n",
       "      <td>1</td>\n",
       "      <td>2.5</td>\n",
       "      <td>1</td>\n",
       "      <td>?</td>\n",
       "      <td>?</td>\n",
       "      <td>1</td>\n",
       "    </tr>\n",
       "    <tr>\n",
       "      <th>4</th>\n",
       "      <td>66</td>\n",
       "      <td>1</td>\n",
       "      <td>3</td>\n",
       "      <td>110</td>\n",
       "      <td>213</td>\n",
       "      <td>1</td>\n",
       "      <td>2</td>\n",
       "      <td>99</td>\n",
       "      <td>1</td>\n",
       "      <td>1.3</td>\n",
       "      <td>2</td>\n",
       "      <td>?</td>\n",
       "      <td>?</td>\n",
       "      <td>0</td>\n",
       "    </tr>\n",
       "  </tbody>\n",
       "</table>\n",
       "</div>"
      ],
      "text/plain": [
       "   age  sex  cp trestbps chol fbs  restecg thalach exang oldpeak slope ca  \\\n",
       "0   63    1   4      140  260   0        1     112     1       3     2  ?   \n",
       "1   44    1   4      130  209   0        1     127     0       0     ?  ?   \n",
       "2   60    1   4      132  218   0        1     140     1     1.5     3  ?   \n",
       "3   55    1   4      142  228   0        1     149     1     2.5     1  ?   \n",
       "4   66    1   3      110  213   1        2      99     1     1.3     2  ?   \n",
       "\n",
       "  thal  num  \n",
       "0    ?    2  \n",
       "1    ?    0  \n",
       "2    ?    2  \n",
       "3    ?    1  \n",
       "4    ?    0  "
      ]
     },
     "execution_count": 417,
     "metadata": {},
     "output_type": "execute_result"
    }
   ],
   "source": [
    "import pandas as pd\n",
    "df=pd.read_csv('heartdisease_data.csv')\n",
    "df.head()"
   ]
  },
  {
   "cell_type": "markdown",
   "metadata": {},
   "source": [
    "Data Set Information:\n",
    "    This database contains 14 attributes. In particular, the Cleveland database is the only one that has been used by ML researchers to\n",
    "    this date. The \"goal\" field refers to the presence of heart disease in the patient. It is integer valued from 0 (no presence) to 4. Experiments with the Cleveland database have concentrated on simply attempting to distinguish presence (values 1,2,3,4) from absence (value 0)"
   ]
  },
  {
   "cell_type": "markdown",
   "metadata": {},
   "source": [
    "Attribute Information:\n",
    "    \n",
    "    1.age: age in years\n",
    "    2.sex: sex (1 = male; 0 = female)\n",
    "    3.cp: chest pain type\n",
    "      Value 1: typical angina\n",
    "      Value 2: atypical angina\n",
    "      Value 3: non-anginal pain\n",
    "      Value 4: asymptomatic \n",
    "    4.trestbps: resting blood pressure (in mm Hg on admission to the hospital)\n",
    "    5.chol: serum cholestoral in mg/dl\n",
    "    6.fbs: (fasting blood sugar > 120 mg/dl) (1 = true; 0 = false) \n",
    "    7.restecg: resting electrocardiographic results\n",
    "      Value 0: normal\n",
    "      Value 1: having ST-T wave abnormality (T wave inversions and/or ST elevation or depression of > 0.05 mV)\n",
    "      Value 2: showing probable or definite left ventricular hypertrophy by Estes' criteria \n",
    "    8.thalach: maximum heart rate achieved\n",
    "    9.exang: exercise induced angina (1 = yes; 0 = no)\n",
    "    10.oldpeak = ST depression induced by exercise relative to rest\n",
    "    11.slope: the slope of the peak exercise ST segment\n",
    "      Value 1: upsloping\n",
    "      Value 2: flat\n",
    "      Value 3: downsloping\n",
    "    12.ca: number of major vessels (0-3) colored by flourosopy\n",
    "    13.thal: 3 = normal; 6 = fixed defect; 7 = reversable defect\n",
    "    14.num: diagnosis of heart disease (angiographic disease status)\n",
    "      Value 0: < 50% diameter narrowing\n",
    "      Value 1: > 50% diameter narrowing      "
   ]
  },
  {
   "cell_type": "code",
   "execution_count": 418,
   "metadata": {},
   "outputs": [
    {
     "data": {
      "text/plain": [
       "(200, 14)"
      ]
     },
     "execution_count": 418,
     "metadata": {},
     "output_type": "execute_result"
    }
   ],
   "source": [
    "df.shape"
   ]
  },
  {
   "cell_type": "code",
   "execution_count": 419,
   "metadata": {},
   "outputs": [
    {
     "data": {
      "text/plain": [
       "Index(['age', 'sex', 'cp', 'trestbps', 'chol', 'fbs', 'restecg', 'thalach',\n",
       "       'exang', 'oldpeak', 'slope', 'ca', 'thal', 'num'],\n",
       "      dtype='object')"
      ]
     },
     "execution_count": 419,
     "metadata": {},
     "output_type": "execute_result"
    }
   ],
   "source": [
    "df.columns"
   ]
  },
  {
   "cell_type": "code",
   "execution_count": 420,
   "metadata": {},
   "outputs": [
    {
     "data": {
      "text/plain": [
       "age          int64\n",
       "sex          int64\n",
       "cp           int64\n",
       "trestbps    object\n",
       "chol        object\n",
       "fbs         object\n",
       "restecg      int64\n",
       "thalach     object\n",
       "exang       object\n",
       "oldpeak     object\n",
       "slope       object\n",
       "ca          object\n",
       "thal        object\n",
       "num          int64\n",
       "dtype: object"
      ]
     },
     "execution_count": 420,
     "metadata": {},
     "output_type": "execute_result"
    }
   ],
   "source": [
    "df.dtypes"
   ]
  },
  {
   "cell_type": "markdown",
   "metadata": {},
   "source": [
    "5 int datatypes columns and 9 object datatypes columns in dataframe"
   ]
  },
  {
   "cell_type": "code",
   "execution_count": 421,
   "metadata": {},
   "outputs": [
    {
     "data": {
      "text/plain": [
       "age         0\n",
       "sex         0\n",
       "cp          0\n",
       "trestbps    0\n",
       "chol        0\n",
       "fbs         0\n",
       "restecg     0\n",
       "thalach     0\n",
       "exang       0\n",
       "oldpeak     0\n",
       "slope       0\n",
       "ca          0\n",
       "thal        0\n",
       "num         0\n",
       "dtype: int64"
      ]
     },
     "execution_count": 421,
     "metadata": {},
     "output_type": "execute_result"
    }
   ],
   "source": [
    "df.isna().sum()"
   ]
  },
  {
   "cell_type": "markdown",
   "metadata": {},
   "source": [
    "No null values in dataframe"
   ]
  },
  {
   "cell_type": "markdown",
   "metadata": {},
   "source": [
    "From above dataframe we can see there are lot of ? signs present so I will first convert them to NAN values then I will impute with the help of SimpleImputer"
   ]
  },
  {
   "cell_type": "code",
   "execution_count": 422,
   "metadata": {},
   "outputs": [],
   "source": [
    "import numpy as np\n",
    "data=df.replace('?',np.NAN)"
   ]
  },
  {
   "cell_type": "code",
   "execution_count": 423,
   "metadata": {},
   "outputs": [
    {
     "data": {
      "text/html": [
       "<div>\n",
       "<style scoped>\n",
       "    .dataframe tbody tr th:only-of-type {\n",
       "        vertical-align: middle;\n",
       "    }\n",
       "\n",
       "    .dataframe tbody tr th {\n",
       "        vertical-align: top;\n",
       "    }\n",
       "\n",
       "    .dataframe thead th {\n",
       "        text-align: right;\n",
       "    }\n",
       "</style>\n",
       "<table border=\"1\" class=\"dataframe\">\n",
       "  <thead>\n",
       "    <tr style=\"text-align: right;\">\n",
       "      <th></th>\n",
       "      <th>age</th>\n",
       "      <th>sex</th>\n",
       "      <th>cp</th>\n",
       "      <th>trestbps</th>\n",
       "      <th>chol</th>\n",
       "      <th>fbs</th>\n",
       "      <th>restecg</th>\n",
       "      <th>thalach</th>\n",
       "      <th>exang</th>\n",
       "      <th>oldpeak</th>\n",
       "      <th>slope</th>\n",
       "      <th>ca</th>\n",
       "      <th>thal</th>\n",
       "      <th>num</th>\n",
       "    </tr>\n",
       "  </thead>\n",
       "  <tbody>\n",
       "    <tr>\n",
       "      <th>0</th>\n",
       "      <td>63</td>\n",
       "      <td>1</td>\n",
       "      <td>4</td>\n",
       "      <td>140</td>\n",
       "      <td>260</td>\n",
       "      <td>0</td>\n",
       "      <td>1</td>\n",
       "      <td>112</td>\n",
       "      <td>1</td>\n",
       "      <td>3</td>\n",
       "      <td>2</td>\n",
       "      <td>NaN</td>\n",
       "      <td>NaN</td>\n",
       "      <td>2</td>\n",
       "    </tr>\n",
       "    <tr>\n",
       "      <th>1</th>\n",
       "      <td>44</td>\n",
       "      <td>1</td>\n",
       "      <td>4</td>\n",
       "      <td>130</td>\n",
       "      <td>209</td>\n",
       "      <td>0</td>\n",
       "      <td>1</td>\n",
       "      <td>127</td>\n",
       "      <td>0</td>\n",
       "      <td>0</td>\n",
       "      <td>NaN</td>\n",
       "      <td>NaN</td>\n",
       "      <td>NaN</td>\n",
       "      <td>0</td>\n",
       "    </tr>\n",
       "    <tr>\n",
       "      <th>2</th>\n",
       "      <td>60</td>\n",
       "      <td>1</td>\n",
       "      <td>4</td>\n",
       "      <td>132</td>\n",
       "      <td>218</td>\n",
       "      <td>0</td>\n",
       "      <td>1</td>\n",
       "      <td>140</td>\n",
       "      <td>1</td>\n",
       "      <td>1.5</td>\n",
       "      <td>3</td>\n",
       "      <td>NaN</td>\n",
       "      <td>NaN</td>\n",
       "      <td>2</td>\n",
       "    </tr>\n",
       "    <tr>\n",
       "      <th>3</th>\n",
       "      <td>55</td>\n",
       "      <td>1</td>\n",
       "      <td>4</td>\n",
       "      <td>142</td>\n",
       "      <td>228</td>\n",
       "      <td>0</td>\n",
       "      <td>1</td>\n",
       "      <td>149</td>\n",
       "      <td>1</td>\n",
       "      <td>2.5</td>\n",
       "      <td>1</td>\n",
       "      <td>NaN</td>\n",
       "      <td>NaN</td>\n",
       "      <td>1</td>\n",
       "    </tr>\n",
       "    <tr>\n",
       "      <th>4</th>\n",
       "      <td>66</td>\n",
       "      <td>1</td>\n",
       "      <td>3</td>\n",
       "      <td>110</td>\n",
       "      <td>213</td>\n",
       "      <td>1</td>\n",
       "      <td>2</td>\n",
       "      <td>99</td>\n",
       "      <td>1</td>\n",
       "      <td>1.3</td>\n",
       "      <td>2</td>\n",
       "      <td>NaN</td>\n",
       "      <td>NaN</td>\n",
       "      <td>0</td>\n",
       "    </tr>\n",
       "  </tbody>\n",
       "</table>\n",
       "</div>"
      ],
      "text/plain": [
       "   age  sex  cp trestbps chol fbs  restecg thalach exang oldpeak slope   ca  \\\n",
       "0   63    1   4      140  260   0        1     112     1       3     2  NaN   \n",
       "1   44    1   4      130  209   0        1     127     0       0   NaN  NaN   \n",
       "2   60    1   4      132  218   0        1     140     1     1.5     3  NaN   \n",
       "3   55    1   4      142  228   0        1     149     1     2.5     1  NaN   \n",
       "4   66    1   3      110  213   1        2      99     1     1.3     2  NaN   \n",
       "\n",
       "  thal  num  \n",
       "0  NaN    2  \n",
       "1  NaN    0  \n",
       "2  NaN    2  \n",
       "3  NaN    1  \n",
       "4  NaN    0  "
      ]
     },
     "execution_count": 423,
     "metadata": {},
     "output_type": "execute_result"
    }
   ],
   "source": [
    "data.head()"
   ]
  },
  {
   "cell_type": "code",
   "execution_count": 424,
   "metadata": {},
   "outputs": [
    {
     "data": {
      "text/plain": [
       "age           0\n",
       "sex           0\n",
       "cp            0\n",
       "trestbps     56\n",
       "chol          7\n",
       "fbs           7\n",
       "restecg       0\n",
       "thalach      53\n",
       "exang        53\n",
       "oldpeak      56\n",
       "slope       102\n",
       "ca          198\n",
       "thal        166\n",
       "num           0\n",
       "dtype: int64"
      ]
     },
     "execution_count": 424,
     "metadata": {},
     "output_type": "execute_result"
    }
   ],
   "source": [
    "data.isnull().sum()"
   ]
  },
  {
   "cell_type": "code",
   "execution_count": 425,
   "metadata": {},
   "outputs": [
    {
     "name": "stdout",
     "output_type": "stream",
     "text": [
      "<class 'pandas.core.frame.DataFrame'>\n",
      "RangeIndex: 200 entries, 0 to 199\n",
      "Data columns (total 14 columns):\n",
      " #   Column    Non-Null Count  Dtype \n",
      "---  ------    --------------  ----- \n",
      " 0   age       200 non-null    int64 \n",
      " 1   sex       200 non-null    int64 \n",
      " 2   cp        200 non-null    int64 \n",
      " 3   trestbps  144 non-null    object\n",
      " 4   chol      193 non-null    object\n",
      " 5   fbs       193 non-null    object\n",
      " 6   restecg   200 non-null    int64 \n",
      " 7   thalach   147 non-null    object\n",
      " 8   exang     147 non-null    object\n",
      " 9   oldpeak   144 non-null    object\n",
      " 10  slope     98 non-null     object\n",
      " 11  ca        2 non-null      object\n",
      " 12  thal      34 non-null     object\n",
      " 13  num       200 non-null    int64 \n",
      "dtypes: int64(5), object(9)\n",
      "memory usage: 22.0+ KB\n"
     ]
    }
   ],
   "source": [
    "data.info()"
   ]
  },
  {
   "cell_type": "markdown",
   "metadata": {},
   "source": [
    "maximum 198 null values are present in ca column followed by thal and slope columns"
   ]
  },
  {
   "cell_type": "code",
   "execution_count": 426,
   "metadata": {},
   "outputs": [],
   "source": [
    "data.drop(columns=['ca'],axis=1,inplace=True)"
   ]
  },
  {
   "cell_type": "code",
   "execution_count": 427,
   "metadata": {},
   "outputs": [
    {
     "data": {
      "text/html": [
       "<div>\n",
       "<style scoped>\n",
       "    .dataframe tbody tr th:only-of-type {\n",
       "        vertical-align: middle;\n",
       "    }\n",
       "\n",
       "    .dataframe tbody tr th {\n",
       "        vertical-align: top;\n",
       "    }\n",
       "\n",
       "    .dataframe thead th {\n",
       "        text-align: right;\n",
       "    }\n",
       "</style>\n",
       "<table border=\"1\" class=\"dataframe\">\n",
       "  <thead>\n",
       "    <tr style=\"text-align: right;\">\n",
       "      <th></th>\n",
       "      <th>age</th>\n",
       "      <th>sex</th>\n",
       "      <th>cp</th>\n",
       "      <th>trestbps</th>\n",
       "      <th>chol</th>\n",
       "      <th>fbs</th>\n",
       "      <th>restecg</th>\n",
       "      <th>thalach</th>\n",
       "      <th>exang</th>\n",
       "      <th>oldpeak</th>\n",
       "      <th>slope</th>\n",
       "      <th>thal</th>\n",
       "      <th>num</th>\n",
       "    </tr>\n",
       "  </thead>\n",
       "  <tbody>\n",
       "    <tr>\n",
       "      <th>0</th>\n",
       "      <td>63.0</td>\n",
       "      <td>1.0</td>\n",
       "      <td>4.0</td>\n",
       "      <td>140.000000</td>\n",
       "      <td>260.0</td>\n",
       "      <td>0.0</td>\n",
       "      <td>1.0</td>\n",
       "      <td>112.000000</td>\n",
       "      <td>1.000000</td>\n",
       "      <td>3.000000</td>\n",
       "      <td>2.000000</td>\n",
       "      <td>6.294118</td>\n",
       "      <td>2.0</td>\n",
       "    </tr>\n",
       "    <tr>\n",
       "      <th>1</th>\n",
       "      <td>44.0</td>\n",
       "      <td>1.0</td>\n",
       "      <td>4.0</td>\n",
       "      <td>130.000000</td>\n",
       "      <td>209.0</td>\n",
       "      <td>0.0</td>\n",
       "      <td>1.0</td>\n",
       "      <td>127.000000</td>\n",
       "      <td>0.000000</td>\n",
       "      <td>0.000000</td>\n",
       "      <td>2.132653</td>\n",
       "      <td>6.294118</td>\n",
       "      <td>0.0</td>\n",
       "    </tr>\n",
       "    <tr>\n",
       "      <th>2</th>\n",
       "      <td>60.0</td>\n",
       "      <td>1.0</td>\n",
       "      <td>4.0</td>\n",
       "      <td>132.000000</td>\n",
       "      <td>218.0</td>\n",
       "      <td>0.0</td>\n",
       "      <td>1.0</td>\n",
       "      <td>140.000000</td>\n",
       "      <td>1.000000</td>\n",
       "      <td>1.500000</td>\n",
       "      <td>3.000000</td>\n",
       "      <td>6.294118</td>\n",
       "      <td>2.0</td>\n",
       "    </tr>\n",
       "    <tr>\n",
       "      <th>3</th>\n",
       "      <td>55.0</td>\n",
       "      <td>1.0</td>\n",
       "      <td>4.0</td>\n",
       "      <td>142.000000</td>\n",
       "      <td>228.0</td>\n",
       "      <td>0.0</td>\n",
       "      <td>1.0</td>\n",
       "      <td>149.000000</td>\n",
       "      <td>1.000000</td>\n",
       "      <td>2.500000</td>\n",
       "      <td>1.000000</td>\n",
       "      <td>6.294118</td>\n",
       "      <td>1.0</td>\n",
       "    </tr>\n",
       "    <tr>\n",
       "      <th>4</th>\n",
       "      <td>66.0</td>\n",
       "      <td>1.0</td>\n",
       "      <td>3.0</td>\n",
       "      <td>110.000000</td>\n",
       "      <td>213.0</td>\n",
       "      <td>1.0</td>\n",
       "      <td>2.0</td>\n",
       "      <td>99.000000</td>\n",
       "      <td>1.000000</td>\n",
       "      <td>1.300000</td>\n",
       "      <td>2.000000</td>\n",
       "      <td>6.294118</td>\n",
       "      <td>0.0</td>\n",
       "    </tr>\n",
       "    <tr>\n",
       "      <th>...</th>\n",
       "      <td>...</td>\n",
       "      <td>...</td>\n",
       "      <td>...</td>\n",
       "      <td>...</td>\n",
       "      <td>...</td>\n",
       "      <td>...</td>\n",
       "      <td>...</td>\n",
       "      <td>...</td>\n",
       "      <td>...</td>\n",
       "      <td>...</td>\n",
       "      <td>...</td>\n",
       "      <td>...</td>\n",
       "      <td>...</td>\n",
       "    </tr>\n",
       "    <tr>\n",
       "      <th>195</th>\n",
       "      <td>54.0</td>\n",
       "      <td>0.0</td>\n",
       "      <td>4.0</td>\n",
       "      <td>127.000000</td>\n",
       "      <td>333.0</td>\n",
       "      <td>1.0</td>\n",
       "      <td>1.0</td>\n",
       "      <td>154.000000</td>\n",
       "      <td>0.000000</td>\n",
       "      <td>0.000000</td>\n",
       "      <td>2.132653</td>\n",
       "      <td>6.294118</td>\n",
       "      <td>1.0</td>\n",
       "    </tr>\n",
       "    <tr>\n",
       "      <th>196</th>\n",
       "      <td>62.0</td>\n",
       "      <td>1.0</td>\n",
       "      <td>1.0</td>\n",
       "      <td>133.763889</td>\n",
       "      <td>139.0</td>\n",
       "      <td>0.0</td>\n",
       "      <td>1.0</td>\n",
       "      <td>122.795918</td>\n",
       "      <td>0.646259</td>\n",
       "      <td>1.320833</td>\n",
       "      <td>2.132653</td>\n",
       "      <td>6.294118</td>\n",
       "      <td>0.0</td>\n",
       "    </tr>\n",
       "    <tr>\n",
       "      <th>197</th>\n",
       "      <td>55.0</td>\n",
       "      <td>1.0</td>\n",
       "      <td>4.0</td>\n",
       "      <td>122.000000</td>\n",
       "      <td>223.0</td>\n",
       "      <td>1.0</td>\n",
       "      <td>1.0</td>\n",
       "      <td>100.000000</td>\n",
       "      <td>0.000000</td>\n",
       "      <td>0.000000</td>\n",
       "      <td>2.132653</td>\n",
       "      <td>6.000000</td>\n",
       "      <td>2.0</td>\n",
       "    </tr>\n",
       "    <tr>\n",
       "      <th>198</th>\n",
       "      <td>58.0</td>\n",
       "      <td>1.0</td>\n",
       "      <td>4.0</td>\n",
       "      <td>133.763889</td>\n",
       "      <td>385.0</td>\n",
       "      <td>1.0</td>\n",
       "      <td>2.0</td>\n",
       "      <td>122.795918</td>\n",
       "      <td>0.646259</td>\n",
       "      <td>1.320833</td>\n",
       "      <td>2.132653</td>\n",
       "      <td>6.294118</td>\n",
       "      <td>0.0</td>\n",
       "    </tr>\n",
       "    <tr>\n",
       "      <th>199</th>\n",
       "      <td>62.0</td>\n",
       "      <td>1.0</td>\n",
       "      <td>2.0</td>\n",
       "      <td>120.000000</td>\n",
       "      <td>254.0</td>\n",
       "      <td>0.0</td>\n",
       "      <td>2.0</td>\n",
       "      <td>93.000000</td>\n",
       "      <td>1.000000</td>\n",
       "      <td>0.000000</td>\n",
       "      <td>2.132653</td>\n",
       "      <td>6.294118</td>\n",
       "      <td>1.0</td>\n",
       "    </tr>\n",
       "  </tbody>\n",
       "</table>\n",
       "<p>200 rows × 13 columns</p>\n",
       "</div>"
      ],
      "text/plain": [
       "      age  sex   cp    trestbps   chol  fbs  restecg     thalach     exang  \\\n",
       "0    63.0  1.0  4.0  140.000000  260.0  0.0      1.0  112.000000  1.000000   \n",
       "1    44.0  1.0  4.0  130.000000  209.0  0.0      1.0  127.000000  0.000000   \n",
       "2    60.0  1.0  4.0  132.000000  218.0  0.0      1.0  140.000000  1.000000   \n",
       "3    55.0  1.0  4.0  142.000000  228.0  0.0      1.0  149.000000  1.000000   \n",
       "4    66.0  1.0  3.0  110.000000  213.0  1.0      2.0   99.000000  1.000000   \n",
       "..    ...  ...  ...         ...    ...  ...      ...         ...       ...   \n",
       "195  54.0  0.0  4.0  127.000000  333.0  1.0      1.0  154.000000  0.000000   \n",
       "196  62.0  1.0  1.0  133.763889  139.0  0.0      1.0  122.795918  0.646259   \n",
       "197  55.0  1.0  4.0  122.000000  223.0  1.0      1.0  100.000000  0.000000   \n",
       "198  58.0  1.0  4.0  133.763889  385.0  1.0      2.0  122.795918  0.646259   \n",
       "199  62.0  1.0  2.0  120.000000  254.0  0.0      2.0   93.000000  1.000000   \n",
       "\n",
       "      oldpeak     slope      thal  num  \n",
       "0    3.000000  2.000000  6.294118  2.0  \n",
       "1    0.000000  2.132653  6.294118  0.0  \n",
       "2    1.500000  3.000000  6.294118  2.0  \n",
       "3    2.500000  1.000000  6.294118  1.0  \n",
       "4    1.300000  2.000000  6.294118  0.0  \n",
       "..        ...       ...       ...  ...  \n",
       "195  0.000000  2.132653  6.294118  1.0  \n",
       "196  1.320833  2.132653  6.294118  0.0  \n",
       "197  0.000000  2.132653  6.000000  2.0  \n",
       "198  1.320833  2.132653  6.294118  0.0  \n",
       "199  0.000000  2.132653  6.294118  1.0  \n",
       "\n",
       "[200 rows x 13 columns]"
      ]
     },
     "execution_count": 427,
     "metadata": {},
     "output_type": "execute_result"
    }
   ],
   "source": [
    "from sklearn.impute import SimpleImputer\n",
    "imp=SimpleImputer(missing_values=np.NAN,strategy='mean')\n",
    "imp=imp.fit(data)\n",
    "New_Data=imp.transform(data.values)\n",
    "New_Data=pd.DataFrame(New_Data,columns=data.columns)\n",
    "New_Data"
   ]
  },
  {
   "cell_type": "code",
   "execution_count": 428,
   "metadata": {},
   "outputs": [
    {
     "data": {
      "text/html": [
       "<div>\n",
       "<style scoped>\n",
       "    .dataframe tbody tr th:only-of-type {\n",
       "        vertical-align: middle;\n",
       "    }\n",
       "\n",
       "    .dataframe tbody tr th {\n",
       "        vertical-align: top;\n",
       "    }\n",
       "\n",
       "    .dataframe thead th {\n",
       "        text-align: right;\n",
       "    }\n",
       "</style>\n",
       "<table border=\"1\" class=\"dataframe\">\n",
       "  <thead>\n",
       "    <tr style=\"text-align: right;\">\n",
       "      <th></th>\n",
       "      <th>age</th>\n",
       "      <th>sex</th>\n",
       "      <th>cp</th>\n",
       "      <th>trestbps</th>\n",
       "      <th>chol</th>\n",
       "      <th>fbs</th>\n",
       "      <th>restecg</th>\n",
       "      <th>thalach</th>\n",
       "      <th>exang</th>\n",
       "      <th>oldpeak</th>\n",
       "      <th>slope</th>\n",
       "      <th>thal</th>\n",
       "      <th>num</th>\n",
       "    </tr>\n",
       "  </thead>\n",
       "  <tbody>\n",
       "    <tr>\n",
       "      <th>age</th>\n",
       "      <td>1.000000</td>\n",
       "      <td>0.034230</td>\n",
       "      <td>-0.038280</td>\n",
       "      <td>0.181584</td>\n",
       "      <td>0.066972</td>\n",
       "      <td>0.124753</td>\n",
       "      <td>0.002400</td>\n",
       "      <td>-0.149949</td>\n",
       "      <td>0.135050</td>\n",
       "      <td>0.157087</td>\n",
       "      <td>0.100039</td>\n",
       "      <td>0.084672</td>\n",
       "      <td>0.287289</td>\n",
       "    </tr>\n",
       "    <tr>\n",
       "      <th>sex</th>\n",
       "      <td>0.034230</td>\n",
       "      <td>1.000000</td>\n",
       "      <td>0.038036</td>\n",
       "      <td>0.012585</td>\n",
       "      <td>-0.096150</td>\n",
       "      <td>-0.055341</td>\n",
       "      <td>0.060621</td>\n",
       "      <td>-0.001592</td>\n",
       "      <td>0.016538</td>\n",
       "      <td>0.097267</td>\n",
       "      <td>0.088087</td>\n",
       "      <td>-0.078866</td>\n",
       "      <td>0.147470</td>\n",
       "    </tr>\n",
       "    <tr>\n",
       "      <th>cp</th>\n",
       "      <td>-0.038280</td>\n",
       "      <td>0.038036</td>\n",
       "      <td>1.000000</td>\n",
       "      <td>0.074638</td>\n",
       "      <td>0.065818</td>\n",
       "      <td>-0.047368</td>\n",
       "      <td>0.034790</td>\n",
       "      <td>-0.123597</td>\n",
       "      <td>0.181907</td>\n",
       "      <td>0.040155</td>\n",
       "      <td>0.028605</td>\n",
       "      <td>0.055794</td>\n",
       "      <td>0.168210</td>\n",
       "    </tr>\n",
       "    <tr>\n",
       "      <th>trestbps</th>\n",
       "      <td>0.181584</td>\n",
       "      <td>0.012585</td>\n",
       "      <td>0.074638</td>\n",
       "      <td>1.000000</td>\n",
       "      <td>0.150192</td>\n",
       "      <td>0.184605</td>\n",
       "      <td>0.092042</td>\n",
       "      <td>-0.013046</td>\n",
       "      <td>0.220327</td>\n",
       "      <td>0.115432</td>\n",
       "      <td>0.091688</td>\n",
       "      <td>0.082839</td>\n",
       "      <td>0.141719</td>\n",
       "    </tr>\n",
       "    <tr>\n",
       "      <th>chol</th>\n",
       "      <td>0.066972</td>\n",
       "      <td>-0.096150</td>\n",
       "      <td>0.065818</td>\n",
       "      <td>0.150192</td>\n",
       "      <td>1.000000</td>\n",
       "      <td>0.151512</td>\n",
       "      <td>0.024257</td>\n",
       "      <td>-0.041209</td>\n",
       "      <td>0.087302</td>\n",
       "      <td>0.002160</td>\n",
       "      <td>0.058552</td>\n",
       "      <td>-0.071654</td>\n",
       "      <td>0.076444</td>\n",
       "    </tr>\n",
       "    <tr>\n",
       "      <th>fbs</th>\n",
       "      <td>0.124753</td>\n",
       "      <td>-0.055341</td>\n",
       "      <td>-0.047368</td>\n",
       "      <td>0.184605</td>\n",
       "      <td>0.151512</td>\n",
       "      <td>1.000000</td>\n",
       "      <td>0.165927</td>\n",
       "      <td>0.051405</td>\n",
       "      <td>-0.213312</td>\n",
       "      <td>-0.099321</td>\n",
       "      <td>0.016262</td>\n",
       "      <td>0.026280</td>\n",
       "      <td>0.050515</td>\n",
       "    </tr>\n",
       "    <tr>\n",
       "      <th>restecg</th>\n",
       "      <td>0.002400</td>\n",
       "      <td>0.060621</td>\n",
       "      <td>0.034790</td>\n",
       "      <td>0.092042</td>\n",
       "      <td>0.024257</td>\n",
       "      <td>0.165927</td>\n",
       "      <td>1.000000</td>\n",
       "      <td>0.012348</td>\n",
       "      <td>-0.080575</td>\n",
       "      <td>-0.106991</td>\n",
       "      <td>-0.019306</td>\n",
       "      <td>0.052624</td>\n",
       "      <td>-0.032800</td>\n",
       "    </tr>\n",
       "    <tr>\n",
       "      <th>thalach</th>\n",
       "      <td>-0.149949</td>\n",
       "      <td>-0.001592</td>\n",
       "      <td>-0.123597</td>\n",
       "      <td>-0.013046</td>\n",
       "      <td>-0.041209</td>\n",
       "      <td>0.051405</td>\n",
       "      <td>0.012348</td>\n",
       "      <td>1.000000</td>\n",
       "      <td>-0.075057</td>\n",
       "      <td>0.172048</td>\n",
       "      <td>-0.122213</td>\n",
       "      <td>-0.203311</td>\n",
       "      <td>-0.079077</td>\n",
       "    </tr>\n",
       "    <tr>\n",
       "      <th>exang</th>\n",
       "      <td>0.135050</td>\n",
       "      <td>0.016538</td>\n",
       "      <td>0.181907</td>\n",
       "      <td>0.220327</td>\n",
       "      <td>0.087302</td>\n",
       "      <td>-0.213312</td>\n",
       "      <td>-0.080575</td>\n",
       "      <td>-0.075057</td>\n",
       "      <td>1.000000</td>\n",
       "      <td>0.309593</td>\n",
       "      <td>0.109706</td>\n",
       "      <td>0.122742</td>\n",
       "      <td>0.254926</td>\n",
       "    </tr>\n",
       "    <tr>\n",
       "      <th>oldpeak</th>\n",
       "      <td>0.157087</td>\n",
       "      <td>0.097267</td>\n",
       "      <td>0.040155</td>\n",
       "      <td>0.115432</td>\n",
       "      <td>0.002160</td>\n",
       "      <td>-0.099321</td>\n",
       "      <td>-0.106991</td>\n",
       "      <td>0.172048</td>\n",
       "      <td>0.309593</td>\n",
       "      <td>1.000000</td>\n",
       "      <td>0.226364</td>\n",
       "      <td>0.090996</td>\n",
       "      <td>0.378209</td>\n",
       "    </tr>\n",
       "    <tr>\n",
       "      <th>slope</th>\n",
       "      <td>0.100039</td>\n",
       "      <td>0.088087</td>\n",
       "      <td>0.028605</td>\n",
       "      <td>0.091688</td>\n",
       "      <td>0.058552</td>\n",
       "      <td>0.016262</td>\n",
       "      <td>-0.019306</td>\n",
       "      <td>-0.122213</td>\n",
       "      <td>0.109706</td>\n",
       "      <td>0.226364</td>\n",
       "      <td>1.000000</td>\n",
       "      <td>-0.010661</td>\n",
       "      <td>0.116501</td>\n",
       "    </tr>\n",
       "    <tr>\n",
       "      <th>thal</th>\n",
       "      <td>0.084672</td>\n",
       "      <td>-0.078866</td>\n",
       "      <td>0.055794</td>\n",
       "      <td>0.082839</td>\n",
       "      <td>-0.071654</td>\n",
       "      <td>0.026280</td>\n",
       "      <td>0.052624</td>\n",
       "      <td>-0.203311</td>\n",
       "      <td>0.122742</td>\n",
       "      <td>0.090996</td>\n",
       "      <td>-0.010661</td>\n",
       "      <td>1.000000</td>\n",
       "      <td>0.025346</td>\n",
       "    </tr>\n",
       "    <tr>\n",
       "      <th>num</th>\n",
       "      <td>0.287289</td>\n",
       "      <td>0.147470</td>\n",
       "      <td>0.168210</td>\n",
       "      <td>0.141719</td>\n",
       "      <td>0.076444</td>\n",
       "      <td>0.050515</td>\n",
       "      <td>-0.032800</td>\n",
       "      <td>-0.079077</td>\n",
       "      <td>0.254926</td>\n",
       "      <td>0.378209</td>\n",
       "      <td>0.116501</td>\n",
       "      <td>0.025346</td>\n",
       "      <td>1.000000</td>\n",
       "    </tr>\n",
       "  </tbody>\n",
       "</table>\n",
       "</div>"
      ],
      "text/plain": [
       "               age       sex        cp  trestbps      chol       fbs  \\\n",
       "age       1.000000  0.034230 -0.038280  0.181584  0.066972  0.124753   \n",
       "sex       0.034230  1.000000  0.038036  0.012585 -0.096150 -0.055341   \n",
       "cp       -0.038280  0.038036  1.000000  0.074638  0.065818 -0.047368   \n",
       "trestbps  0.181584  0.012585  0.074638  1.000000  0.150192  0.184605   \n",
       "chol      0.066972 -0.096150  0.065818  0.150192  1.000000  0.151512   \n",
       "fbs       0.124753 -0.055341 -0.047368  0.184605  0.151512  1.000000   \n",
       "restecg   0.002400  0.060621  0.034790  0.092042  0.024257  0.165927   \n",
       "thalach  -0.149949 -0.001592 -0.123597 -0.013046 -0.041209  0.051405   \n",
       "exang     0.135050  0.016538  0.181907  0.220327  0.087302 -0.213312   \n",
       "oldpeak   0.157087  0.097267  0.040155  0.115432  0.002160 -0.099321   \n",
       "slope     0.100039  0.088087  0.028605  0.091688  0.058552  0.016262   \n",
       "thal      0.084672 -0.078866  0.055794  0.082839 -0.071654  0.026280   \n",
       "num       0.287289  0.147470  0.168210  0.141719  0.076444  0.050515   \n",
       "\n",
       "           restecg   thalach     exang   oldpeak     slope      thal       num  \n",
       "age       0.002400 -0.149949  0.135050  0.157087  0.100039  0.084672  0.287289  \n",
       "sex       0.060621 -0.001592  0.016538  0.097267  0.088087 -0.078866  0.147470  \n",
       "cp        0.034790 -0.123597  0.181907  0.040155  0.028605  0.055794  0.168210  \n",
       "trestbps  0.092042 -0.013046  0.220327  0.115432  0.091688  0.082839  0.141719  \n",
       "chol      0.024257 -0.041209  0.087302  0.002160  0.058552 -0.071654  0.076444  \n",
       "fbs       0.165927  0.051405 -0.213312 -0.099321  0.016262  0.026280  0.050515  \n",
       "restecg   1.000000  0.012348 -0.080575 -0.106991 -0.019306  0.052624 -0.032800  \n",
       "thalach   0.012348  1.000000 -0.075057  0.172048 -0.122213 -0.203311 -0.079077  \n",
       "exang    -0.080575 -0.075057  1.000000  0.309593  0.109706  0.122742  0.254926  \n",
       "oldpeak  -0.106991  0.172048  0.309593  1.000000  0.226364  0.090996  0.378209  \n",
       "slope    -0.019306 -0.122213  0.109706  0.226364  1.000000 -0.010661  0.116501  \n",
       "thal      0.052624 -0.203311  0.122742  0.090996 -0.010661  1.000000  0.025346  \n",
       "num      -0.032800 -0.079077  0.254926  0.378209  0.116501  0.025346  1.000000  "
      ]
     },
     "execution_count": 428,
     "metadata": {},
     "output_type": "execute_result"
    }
   ],
   "source": [
    "cor=New_Data.corr()\n",
    "cor"
   ]
  },
  {
   "cell_type": "code",
   "execution_count": 429,
   "metadata": {},
   "outputs": [
    {
     "data": {
      "text/plain": [
       "<matplotlib.axes._subplots.AxesSubplot at 0x13a2f7f2b20>"
      ]
     },
     "execution_count": 429,
     "metadata": {},
     "output_type": "execute_result"
    },
    {
     "data": {
      "image/png": "[encoded data removed]",
      "text/plain": [
       "<Figure size 576x432 with 2 Axes>"
      ]
     },
     "metadata": {
      "needs_background": "light"
     },
     "output_type": "display_data"
    }
   ],
   "source": [
    "plt.figure(figsize=(8,6))\n",
    "import seaborn as sns\n",
    "import matplotlib.pyplot as plt\n",
    "sns.heatmap(cor,annot=True,cmap='Blues')"
   ]
  },
  {
   "cell_type": "markdown",
   "metadata": {},
   "source": [
    "From above heatmap we observe that target is comparatively good correlated with oldpeak,age and exang columns whereas it is negatively correlated with restecg "
   ]
  },
  {
   "cell_type": "markdown",
   "metadata": {},
   "source": [
    "Summary Statistics"
   ]
  },
  {
   "cell_type": "code",
   "execution_count": 430,
   "metadata": {},
   "outputs": [
    {
     "data": {
      "text/html": [
       "<div>\n",
       "<style scoped>\n",
       "    .dataframe tbody tr th:only-of-type {\n",
       "        vertical-align: middle;\n",
       "    }\n",
       "\n",
       "    .dataframe tbody tr th {\n",
       "        vertical-align: top;\n",
       "    }\n",
       "\n",
       "    .dataframe thead th {\n",
       "        text-align: right;\n",
       "    }\n",
       "</style>\n",
       "<table border=\"1\" class=\"dataframe\">\n",
       "  <thead>\n",
       "    <tr style=\"text-align: right;\">\n",
       "      <th></th>\n",
       "      <th>age</th>\n",
       "      <th>sex</th>\n",
       "      <th>cp</th>\n",
       "      <th>trestbps</th>\n",
       "      <th>chol</th>\n",
       "      <th>fbs</th>\n",
       "      <th>restecg</th>\n",
       "      <th>thalach</th>\n",
       "      <th>exang</th>\n",
       "      <th>oldpeak</th>\n",
       "      <th>slope</th>\n",
       "      <th>thal</th>\n",
       "      <th>num</th>\n",
       "    </tr>\n",
       "  </thead>\n",
       "  <tbody>\n",
       "    <tr>\n",
       "      <th>count</th>\n",
       "      <td>200.000000</td>\n",
       "      <td>200.000000</td>\n",
       "      <td>200.000000</td>\n",
       "      <td>200.000000</td>\n",
       "      <td>200.000000</td>\n",
       "      <td>200.000000</td>\n",
       "      <td>200.000000</td>\n",
       "      <td>200.000000</td>\n",
       "      <td>200.000000</td>\n",
       "      <td>200.000000</td>\n",
       "      <td>200.000000</td>\n",
       "      <td>200.000000</td>\n",
       "      <td>200.000000</td>\n",
       "    </tr>\n",
       "    <tr>\n",
       "      <th>mean</th>\n",
       "      <td>59.350000</td>\n",
       "      <td>0.970000</td>\n",
       "      <td>3.505000</td>\n",
       "      <td>133.763889</td>\n",
       "      <td>178.746114</td>\n",
       "      <td>0.352332</td>\n",
       "      <td>0.735000</td>\n",
       "      <td>122.795918</td>\n",
       "      <td>0.646259</td>\n",
       "      <td>1.320833</td>\n",
       "      <td>2.132653</td>\n",
       "      <td>6.294118</td>\n",
       "      <td>1.520000</td>\n",
       "    </tr>\n",
       "    <tr>\n",
       "      <th>std</th>\n",
       "      <td>7.811697</td>\n",
       "      <td>0.171015</td>\n",
       "      <td>0.795701</td>\n",
       "      <td>18.257507</td>\n",
       "      <td>112.011633</td>\n",
       "      <td>0.470440</td>\n",
       "      <td>0.683455</td>\n",
       "      <td>18.835692</td>\n",
       "      <td>0.410940</td>\n",
       "      <td>0.937755</td>\n",
       "      <td>0.466331</td>\n",
       "      <td>0.526001</td>\n",
       "      <td>1.219441</td>\n",
       "    </tr>\n",
       "    <tr>\n",
       "      <th>min</th>\n",
       "      <td>35.000000</td>\n",
       "      <td>0.000000</td>\n",
       "      <td>1.000000</td>\n",
       "      <td>0.000000</td>\n",
       "      <td>0.000000</td>\n",
       "      <td>0.000000</td>\n",
       "      <td>0.000000</td>\n",
       "      <td>69.000000</td>\n",
       "      <td>0.000000</td>\n",
       "      <td>-0.500000</td>\n",
       "      <td>1.000000</td>\n",
       "      <td>3.000000</td>\n",
       "      <td>0.000000</td>\n",
       "    </tr>\n",
       "    <tr>\n",
       "      <th>25%</th>\n",
       "      <td>55.000000</td>\n",
       "      <td>1.000000</td>\n",
       "      <td>3.000000</td>\n",
       "      <td>125.750000</td>\n",
       "      <td>129.250000</td>\n",
       "      <td>0.000000</td>\n",
       "      <td>0.000000</td>\n",
       "      <td>112.000000</td>\n",
       "      <td>0.000000</td>\n",
       "      <td>1.000000</td>\n",
       "      <td>2.000000</td>\n",
       "      <td>6.294118</td>\n",
       "      <td>0.000000</td>\n",
       "    </tr>\n",
       "    <tr>\n",
       "      <th>50%</th>\n",
       "      <td>60.000000</td>\n",
       "      <td>1.000000</td>\n",
       "      <td>4.000000</td>\n",
       "      <td>133.763889</td>\n",
       "      <td>214.000000</td>\n",
       "      <td>0.000000</td>\n",
       "      <td>1.000000</td>\n",
       "      <td>122.795918</td>\n",
       "      <td>0.646259</td>\n",
       "      <td>1.320833</td>\n",
       "      <td>2.132653</td>\n",
       "      <td>6.294118</td>\n",
       "      <td>1.000000</td>\n",
       "    </tr>\n",
       "    <tr>\n",
       "      <th>75%</th>\n",
       "      <td>64.000000</td>\n",
       "      <td>1.000000</td>\n",
       "      <td>4.000000</td>\n",
       "      <td>140.000000</td>\n",
       "      <td>254.500000</td>\n",
       "      <td>1.000000</td>\n",
       "      <td>1.000000</td>\n",
       "      <td>130.000000</td>\n",
       "      <td>1.000000</td>\n",
       "      <td>2.000000</td>\n",
       "      <td>2.132653</td>\n",
       "      <td>6.294118</td>\n",
       "      <td>3.000000</td>\n",
       "    </tr>\n",
       "    <tr>\n",
       "      <th>max</th>\n",
       "      <td>77.000000</td>\n",
       "      <td>1.000000</td>\n",
       "      <td>4.000000</td>\n",
       "      <td>190.000000</td>\n",
       "      <td>458.000000</td>\n",
       "      <td>1.000000</td>\n",
       "      <td>2.000000</td>\n",
       "      <td>180.000000</td>\n",
       "      <td>1.000000</td>\n",
       "      <td>4.000000</td>\n",
       "      <td>3.000000</td>\n",
       "      <td>7.000000</td>\n",
       "      <td>4.000000</td>\n",
       "    </tr>\n",
       "  </tbody>\n",
       "</table>\n",
       "</div>"
      ],
      "text/plain": [
       "              age         sex          cp    trestbps        chol         fbs  \\\n",
       "count  200.000000  200.000000  200.000000  200.000000  200.000000  200.000000   \n",
       "mean    59.350000    0.970000    3.505000  133.763889  178.746114    0.352332   \n",
       "std      7.811697    0.171015    0.795701   18.257507  112.011633    0.470440   \n",
       "min     35.000000    0.000000    1.000000    0.000000    0.000000    0.000000   \n",
       "25%     55.000000    1.000000    3.000000  125.750000  129.250000    0.000000   \n",
       "50%     60.000000    1.000000    4.000000  133.763889  214.000000    0.000000   \n",
       "75%     64.000000    1.000000    4.000000  140.000000  254.500000    1.000000   \n",
       "max     77.000000    1.000000    4.000000  190.000000  458.000000    1.000000   \n",
       "\n",
       "          restecg     thalach       exang     oldpeak       slope        thal  \\\n",
       "count  200.000000  200.000000  200.000000  200.000000  200.000000  200.000000   \n",
       "mean     0.735000  122.795918    0.646259    1.320833    2.132653    6.294118   \n",
       "std      0.683455   18.835692    0.410940    0.937755    0.466331    0.526001   \n",
       "min      0.000000   69.000000    0.000000   -0.500000    1.000000    3.000000   \n",
       "25%      0.000000  112.000000    0.000000    1.000000    2.000000    6.294118   \n",
       "50%      1.000000  122.795918    0.646259    1.320833    2.132653    6.294118   \n",
       "75%      1.000000  130.000000    1.000000    2.000000    2.132653    6.294118   \n",
       "max      2.000000  180.000000    1.000000    4.000000    3.000000    7.000000   \n",
       "\n",
       "              num  \n",
       "count  200.000000  \n",
       "mean     1.520000  \n",
       "std      1.219441  \n",
       "min      0.000000  \n",
       "25%      0.000000  \n",
       "50%      1.000000  \n",
       "75%      3.000000  \n",
       "max      4.000000  "
      ]
     },
     "execution_count": 430,
     "metadata": {},
     "output_type": "execute_result"
    }
   ],
   "source": [
    "New_Data.describe()"
   ]
  },
  {
   "cell_type": "markdown",
   "metadata": {},
   "source": [
    "From above summary statistics we observe that in chol column there is maximum difference between Q3 and max also the standard deviation is highest amongst all the attributes. Since median(50%) is higher than the mean, it has left skew(negative) curve."
   ]
  },
  {
   "cell_type": "markdown",
   "metadata": {},
   "source": [
    "Bi-Variate Analysis"
   ]
  },
  {
   "cell_type": "code",
   "execution_count": 490,
   "metadata": {},
   "outputs": [
    {
     "data": {
      "image/png": "[encoded data removed]",
      "text/plain": [
       "<Figure size 432x288 with 1 Axes>"
      ]
     },
     "metadata": {
      "needs_background": "light"
     },
     "output_type": "display_data"
    }
   ],
   "source": [
    "sns.barplot(x='sex',y='num',data=New_Data)\n",
    "plt.show()"
   ]
  },
  {
   "cell_type": "markdown",
   "metadata": {},
   "source": [
    "from above plot males have high proportion with Heart Disease"
   ]
  },
  {
   "cell_type": "code",
   "execution_count": 496,
   "metadata": {},
   "outputs": [
    {
     "data": {
      "image/png": "[encoded data removed]",
      "text/plain": [
       "<Figure size 1296x288 with 1 Axes>"
      ]
     },
     "metadata": {
      "needs_background": "light"
     },
     "output_type": "display_data"
    }
   ],
   "source": [
    "plt.figure(figsize=(18,4))\n",
    "sns.barplot(x='age',y='num',hue='sex',data=New_Data)\n",
    "plt.show()"
   ]
  },
  {
   "cell_type": "raw",
   "metadata": {},
   "source": [
    "1.From above plot we observe that 4th level of Heart disease is among people of age group 76\n",
    "2.3rd level of Heart disease is among people of age group 67 and 77\n",
    "3.peoples with age range 35-37,41-42,44-45 are with 0 or No Heart Disease\n",
    "4.There are 54 and 64 age females who are falling in 1st level only."
   ]
  },
  {
   "cell_type": "markdown",
   "metadata": {},
   "source": [
    "Uni-Variate Analysis"
   ]
  },
  {
   "cell_type": "code",
   "execution_count": 500,
   "metadata": {},
   "outputs": [
    {
     "data": {
      "image/png": "[encoded data removed]",
      "text/plain": [
       "<Figure size 432x288 with 1 Axes>"
      ]
     },
     "metadata": {
      "needs_background": "light"
     },
     "output_type": "display_data"
    }
   ],
   "source": [
    "sns.countplot(New_Data['num'])\n",
    "plt.show()"
   ]
  },
  {
   "cell_type": "markdown",
   "metadata": {},
   "source": [
    "From above plot we observe that 1st level and 4th level heart disease are highest and lowest respectively"
   ]
  },
  {
   "cell_type": "code",
   "execution_count": 498,
   "metadata": {},
   "outputs": [
    {
     "data": {
      "image/png": "[encoded data removed]",
      "text/plain": [
       "<Figure size 432x288 with 1 Axes>"
      ]
     },
     "metadata": {
      "needs_background": "light"
     },
     "output_type": "display_data"
    }
   ],
   "source": [
    "sns.countplot(New_Data['sex'])\n",
    "plt.show()"
   ]
  },
  {
   "cell_type": "markdown",
   "metadata": {},
   "source": [
    "From above plot there are approx 190 males and more than 5 females in sex column"
   ]
  },
  {
   "cell_type": "markdown",
   "metadata": {},
   "source": [
    "Detecting Outliers"
   ]
  },
  {
   "cell_type": "code",
   "execution_count": 501,
   "metadata": {},
   "outputs": [
    {
     "data": {
      "text/plain": [
       "age            AxesSubplot(0.125,0.536818;0.0945122x0.343182)\n",
       "sex         AxesSubplot(0.238415,0.536818;0.0945122x0.343182)\n",
       "cp          AxesSubplot(0.351829,0.536818;0.0945122x0.343182)\n",
       "trestbps    AxesSubplot(0.465244,0.536818;0.0945122x0.343182)\n",
       "chol        AxesSubplot(0.578659,0.536818;0.0945122x0.343182)\n",
       "fbs         AxesSubplot(0.692073,0.536818;0.0945122x0.343182)\n",
       "restecg     AxesSubplot(0.805488,0.536818;0.0945122x0.343182)\n",
       "thalach           AxesSubplot(0.125,0.125;0.0945122x0.343182)\n",
       "exang          AxesSubplot(0.238415,0.125;0.0945122x0.343182)\n",
       "oldpeak        AxesSubplot(0.351829,0.125;0.0945122x0.343182)\n",
       "slope          AxesSubplot(0.465244,0.125;0.0945122x0.343182)\n",
       "thal           AxesSubplot(0.578659,0.125;0.0945122x0.343182)\n",
       "num            AxesSubplot(0.692073,0.125;0.0945122x0.343182)\n",
       "dtype: object"
      ]
     },
     "execution_count": 501,
     "metadata": {},
     "output_type": "execute_result"
    },
    {
     "data": {
      "image/png": "[encoded data removed]",
      "text/plain": [
       "<Figure size 432x288 with 14 Axes>"
      ]
     },
     "metadata": {
      "needs_background": "light"
     },
     "output_type": "display_data"
    }
   ],
   "source": [
    "New_Data.plot(kind='box',subplots=True,layout=(2,7))"
   ]
  },
  {
   "cell_type": "markdown",
   "metadata": {},
   "source": [
    "From above boxplots we observe there are high no of outliers present in age,thalach,trestbps columns"
   ]
  },
  {
   "cell_type": "markdown",
   "metadata": {},
   "source": [
    "Removing Outliers"
   ]
  },
  {
   "cell_type": "code",
   "execution_count": 431,
   "metadata": {},
   "outputs": [],
   "source": [
    "from scipy.stats import zscore\n",
    "z=np.abs(zscore(New_Data))\n",
    "df_new=New_Data[(z<3).all(axis=1)]"
   ]
  },
  {
   "cell_type": "code",
   "execution_count": 432,
   "metadata": {},
   "outputs": [
    {
     "data": {
      "text/plain": [
       "(200, 13)"
      ]
     },
     "execution_count": 432,
     "metadata": {},
     "output_type": "execute_result"
    }
   ],
   "source": [
    "New_Data.shape"
   ]
  },
  {
   "cell_type": "code",
   "execution_count": 433,
   "metadata": {},
   "outputs": [
    {
     "data": {
      "text/plain": [
       "(177, 13)"
      ]
     },
     "execution_count": 433,
     "metadata": {},
     "output_type": "execute_result"
    }
   ],
   "source": [
    "df_new.shape"
   ]
  },
  {
   "cell_type": "markdown",
   "metadata": {},
   "source": [
    "Preprocessing,Normalization and Standardization of data before Modelling"
   ]
  },
  {
   "cell_type": "code",
   "execution_count": 434,
   "metadata": {},
   "outputs": [
    {
     "data": {
      "text/html": [
       "<div>\n",
       "<style scoped>\n",
       "    .dataframe tbody tr th:only-of-type {\n",
       "        vertical-align: middle;\n",
       "    }\n",
       "\n",
       "    .dataframe tbody tr th {\n",
       "        vertical-align: top;\n",
       "    }\n",
       "\n",
       "    .dataframe thead th {\n",
       "        text-align: right;\n",
       "    }\n",
       "</style>\n",
       "<table border=\"1\" class=\"dataframe\">\n",
       "  <thead>\n",
       "    <tr style=\"text-align: right;\">\n",
       "      <th></th>\n",
       "      <th>age</th>\n",
       "      <th>sex</th>\n",
       "      <th>cp</th>\n",
       "      <th>trestbps</th>\n",
       "      <th>chol</th>\n",
       "      <th>fbs</th>\n",
       "      <th>restecg</th>\n",
       "      <th>thalach</th>\n",
       "      <th>exang</th>\n",
       "      <th>oldpeak</th>\n",
       "      <th>slope</th>\n",
       "      <th>thal</th>\n",
       "      <th>num</th>\n",
       "    </tr>\n",
       "  </thead>\n",
       "  <tbody>\n",
       "    <tr>\n",
       "      <th>0</th>\n",
       "      <td>63.0</td>\n",
       "      <td>1.0</td>\n",
       "      <td>4.0</td>\n",
       "      <td>140.000000</td>\n",
       "      <td>260.0</td>\n",
       "      <td>0.0</td>\n",
       "      <td>1.0</td>\n",
       "      <td>112.000000</td>\n",
       "      <td>1.000000</td>\n",
       "      <td>3.000000</td>\n",
       "      <td>2.000000</td>\n",
       "      <td>6.294118</td>\n",
       "      <td>2.0</td>\n",
       "    </tr>\n",
       "    <tr>\n",
       "      <th>1</th>\n",
       "      <td>44.0</td>\n",
       "      <td>1.0</td>\n",
       "      <td>4.0</td>\n",
       "      <td>130.000000</td>\n",
       "      <td>209.0</td>\n",
       "      <td>0.0</td>\n",
       "      <td>1.0</td>\n",
       "      <td>127.000000</td>\n",
       "      <td>0.000000</td>\n",
       "      <td>0.000000</td>\n",
       "      <td>2.132653</td>\n",
       "      <td>6.294118</td>\n",
       "      <td>0.0</td>\n",
       "    </tr>\n",
       "    <tr>\n",
       "      <th>2</th>\n",
       "      <td>60.0</td>\n",
       "      <td>1.0</td>\n",
       "      <td>4.0</td>\n",
       "      <td>132.000000</td>\n",
       "      <td>218.0</td>\n",
       "      <td>0.0</td>\n",
       "      <td>1.0</td>\n",
       "      <td>140.000000</td>\n",
       "      <td>1.000000</td>\n",
       "      <td>1.500000</td>\n",
       "      <td>3.000000</td>\n",
       "      <td>6.294118</td>\n",
       "      <td>2.0</td>\n",
       "    </tr>\n",
       "    <tr>\n",
       "      <th>3</th>\n",
       "      <td>55.0</td>\n",
       "      <td>1.0</td>\n",
       "      <td>4.0</td>\n",
       "      <td>142.000000</td>\n",
       "      <td>228.0</td>\n",
       "      <td>0.0</td>\n",
       "      <td>1.0</td>\n",
       "      <td>149.000000</td>\n",
       "      <td>1.000000</td>\n",
       "      <td>2.500000</td>\n",
       "      <td>1.000000</td>\n",
       "      <td>6.294118</td>\n",
       "      <td>1.0</td>\n",
       "    </tr>\n",
       "    <tr>\n",
       "      <th>4</th>\n",
       "      <td>66.0</td>\n",
       "      <td>1.0</td>\n",
       "      <td>3.0</td>\n",
       "      <td>110.000000</td>\n",
       "      <td>213.0</td>\n",
       "      <td>1.0</td>\n",
       "      <td>2.0</td>\n",
       "      <td>99.000000</td>\n",
       "      <td>1.000000</td>\n",
       "      <td>1.300000</td>\n",
       "      <td>2.000000</td>\n",
       "      <td>6.294118</td>\n",
       "      <td>0.0</td>\n",
       "    </tr>\n",
       "    <tr>\n",
       "      <th>...</th>\n",
       "      <td>...</td>\n",
       "      <td>...</td>\n",
       "      <td>...</td>\n",
       "      <td>...</td>\n",
       "      <td>...</td>\n",
       "      <td>...</td>\n",
       "      <td>...</td>\n",
       "      <td>...</td>\n",
       "      <td>...</td>\n",
       "      <td>...</td>\n",
       "      <td>...</td>\n",
       "      <td>...</td>\n",
       "      <td>...</td>\n",
       "    </tr>\n",
       "    <tr>\n",
       "      <th>192</th>\n",
       "      <td>53.0</td>\n",
       "      <td>1.0</td>\n",
       "      <td>4.0</td>\n",
       "      <td>144.000000</td>\n",
       "      <td>300.0</td>\n",
       "      <td>1.0</td>\n",
       "      <td>1.0</td>\n",
       "      <td>128.000000</td>\n",
       "      <td>1.000000</td>\n",
       "      <td>1.500000</td>\n",
       "      <td>2.000000</td>\n",
       "      <td>6.294118</td>\n",
       "      <td>3.0</td>\n",
       "    </tr>\n",
       "    <tr>\n",
       "      <th>193</th>\n",
       "      <td>62.0</td>\n",
       "      <td>1.0</td>\n",
       "      <td>4.0</td>\n",
       "      <td>158.000000</td>\n",
       "      <td>170.0</td>\n",
       "      <td>0.0</td>\n",
       "      <td>1.0</td>\n",
       "      <td>138.000000</td>\n",
       "      <td>1.000000</td>\n",
       "      <td>0.000000</td>\n",
       "      <td>2.132653</td>\n",
       "      <td>6.294118</td>\n",
       "      <td>1.0</td>\n",
       "    </tr>\n",
       "    <tr>\n",
       "      <th>197</th>\n",
       "      <td>55.0</td>\n",
       "      <td>1.0</td>\n",
       "      <td>4.0</td>\n",
       "      <td>122.000000</td>\n",
       "      <td>223.0</td>\n",
       "      <td>1.0</td>\n",
       "      <td>1.0</td>\n",
       "      <td>100.000000</td>\n",
       "      <td>0.000000</td>\n",
       "      <td>0.000000</td>\n",
       "      <td>2.132653</td>\n",
       "      <td>6.000000</td>\n",
       "      <td>2.0</td>\n",
       "    </tr>\n",
       "    <tr>\n",
       "      <th>198</th>\n",
       "      <td>58.0</td>\n",
       "      <td>1.0</td>\n",
       "      <td>4.0</td>\n",
       "      <td>133.763889</td>\n",
       "      <td>385.0</td>\n",
       "      <td>1.0</td>\n",
       "      <td>2.0</td>\n",
       "      <td>122.795918</td>\n",
       "      <td>0.646259</td>\n",
       "      <td>1.320833</td>\n",
       "      <td>2.132653</td>\n",
       "      <td>6.294118</td>\n",
       "      <td>0.0</td>\n",
       "    </tr>\n",
       "    <tr>\n",
       "      <th>199</th>\n",
       "      <td>62.0</td>\n",
       "      <td>1.0</td>\n",
       "      <td>2.0</td>\n",
       "      <td>120.000000</td>\n",
       "      <td>254.0</td>\n",
       "      <td>0.0</td>\n",
       "      <td>2.0</td>\n",
       "      <td>93.000000</td>\n",
       "      <td>1.000000</td>\n",
       "      <td>0.000000</td>\n",
       "      <td>2.132653</td>\n",
       "      <td>6.294118</td>\n",
       "      <td>1.0</td>\n",
       "    </tr>\n",
       "  </tbody>\n",
       "</table>\n",
       "<p>177 rows × 13 columns</p>\n",
       "</div>"
      ],
      "text/plain": [
       "      age  sex   cp    trestbps   chol  fbs  restecg     thalach     exang  \\\n",
       "0    63.0  1.0  4.0  140.000000  260.0  0.0      1.0  112.000000  1.000000   \n",
       "1    44.0  1.0  4.0  130.000000  209.0  0.0      1.0  127.000000  0.000000   \n",
       "2    60.0  1.0  4.0  132.000000  218.0  0.0      1.0  140.000000  1.000000   \n",
       "3    55.0  1.0  4.0  142.000000  228.0  0.0      1.0  149.000000  1.000000   \n",
       "4    66.0  1.0  3.0  110.000000  213.0  1.0      2.0   99.000000  1.000000   \n",
       "..    ...  ...  ...         ...    ...  ...      ...         ...       ...   \n",
       "192  53.0  1.0  4.0  144.000000  300.0  1.0      1.0  128.000000  1.000000   \n",
       "193  62.0  1.0  4.0  158.000000  170.0  0.0      1.0  138.000000  1.000000   \n",
       "197  55.0  1.0  4.0  122.000000  223.0  1.0      1.0  100.000000  0.000000   \n",
       "198  58.0  1.0  4.0  133.763889  385.0  1.0      2.0  122.795918  0.646259   \n",
       "199  62.0  1.0  2.0  120.000000  254.0  0.0      2.0   93.000000  1.000000   \n",
       "\n",
       "      oldpeak     slope      thal  num  \n",
       "0    3.000000  2.000000  6.294118  2.0  \n",
       "1    0.000000  2.132653  6.294118  0.0  \n",
       "2    1.500000  3.000000  6.294118  2.0  \n",
       "3    2.500000  1.000000  6.294118  1.0  \n",
       "4    1.300000  2.000000  6.294118  0.0  \n",
       "..        ...       ...       ...  ...  \n",
       "192  1.500000  2.000000  6.294118  3.0  \n",
       "193  0.000000  2.132653  6.294118  1.0  \n",
       "197  0.000000  2.132653  6.000000  2.0  \n",
       "198  1.320833  2.132653  6.294118  0.0  \n",
       "199  0.000000  2.132653  6.294118  1.0  \n",
       "\n",
       "[177 rows x 13 columns]"
      ]
     },
     "execution_count": 434,
     "metadata": {},
     "output_type": "execute_result"
    }
   ],
   "source": [
    "df_new.replace([np.inf,-np.inf],np.NAN).dropna(axis=0)"
   ]
  },
  {
   "cell_type": "code",
   "execution_count": 435,
   "metadata": {},
   "outputs": [
    {
     "data": {
      "text/plain": [
       "age        -0.258590\n",
       "sex         0.000000\n",
       "cp         -1.439012\n",
       "trestbps    0.509657\n",
       "chol       -0.537742\n",
       "fbs         0.686611\n",
       "restecg     0.366437\n",
       "thalach    -0.105998\n",
       "exang      -0.827606\n",
       "oldpeak     0.424375\n",
       "slope      -0.170886\n",
       "thal        2.079564\n",
       "num         0.259635\n",
       "dtype: float64"
      ]
     },
     "execution_count": 435,
     "metadata": {},
     "output_type": "execute_result"
    }
   ],
   "source": [
    "df_new.skew()"
   ]
  },
  {
   "cell_type": "code",
   "execution_count": 436,
   "metadata": {},
   "outputs": [],
   "source": [
    "x=df_new.drop('num',axis=1)"
   ]
  },
  {
   "cell_type": "code",
   "execution_count": 437,
   "metadata": {},
   "outputs": [],
   "source": [
    "y=df_new['num']"
   ]
  },
  {
   "cell_type": "code",
   "execution_count": 438,
   "metadata": {},
   "outputs": [],
   "source": [
    "import warnings\n",
    "warnings.filterwarnings('ignore')\n",
    "from sklearn.preprocessing import PowerTransformer\n",
    "pt=PowerTransformer(method='yeo-johnson')\n",
    "df_x=pt.fit_transform(x)\n",
    "df_x=pd.DataFrame(df_x)"
   ]
  },
  {
   "cell_type": "code",
   "execution_count": 439,
   "metadata": {},
   "outputs": [
    {
     "data": {
      "text/plain": [
       "0     0.016604\n",
       "1     0.000000\n",
       "2    -0.899550\n",
       "3     0.000000\n",
       "4    -0.932308\n",
       "5     0.602277\n",
       "6    -0.028858\n",
       "7     0.037263\n",
       "8    -0.492940\n",
       "9    -0.041873\n",
       "10    0.096222\n",
       "11   -0.034073\n",
       "dtype: float64"
      ]
     },
     "execution_count": 439,
     "metadata": {},
     "output_type": "execute_result"
    }
   ],
   "source": [
    "df_x.skew()"
   ]
  },
  {
   "cell_type": "code",
   "execution_count": 440,
   "metadata": {},
   "outputs": [],
   "source": [
    "from sklearn.preprocessing import StandardScaler\n",
    "sc=StandardScaler()\n",
    "df_x=sc.fit_transform(df_x)\n",
    "df_x=pd.DataFrame(df_x)"
   ]
  },
  {
   "cell_type": "markdown",
   "metadata": {},
   "source": [
    "Hyper parameter tuning"
   ]
  },
  {
   "cell_type": "code",
   "execution_count": 444,
   "metadata": {},
   "outputs": [
    {
     "name": "stdout",
     "output_type": "stream",
     "text": [
      "max accuracy score corresponding to  SVC() for 43 is 0.5\n"
     ]
    }
   ],
   "source": [
    "from sklearn.tree import DecisionTreeClassifier\n",
    "from sklearn.svm import SVC\n",
    "from sklearn.neighbors import KNeighborsClassifier\n",
    "from sklearn.metrics import accuracy_score,confusion_matrix,classification_report\n",
    "from sklearn.model_selection import train_test_split\n",
    "max_acc_score=0.40\n",
    "for r_state in range(42,100):\n",
    "    x_train,x_test,y_train,y_test=train_test_split(df_x,y,random_state=r_state,test_size=0.20)\n",
    "    dtc=DecisionTreeClassifier()\n",
    "    svc=SVC()\n",
    "    knc=KNeighborsClassifier()\n",
    "    model=[dtc,svc,knc]\n",
    "    for m in model:\n",
    "        m.fit(x_train,y_train)\n",
    "        m.score(x_train,y_train)\n",
    "        y_pred=m.predict(x_test)\n",
    "        acc_scr=accuracy_score(y_test,y_pred)\n",
    "        if acc_scr>max_acc_score:\n",
    "            max_acc_score=acc_scr\n",
    "            final_r_state=r_state        \n",
    "            print('max accuracy score corresponding to ',m,'for',final_r_state,'is',max_acc_score)"
   ]
  },
  {
   "cell_type": "code",
   "execution_count": 445,
   "metadata": {},
   "outputs": [],
   "source": [
    "x_train,x_test,y_train,y_test=train_test_split(df_x,y,random_state=43,test_size=0.20)"
   ]
  },
  {
   "cell_type": "code",
   "execution_count": 446,
   "metadata": {},
   "outputs": [
    {
     "name": "stdout",
     "output_type": "stream",
     "text": [
      "(141, 12) \t (36, 12)\n"
     ]
    }
   ],
   "source": [
    "print(x_train.shape,'\\t',x_test.shape)"
   ]
  },
  {
   "cell_type": "code",
   "execution_count": 447,
   "metadata": {},
   "outputs": [
    {
     "name": "stdout",
     "output_type": "stream",
     "text": [
      "(141,) \t (36,)\n"
     ]
    }
   ],
   "source": [
    "print(y_train.shape,'\\t',y_test.shape)"
   ]
  },
  {
   "cell_type": "markdown",
   "metadata": {},
   "source": [
    "Finding best model at given parameter"
   ]
  },
  {
   "cell_type": "code",
   "execution_count": 448,
   "metadata": {},
   "outputs": [
    {
     "name": "stdout",
     "output_type": "stream",
     "text": [
      "Score of DecisionTreeClassifier() is: 1.0\n",
      "accuracy score: 0.3888888888888889\n",
      "confusion matrix: [[3 2 1 0 0]\n",
      " [5 4 0 3 0]\n",
      " [1 1 2 2 0]\n",
      " [1 3 2 5 0]\n",
      " [0 0 1 0 0]]\n",
      "classification report:               precision    recall  f1-score   support\n",
      "\n",
      "         0.0       0.30      0.50      0.37         6\n",
      "         1.0       0.40      0.33      0.36        12\n",
      "         2.0       0.33      0.33      0.33         6\n",
      "         3.0       0.50      0.45      0.48        11\n",
      "         4.0       0.00      0.00      0.00         1\n",
      "\n",
      "    accuracy                           0.39        36\n",
      "   macro avg       0.31      0.32      0.31        36\n",
      "weighted avg       0.39      0.39      0.38        36\n",
      "\n",
      "\n",
      "\n",
      "Score of SVC() is: 0.7163120567375887\n",
      "accuracy score: 0.5\n",
      "confusion matrix: [[4 1 1 0 0]\n",
      " [3 8 1 0 0]\n",
      " [0 1 2 3 0]\n",
      " [1 3 3 4 0]\n",
      " [0 1 0 0 0]]\n",
      "classification report:               precision    recall  f1-score   support\n",
      "\n",
      "         0.0       0.50      0.67      0.57         6\n",
      "         1.0       0.57      0.67      0.62        12\n",
      "         2.0       0.29      0.33      0.31         6\n",
      "         3.0       0.57      0.36      0.44        11\n",
      "         4.0       0.00      0.00      0.00         1\n",
      "\n",
      "    accuracy                           0.50        36\n",
      "   macro avg       0.39      0.41      0.39        36\n",
      "weighted avg       0.50      0.50      0.49        36\n",
      "\n",
      "\n",
      "\n",
      "Score of KNeighborsClassifier() is: 0.5390070921985816\n",
      "accuracy score: 0.3333333333333333\n",
      "confusion matrix: [[5 1 0 0 0]\n",
      " [7 4 0 1 0]\n",
      " [1 2 2 1 0]\n",
      " [1 3 6 1 0]\n",
      " [1 0 0 0 0]]\n",
      "classification report:               precision    recall  f1-score   support\n",
      "\n",
      "         0.0       0.33      0.83      0.48         6\n",
      "         1.0       0.40      0.33      0.36        12\n",
      "         2.0       0.25      0.33      0.29         6\n",
      "         3.0       0.33      0.09      0.14        11\n",
      "         4.0       0.00      0.00      0.00         1\n",
      "\n",
      "    accuracy                           0.33        36\n",
      "   macro avg       0.26      0.32      0.25        36\n",
      "weighted avg       0.33      0.33      0.29        36\n",
      "\n",
      "\n",
      "\n"
     ]
    }
   ],
   "source": [
    "model=[dtc,svc,knc]\n",
    "for m in model:\n",
    "    m.fit(x_train,y_train)\n",
    "    print('Score of',m,'is:',m.score(x_train,y_train))\n",
    "    y_pred=m.predict(x_test)\n",
    "    print('accuracy score:',accuracy_score(y_test,y_pred))\n",
    "    print('confusion matrix:',confusion_matrix(y_test,y_pred))\n",
    "    print('classification report:',classification_report(y_test,y_pred))\n",
    "    print('\\n')"
   ]
  },
  {
   "cell_type": "markdown",
   "metadata": {},
   "source": [
    "from above statistics we can see that SVC is performing better than other two models"
   ]
  },
  {
   "cell_type": "markdown",
   "metadata": {},
   "source": [
    "Lets try GridSearchCV hyperparameter tuning to find out best parameters for the individual models"
   ]
  },
  {
   "cell_type": "code",
   "execution_count": 449,
   "metadata": {},
   "outputs": [
    {
     "name": "stdout",
     "output_type": "stream",
     "text": [
      "{'C': 1, 'kernel': 'rbf'}\n",
      "0.37317460317460316\n"
     ]
    }
   ],
   "source": [
    "from sklearn.model_selection import GridSearchCV\n",
    "parameters={'kernel':['linear','rbf','poly'],'C':[1,10]}\n",
    "gd_sr=GridSearchCV(estimator=svc,param_grid=parameters,scoring='accuracy',cv=5)\n",
    "gd_sr.fit(df_x,y)\n",
    "best_parameters=gd_sr.best_params_\n",
    "print(best_parameters)\n",
    "best_result=gd_sr.best_score_\n",
    "print(best_result)"
   ]
  },
  {
   "cell_type": "code",
   "execution_count": 450,
   "metadata": {},
   "outputs": [
    {
     "name": "stdout",
     "output_type": "stream",
     "text": [
      "{'criterion': 'gini'}\n",
      "0.30999999999999994\n"
     ]
    }
   ],
   "source": [
    "grid_param={'criterion':['gini','entropy']}\n",
    "gd_sr=GridSearchCV(estimator=dtc,param_grid=grid_param,scoring='accuracy',cv=5)\n",
    "gd_sr.fit(df_x,y)\n",
    "best_parameters=gd_sr.best_params_\n",
    "print(best_parameters)\n",
    "best_result=gd_sr.best_score_\n",
    "print(best_result)"
   ]
  },
  {
   "cell_type": "code",
   "execution_count": 451,
   "metadata": {},
   "outputs": [
    {
     "name": "stdout",
     "output_type": "stream",
     "text": [
      "{'n_neighbors': 32}\n",
      "0.44603174603174595\n"
     ]
    }
   ],
   "source": [
    "grid_param={'n_neighbors':range(1,100)}\n",
    "gd_sr=GridSearchCV(estimator=knc,param_grid=grid_param,scoring='accuracy',cv=5)\n",
    "gd_sr.fit(df_x,y)\n",
    "best_parameters=gd_sr.best_params_\n",
    "print(best_parameters)\n",
    "best_result=gd_sr.best_score_\n",
    "print(best_result)"
   ]
  },
  {
   "cell_type": "markdown",
   "metadata": {},
   "source": [
    "passing parameters to models and re-evaluating the metrics"
   ]
  },
  {
   "cell_type": "code",
   "execution_count": 452,
   "metadata": {},
   "outputs": [
    {
     "name": "stdout",
     "output_type": "stream",
     "text": [
      "Score of DecisionTreeClassifier() is: 1.0\n",
      "accuracy score: 0.3055555555555556\n",
      "confusion matrix: [[2 3 1 0 0]\n",
      " [5 4 0 3 0]\n",
      " [1 1 1 3 0]\n",
      " [2 3 2 4 0]\n",
      " [0 0 1 0 0]]\n",
      "classification report:               precision    recall  f1-score   support\n",
      "\n",
      "         0.0       0.20      0.33      0.25         6\n",
      "         1.0       0.36      0.33      0.35        12\n",
      "         2.0       0.20      0.17      0.18         6\n",
      "         3.0       0.40      0.36      0.38        11\n",
      "         4.0       0.00      0.00      0.00         1\n",
      "\n",
      "    accuracy                           0.31        36\n",
      "   macro avg       0.23      0.24      0.23        36\n",
      "weighted avg       0.31      0.31      0.30        36\n",
      "\n",
      "Score of SVC(C=1) is: 0.7163120567375887\n",
      "accuracy score: 0.5\n",
      "confusion matrix: [[4 1 1 0 0]\n",
      " [3 8 1 0 0]\n",
      " [0 1 2 3 0]\n",
      " [1 3 3 4 0]\n",
      " [0 1 0 0 0]]\n",
      "classification report:               precision    recall  f1-score   support\n",
      "\n",
      "         0.0       0.50      0.67      0.57         6\n",
      "         1.0       0.57      0.67      0.62        12\n",
      "         2.0       0.29      0.33      0.31         6\n",
      "         3.0       0.57      0.36      0.44        11\n",
      "         4.0       0.00      0.00      0.00         1\n",
      "\n",
      "    accuracy                           0.50        36\n",
      "   macro avg       0.39      0.41      0.39        36\n",
      "weighted avg       0.50      0.50      0.49        36\n",
      "\n",
      "Score of KNeighborsClassifier(n_neighbors=32) is: 0.40425531914893614\n",
      "accuracy score: 0.5\n",
      "confusion matrix: [[5 1 0 0 0]\n",
      " [4 7 0 1 0]\n",
      " [0 1 3 2 0]\n",
      " [3 2 3 3 0]\n",
      " [0 0 1 0 0]]\n",
      "classification report:               precision    recall  f1-score   support\n",
      "\n",
      "         0.0       0.42      0.83      0.56         6\n",
      "         1.0       0.64      0.58      0.61        12\n",
      "         2.0       0.43      0.50      0.46         6\n",
      "         3.0       0.50      0.27      0.35        11\n",
      "         4.0       0.00      0.00      0.00         1\n",
      "\n",
      "    accuracy                           0.50        36\n",
      "   macro avg       0.40      0.44      0.40        36\n",
      "weighted avg       0.51      0.50      0.48        36\n",
      "\n"
     ]
    }
   ],
   "source": [
    "svc=SVC(C= 1,kernel='rbf')\n",
    "dtc=DecisionTreeClassifier(criterion='gini')\n",
    "knc=KNeighborsClassifier(n_neighbors=32)\n",
    "model=[dtc,svc,knc]\n",
    "for m in model:\n",
    "    m.fit(x_train,y_train)\n",
    "    print('Score of',m,'is:',m.score(x_train,y_train))\n",
    "    y_pred=m.predict(x_test)\n",
    "    print('accuracy score:',accuracy_score(y_test,y_pred))\n",
    "    print('confusion matrix:',confusion_matrix(y_test,y_pred))\n",
    "    print('classification report:',classification_report(y_test,y_pred))"
   ]
  },
  {
   "cell_type": "markdown",
   "metadata": {},
   "source": [
    "From above metric we observe that SVC model is performing better than other two"
   ]
  },
  {
   "cell_type": "code",
   "execution_count": 459,
   "metadata": {},
   "outputs": [
    {
     "name": "stdout",
     "output_type": "stream",
     "text": [
      "[0.38888889 0.41666667 0.14285714 0.25714286 0.25714286]\n",
      "mean score and standard deviation of DecisionTreeClassifier() is 0.29253968253968254 0.0996006133864087\n",
      "\n",
      "\n",
      "[0.36111111 0.33333333 0.31428571 0.48571429 0.37142857]\n",
      "mean score and standard deviation of SVC(C=1) is 0.37317460317460316 0.05978124226024313\n",
      "\n",
      "\n",
      "[0.44444444 0.5        0.34285714 0.54285714 0.4       ]\n",
      "mean score and standard deviation of KNeighborsClassifier(n_neighbors=32) is 0.44603174603174595 0.07078724435387292\n",
      "\n",
      "\n"
     ]
    }
   ],
   "source": [
    "from sklearn.model_selection import cross_val_score\n",
    "model=[DecisionTreeClassifier(criterion='gini'),SVC(C=1),KNeighborsClassifier(n_neighbors=32)]\n",
    "for m in model:\n",
    "    mscores=cross_val_score(m,df_x,y,cv=5,scoring='accuracy')\n",
    "    print(mscores)\n",
    "    print('mean score and standard deviation of',m,'is',mscores.mean(),mscores.std())\n",
    "    print('\\n')"
   ]
  },
  {
   "cell_type": "markdown",
   "metadata": {},
   "source": [
    "At given parameters CVS of KN>SVC"
   ]
  },
  {
   "cell_type": "code",
   "execution_count": 468,
   "metadata": {},
   "outputs": [
    {
     "name": "stdout",
     "output_type": "stream",
     "text": [
      "1.0\n",
      "accuracy score: 0.5\n",
      "confusion_matrix: [[5 1 0 0 0]\n",
      " [4 7 0 1 0]\n",
      " [0 1 3 2 0]\n",
      " [3 2 3 3 0]\n",
      " [0 0 1 0 0]]\n",
      "classification_report: (74     3.0\n",
      "178    3.0\n",
      "18     0.0\n",
      "10     0.0\n",
      "186    3.0\n",
      "114    1.0\n",
      "127    2.0\n",
      "2      2.0\n",
      "44     4.0\n",
      "105    3.0\n",
      "118    3.0\n",
      "20     2.0\n",
      "88     1.0\n",
      "31     3.0\n",
      "0      2.0\n",
      "42     3.0\n",
      "152    1.0\n",
      "61     2.0\n",
      "40     3.0\n",
      "149    3.0\n",
      "11     1.0\n",
      "89     1.0\n",
      "1      0.0\n",
      "73     3.0\n",
      "41     1.0\n",
      "168    2.0\n",
      "150    0.0\n",
      "163    3.0\n",
      "199    1.0\n",
      "104    0.0\n",
      "164    1.0\n",
      "153    1.0\n",
      "147    1.0\n",
      "60     0.0\n",
      "106    1.0\n",
      "13     1.0\n",
      "Name: num, dtype: float64, array([0., 2., 0., 0., 3., 1., 2., 2., 2., 2., 2., 1., 3., 3., 3., 1., 1.,\n",
      "       2., 0., 0., 0., 0., 0., 1., 1., 3., 0., 3., 0., 0., 1., 1., 1., 1.,\n",
      "       1., 0.]))\n"
     ]
    }
   ],
   "source": [
    "from sklearn.ensemble import RandomForestClassifier\n",
    "rf=RandomForestClassifier(n_estimators=100,random_state=43)\n",
    "rf.fit(x_train,y_train)\n",
    "print(rf.score(x_train,y_train))\n",
    "predrf=rf.predict(x_test)\n",
    "print('accuracy score:',accuracy_score(y_test,y_pred))\n",
    "print('confusion_matrix:',confusion_matrix(y_test,y_pred))\n",
    "print('classification_report:',(y_test,y_pred))"
   ]
  },
  {
   "cell_type": "code",
   "execution_count": 470,
   "metadata": {},
   "outputs": [
    {
     "name": "stdout",
     "output_type": "stream",
     "text": [
      "[0.36111111 0.38888889 0.22857143 0.31428571 0.31428571]\n",
      "0.3214285714285714 0.05449786818476759\n"
     ]
    }
   ],
   "source": [
    "from sklearn.model_selection import cross_val_score\n",
    "rfscores=cross_val_score(rf,df_x,y,cv=5,scoring='accuracy')\n",
    "print(rfscores)\n",
    "print(rfscores.mean(),rfscores.std())"
   ]
  },
  {
   "cell_type": "code",
   "execution_count": 476,
   "metadata": {},
   "outputs": [
    {
     "name": "stdout",
     "output_type": "stream",
     "text": [
      "DecisionTreeClassifier()\n",
      "1.0\n",
      "accuracy score: 0.5\n",
      "confusion_matrix: [[5 1 0 0 0]\n",
      " [4 7 0 1 0]\n",
      " [0 1 3 2 0]\n",
      " [3 2 3 3 0]\n",
      " [0 0 1 0 0]]\n",
      "classification_report: (74     3.0\n",
      "178    3.0\n",
      "18     0.0\n",
      "10     0.0\n",
      "186    3.0\n",
      "114    1.0\n",
      "127    2.0\n",
      "2      2.0\n",
      "44     4.0\n",
      "105    3.0\n",
      "118    3.0\n",
      "20     2.0\n",
      "88     1.0\n",
      "31     3.0\n",
      "0      2.0\n",
      "42     3.0\n",
      "152    1.0\n",
      "61     2.0\n",
      "40     3.0\n",
      "149    3.0\n",
      "11     1.0\n",
      "89     1.0\n",
      "1      0.0\n",
      "73     3.0\n",
      "41     1.0\n",
      "168    2.0\n",
      "150    0.0\n",
      "163    3.0\n",
      "199    1.0\n",
      "104    0.0\n",
      "164    1.0\n",
      "153    1.0\n",
      "147    1.0\n",
      "60     0.0\n",
      "106    1.0\n",
      "13     1.0\n",
      "Name: num, dtype: float64, array([0., 2., 0., 0., 3., 1., 2., 2., 2., 2., 2., 1., 3., 3., 3., 1., 1.,\n",
      "       2., 0., 0., 0., 0., 0., 1., 1., 3., 0., 3., 0., 0., 1., 1., 1., 1.,\n",
      "       1., 0.]))\n",
      "\n",
      "\n",
      "SVC(C=1)\n",
      "0.2765957446808511\n",
      "accuracy score: 0.5\n",
      "confusion_matrix: [[5 1 0 0 0]\n",
      " [4 7 0 1 0]\n",
      " [0 1 3 2 0]\n",
      " [3 2 3 3 0]\n",
      " [0 0 1 0 0]]\n",
      "classification_report: (74     3.0\n",
      "178    3.0\n",
      "18     0.0\n",
      "10     0.0\n",
      "186    3.0\n",
      "114    1.0\n",
      "127    2.0\n",
      "2      2.0\n",
      "44     4.0\n",
      "105    3.0\n",
      "118    3.0\n",
      "20     2.0\n",
      "88     1.0\n",
      "31     3.0\n",
      "0      2.0\n",
      "42     3.0\n",
      "152    1.0\n",
      "61     2.0\n",
      "40     3.0\n",
      "149    3.0\n",
      "11     1.0\n",
      "89     1.0\n",
      "1      0.0\n",
      "73     3.0\n",
      "41     1.0\n",
      "168    2.0\n",
      "150    0.0\n",
      "163    3.0\n",
      "199    1.0\n",
      "104    0.0\n",
      "164    1.0\n",
      "153    1.0\n",
      "147    1.0\n",
      "60     0.0\n",
      "106    1.0\n",
      "13     1.0\n",
      "Name: num, dtype: float64, array([0., 2., 0., 0., 3., 1., 2., 2., 2., 2., 2., 1., 3., 3., 3., 1., 1.,\n",
      "       2., 0., 0., 0., 0., 0., 1., 1., 3., 0., 3., 0., 0., 1., 1., 1., 1.,\n",
      "       1., 0.]))\n",
      "\n",
      "\n"
     ]
    }
   ],
   "source": [
    "from sklearn.ensemble import AdaBoostClassifier\n",
    "model=[dtc,SVC(C=1)]\n",
    "for m in model:\n",
    "    ad=AdaBoostClassifier(base_estimator=m,n_estimators=100,learning_rate=0.1,random_state=43,algorithm='SAMME')\n",
    "    ad.fit(x_train,y_train)\n",
    "    print(m)\n",
    "    print(ad.score(x_train,y_train))\n",
    "    ad_pred=ad.predict(x_test)\n",
    "    print('accuracy score:',accuracy_score(y_test,y_pred))\n",
    "    print('confusion_matrix:',confusion_matrix(y_test,y_pred))\n",
    "    print('classification_report:',(y_test,y_pred))\n",
    "    print('\\n')"
   ]
  },
  {
   "cell_type": "code",
   "execution_count": 477,
   "metadata": {},
   "outputs": [
    {
     "name": "stdout",
     "output_type": "stream",
     "text": [
      "[0.27777778 0.27777778 0.28571429 0.28571429 0.31428571]\n",
      "0.28825396825396826 0.013491129752936997\n"
     ]
    }
   ],
   "source": [
    "from sklearn.model_selection import cross_val_score\n",
    "adscores=cross_val_score(ad,df_x,y,cv=5,scoring='accuracy')\n",
    "print(adscores)\n",
    "print(adscores.mean(),adscores.std())"
   ]
  },
  {
   "cell_type": "markdown",
   "metadata": {},
   "source": [
    "From above ensembling techniques and CVS I observe that RF is performing comparatively better than other models"
   ]
  },
  {
   "cell_type": "code",
   "execution_count": 478,
   "metadata": {},
   "outputs": [
    {
     "data": {
      "text/plain": [
       "['Heartdiseaserfc.obj']"
      ]
     },
     "execution_count": 478,
     "metadata": {},
     "output_type": "execute_result"
    }
   ],
   "source": [
    "import joblib\n",
    "file='Heartdiseaserfc.obj'\n",
    "joblib.dump(rf,file)"
   ]
  },
  {
   "cell_type": "raw",
   "metadata": {},
   "source": [
    "Conclusions:\n",
    "\n",
    "1.Here from above Data Analysis and Modelling I have seen that SVC and GNC models were in competition after GridSearchCV.\n",
    "2.Then I used ensembling techniques and found out that Random forest classifier worked comparatively better but also observed that Adaboost model (DTC) was working well.\n",
    "3.Here I have saved saved RandomForest Classifier for future prediction after considering its CVS bit higher than Adaboost CVS.\n",
    "4.Above all models are underfitting,so more data at input or more pre-processing might be helpful to improve model scores and remove underfitting."
   ]
  },
  {
   "cell_type": "code",
   "execution_count": null,
   "metadata": {},
   "outputs": [],
   "source": []
  }
 ],
 "metadata": {
  "kernelspec": {
   "display_name": "Python 3",
   "language": "python",
   "name": "python3"
  },
  "language_info": {
   "codemirror_mode": {
    "name": "ipython",
    "version": 3
   },
   "file_extension": ".py",
   "mimetype": "text/x-python",
   "name": "python",
   "nbconvert_exporter": "python",
   "pygments_lexer": "ipython3",
   "version": "3.8.3"
  }
 },
 "nbformat": 4,
 "nbformat_minor": 4
}
