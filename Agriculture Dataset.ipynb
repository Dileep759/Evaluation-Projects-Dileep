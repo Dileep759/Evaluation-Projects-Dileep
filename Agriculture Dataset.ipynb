{
 "cells": [
  {
   "cell_type": "raw",
   "metadata": {},
   "source": [
    "# Loading Train Dataset for the Training of Model"
   ]
  },
  {
   "cell_type": "code",
   "execution_count": 377,
   "metadata": {},
   "outputs": [
    {
     "data": {
      "text/html": [
       "<div>\n",
       "<style scoped>\n",
       "    .dataframe tbody tr th:only-of-type {\n",
       "        vertical-align: middle;\n",
       "    }\n",
       "\n",
       "    .dataframe tbody tr th {\n",
       "        vertical-align: top;\n",
       "    }\n",
       "\n",
       "    .dataframe thead th {\n",
       "        text-align: right;\n",
       "    }\n",
       "</style>\n",
       "<table border=\"1\" class=\"dataframe\">\n",
       "  <thead>\n",
       "    <tr style=\"text-align: right;\">\n",
       "      <th></th>\n",
       "      <th>ID</th>\n",
       "      <th>Estimated_Insects_Count</th>\n",
       "      <th>Crop_Type</th>\n",
       "      <th>Soil_Type</th>\n",
       "      <th>Pesticide_Use_Category</th>\n",
       "      <th>Number_Doses_Week</th>\n",
       "      <th>Number_Weeks_Used</th>\n",
       "      <th>Number_Weeks_Quit</th>\n",
       "      <th>Season</th>\n",
       "      <th>Crop_Damage</th>\n",
       "    </tr>\n",
       "  </thead>\n",
       "  <tbody>\n",
       "    <tr>\n",
       "      <th>0</th>\n",
       "      <td>F00000001</td>\n",
       "      <td>188</td>\n",
       "      <td>1</td>\n",
       "      <td>0</td>\n",
       "      <td>1</td>\n",
       "      <td>0</td>\n",
       "      <td>0.0</td>\n",
       "      <td>0</td>\n",
       "      <td>1</td>\n",
       "      <td>0</td>\n",
       "    </tr>\n",
       "    <tr>\n",
       "      <th>1</th>\n",
       "      <td>F00000003</td>\n",
       "      <td>209</td>\n",
       "      <td>1</td>\n",
       "      <td>0</td>\n",
       "      <td>1</td>\n",
       "      <td>0</td>\n",
       "      <td>0.0</td>\n",
       "      <td>0</td>\n",
       "      <td>2</td>\n",
       "      <td>1</td>\n",
       "    </tr>\n",
       "    <tr>\n",
       "      <th>2</th>\n",
       "      <td>F00000004</td>\n",
       "      <td>257</td>\n",
       "      <td>1</td>\n",
       "      <td>0</td>\n",
       "      <td>1</td>\n",
       "      <td>0</td>\n",
       "      <td>0.0</td>\n",
       "      <td>0</td>\n",
       "      <td>2</td>\n",
       "      <td>1</td>\n",
       "    </tr>\n",
       "    <tr>\n",
       "      <th>3</th>\n",
       "      <td>F00000005</td>\n",
       "      <td>257</td>\n",
       "      <td>1</td>\n",
       "      <td>1</td>\n",
       "      <td>1</td>\n",
       "      <td>0</td>\n",
       "      <td>0.0</td>\n",
       "      <td>0</td>\n",
       "      <td>2</td>\n",
       "      <td>1</td>\n",
       "    </tr>\n",
       "    <tr>\n",
       "      <th>4</th>\n",
       "      <td>F00000006</td>\n",
       "      <td>342</td>\n",
       "      <td>1</td>\n",
       "      <td>0</td>\n",
       "      <td>1</td>\n",
       "      <td>0</td>\n",
       "      <td>0.0</td>\n",
       "      <td>0</td>\n",
       "      <td>2</td>\n",
       "      <td>1</td>\n",
       "    </tr>\n",
       "  </tbody>\n",
       "</table>\n",
       "</div>"
      ],
      "text/plain": [
       "          ID  Estimated_Insects_Count  Crop_Type  Soil_Type  \\\n",
       "0  F00000001                      188          1          0   \n",
       "1  F00000003                      209          1          0   \n",
       "2  F00000004                      257          1          0   \n",
       "3  F00000005                      257          1          1   \n",
       "4  F00000006                      342          1          0   \n",
       "\n",
       "   Pesticide_Use_Category  Number_Doses_Week  Number_Weeks_Used  \\\n",
       "0                       1                  0                0.0   \n",
       "1                       1                  0                0.0   \n",
       "2                       1                  0                0.0   \n",
       "3                       1                  0                0.0   \n",
       "4                       1                  0                0.0   \n",
       "\n",
       "   Number_Weeks_Quit  Season  Crop_Damage  \n",
       "0                  0       1            0  \n",
       "1                  0       2            1  \n",
       "2                  0       2            1  \n",
       "3                  0       2            1  \n",
       "4                  0       2            1  "
      ]
     },
     "execution_count": 377,
     "metadata": {},
     "output_type": "execute_result"
    }
   ],
   "source": [
    "import pandas as pd\n",
    "df=pd.read_csv('train_agriculture.csv')\n",
    "df.head()"
   ]
  },
  {
   "cell_type": "markdown",
   "metadata": {},
   "source": [
    "Data Description:\n",
    "    \n",
    "    There are total 10 attributes and 88858 instances in Dataset. We need to determine the outcome of the harvest season, i.e. whether the crop would be healthy (alive), damaged by pesticides or damaged by other reasons.\n",
    "    Please find below the attribute description-\n",
    "    \n",
    "    1. ID - Unique ID\n",
    "    2. Estimated_Insects_Count - Estimated Insects count per square meter\n",
    "    3. Crop_Type - Category of Crop(0,1)\n",
    "    4. Soil_Type - Category of Soil(0,1)\n",
    "    5. Pesticide_Use_Category - Type of Pesticides Uses (1:Never,2:Previously Used,3:Currently Using)\n",
    "    6. Number_Doses_Week - Number of Doses Per Week\n",
    "    7. Number_Weeks_Used - Number of Weeks Used\n",
    "    8. Number_Weeks_Quit - Number of Weeks Quit\n",
    "    9. Season - Season Category(1,2,3)\n",
    "    10.Crop_Damage - Crop Damage Category(0:Alive,1:Damage due to other causes,2:Damage due to pesticides)"
   ]
  },
  {
   "cell_type": "code",
   "execution_count": 378,
   "metadata": {},
   "outputs": [
    {
     "data": {
      "text/plain": [
       "(88858, 10)"
      ]
     },
     "execution_count": 378,
     "metadata": {},
     "output_type": "execute_result"
    }
   ],
   "source": [
    "df.shape"
   ]
  },
  {
   "cell_type": "code",
   "execution_count": 379,
   "metadata": {},
   "outputs": [],
   "source": [
    "df['ID']=df['ID'].drop_duplicates()"
   ]
  },
  {
   "cell_type": "code",
   "execution_count": 380,
   "metadata": {},
   "outputs": [
    {
     "data": {
      "text/plain": [
       "(88858, 10)"
      ]
     },
     "execution_count": 380,
     "metadata": {},
     "output_type": "execute_result"
    }
   ],
   "source": [
    "df.shape"
   ]
  },
  {
   "cell_type": "code",
   "execution_count": 381,
   "metadata": {},
   "outputs": [
    {
     "name": "stdout",
     "output_type": "stream",
     "text": [
      "(0, 10)\n"
     ]
    }
   ],
   "source": [
    "duplicate_rows=df[df.duplicated()]\n",
    "print(duplicate_rows.shape)"
   ]
  },
  {
   "cell_type": "code",
   "execution_count": 382,
   "metadata": {},
   "outputs": [],
   "source": [
    "df.drop(columns=['ID'],axis=1,inplace=True)"
   ]
  },
  {
   "cell_type": "markdown",
   "metadata": {},
   "source": [
    "Above I have dropprd ID column from dataset because this has unique or discrete no which are not contributing to any output pattern"
   ]
  },
  {
   "cell_type": "code",
   "execution_count": 383,
   "metadata": {},
   "outputs": [
    {
     "data": {
      "text/plain": [
       "Index(['Estimated_Insects_Count', 'Crop_Type', 'Soil_Type',\n",
       "       'Pesticide_Use_Category', 'Number_Doses_Week', 'Number_Weeks_Used',\n",
       "       'Number_Weeks_Quit', 'Season', 'Crop_Damage'],\n",
       "      dtype='object')"
      ]
     },
     "execution_count": 383,
     "metadata": {},
     "output_type": "execute_result"
    }
   ],
   "source": [
    "df.columns"
   ]
  },
  {
   "cell_type": "code",
   "execution_count": 384,
   "metadata": {},
   "outputs": [
    {
     "data": {
      "text/plain": [
       "Estimated_Insects_Count      int64\n",
       "Crop_Type                    int64\n",
       "Soil_Type                    int64\n",
       "Pesticide_Use_Category       int64\n",
       "Number_Doses_Week            int64\n",
       "Number_Weeks_Used          float64\n",
       "Number_Weeks_Quit            int64\n",
       "Season                       int64\n",
       "Crop_Damage                  int64\n",
       "dtype: object"
      ]
     },
     "execution_count": 384,
     "metadata": {},
     "output_type": "execute_result"
    }
   ],
   "source": [
    "df.dtypes"
   ]
  },
  {
   "cell_type": "markdown",
   "metadata": {},
   "source": [
    "dataframe has 8 attributes with int datatype and only Number_Weeks_Used attribute with float datatype, but Number_Weeks_Used cannot be a float no, so here I will change it to the int datatype"
   ]
  },
  {
   "cell_type": "code",
   "execution_count": 385,
   "metadata": {},
   "outputs": [
    {
     "data": {
      "text/plain": [
       "True"
      ]
     },
     "execution_count": 385,
     "metadata": {},
     "output_type": "execute_result"
    }
   ],
   "source": [
    "df.isnull().values.any()"
   ]
  },
  {
   "cell_type": "markdown",
   "metadata": {},
   "source": [
    "Dataframe has null values present inside"
   ]
  },
  {
   "cell_type": "code",
   "execution_count": 386,
   "metadata": {},
   "outputs": [
    {
     "data": {
      "text/plain": [
       "Estimated_Insects_Count       0\n",
       "Crop_Type                     0\n",
       "Soil_Type                     0\n",
       "Pesticide_Use_Category        0\n",
       "Number_Doses_Week             0\n",
       "Number_Weeks_Used          9000\n",
       "Number_Weeks_Quit             0\n",
       "Season                        0\n",
       "Crop_Damage                   0\n",
       "dtype: int64"
      ]
     },
     "execution_count": 386,
     "metadata": {},
     "output_type": "execute_result"
    }
   ],
   "source": [
    "df.isnull().sum()"
   ]
  },
  {
   "cell_type": "markdown",
   "metadata": {},
   "source": [
    "Number_Weeks_Used attribute of dataframe consists of total 9000 null values"
   ]
  },
  {
   "cell_type": "markdown",
   "metadata": {},
   "source": [
    "Imputing Null Values with the help of fillna() function"
   ]
  },
  {
   "cell_type": "code",
   "execution_count": 387,
   "metadata": {},
   "outputs": [],
   "source": [
    "df['Number_Weeks_Used'].fillna(df['Number_Weeks_Used'].mean(),inplace=True)"
   ]
  },
  {
   "cell_type": "code",
   "execution_count": 388,
   "metadata": {},
   "outputs": [
    {
     "data": {
      "text/plain": [
       "False"
      ]
     },
     "execution_count": 388,
     "metadata": {},
     "output_type": "execute_result"
    }
   ],
   "source": [
    "df.isnull().values.any()"
   ]
  },
  {
   "cell_type": "markdown",
   "metadata": {},
   "source": [
    "Changing datatype of Number_Weeks_Used from float to int"
   ]
  },
  {
   "cell_type": "code",
   "execution_count": 389,
   "metadata": {},
   "outputs": [],
   "source": [
    "df['Number_Weeks_Used']=df['Number_Weeks_Used'].astype(int)"
   ]
  },
  {
   "cell_type": "code",
   "execution_count": 390,
   "metadata": {},
   "outputs": [
    {
     "data": {
      "text/plain": [
       "Estimated_Insects_Count    int64\n",
       "Crop_Type                  int64\n",
       "Soil_Type                  int64\n",
       "Pesticide_Use_Category     int64\n",
       "Number_Doses_Week          int64\n",
       "Number_Weeks_Used          int32\n",
       "Number_Weeks_Quit          int64\n",
       "Season                     int64\n",
       "Crop_Damage                int64\n",
       "dtype: object"
      ]
     },
     "execution_count": 390,
     "metadata": {},
     "output_type": "execute_result"
    }
   ],
   "source": [
    "df.dtypes"
   ]
  },
  {
   "cell_type": "code",
   "execution_count": 391,
   "metadata": {},
   "outputs": [
    {
     "name": "stdout",
     "output_type": "stream",
     "text": [
      "<class 'pandas.core.frame.DataFrame'>\n",
      "RangeIndex: 88858 entries, 0 to 88857\n",
      "Data columns (total 9 columns):\n",
      " #   Column                   Non-Null Count  Dtype\n",
      "---  ------                   --------------  -----\n",
      " 0   Estimated_Insects_Count  88858 non-null  int64\n",
      " 1   Crop_Type                88858 non-null  int64\n",
      " 2   Soil_Type                88858 non-null  int64\n",
      " 3   Pesticide_Use_Category   88858 non-null  int64\n",
      " 4   Number_Doses_Week        88858 non-null  int64\n",
      " 5   Number_Weeks_Used        88858 non-null  int32\n",
      " 6   Number_Weeks_Quit        88858 non-null  int64\n",
      " 7   Season                   88858 non-null  int64\n",
      " 8   Crop_Damage              88858 non-null  int64\n",
      "dtypes: int32(1), int64(8)\n",
      "memory usage: 5.8 MB\n"
     ]
    }
   ],
   "source": [
    "df.info()"
   ]
  },
  {
   "cell_type": "markdown",
   "metadata": {},
   "source": [
    "Observations:\n",
    "    \n",
    "    1. Now, there are total 88858 rows and 9 columns in dataframe.\n",
    "    2. Now, all the attributes are of int datatype\n",
    "    3. Now, there are no null values present in dataframe    "
   ]
  },
  {
   "cell_type": "markdown",
   "metadata": {},
   "source": [
    "Summary Statistics"
   ]
  },
  {
   "cell_type": "code",
   "execution_count": 392,
   "metadata": {},
   "outputs": [
    {
     "data": {
      "text/html": [
       "<div>\n",
       "<style scoped>\n",
       "    .dataframe tbody tr th:only-of-type {\n",
       "        vertical-align: middle;\n",
       "    }\n",
       "\n",
       "    .dataframe tbody tr th {\n",
       "        vertical-align: top;\n",
       "    }\n",
       "\n",
       "    .dataframe thead th {\n",
       "        text-align: right;\n",
       "    }\n",
       "</style>\n",
       "<table border=\"1\" class=\"dataframe\">\n",
       "  <thead>\n",
       "    <tr style=\"text-align: right;\">\n",
       "      <th></th>\n",
       "      <th>Estimated_Insects_Count</th>\n",
       "      <th>Crop_Type</th>\n",
       "      <th>Soil_Type</th>\n",
       "      <th>Pesticide_Use_Category</th>\n",
       "      <th>Number_Doses_Week</th>\n",
       "      <th>Number_Weeks_Used</th>\n",
       "      <th>Number_Weeks_Quit</th>\n",
       "      <th>Season</th>\n",
       "      <th>Crop_Damage</th>\n",
       "    </tr>\n",
       "  </thead>\n",
       "  <tbody>\n",
       "    <tr>\n",
       "      <th>count</th>\n",
       "      <td>88858.000000</td>\n",
       "      <td>88858.000000</td>\n",
       "      <td>88858.000000</td>\n",
       "      <td>88858.000000</td>\n",
       "      <td>88858.000000</td>\n",
       "      <td>88858.000000</td>\n",
       "      <td>88858.000000</td>\n",
       "      <td>88858.000000</td>\n",
       "      <td>88858.000000</td>\n",
       "    </tr>\n",
       "    <tr>\n",
       "      <th>mean</th>\n",
       "      <td>1399.012210</td>\n",
       "      <td>0.284375</td>\n",
       "      <td>0.458417</td>\n",
       "      <td>2.264186</td>\n",
       "      <td>25.849952</td>\n",
       "      <td>28.560771</td>\n",
       "      <td>9.589986</td>\n",
       "      <td>1.896959</td>\n",
       "      <td>0.190562</td>\n",
       "    </tr>\n",
       "    <tr>\n",
       "      <th>std</th>\n",
       "      <td>849.048781</td>\n",
       "      <td>0.451119</td>\n",
       "      <td>0.498271</td>\n",
       "      <td>0.461772</td>\n",
       "      <td>15.554428</td>\n",
       "      <td>11.749075</td>\n",
       "      <td>9.900631</td>\n",
       "      <td>0.701322</td>\n",
       "      <td>0.454215</td>\n",
       "    </tr>\n",
       "    <tr>\n",
       "      <th>min</th>\n",
       "      <td>150.000000</td>\n",
       "      <td>0.000000</td>\n",
       "      <td>0.000000</td>\n",
       "      <td>1.000000</td>\n",
       "      <td>0.000000</td>\n",
       "      <td>0.000000</td>\n",
       "      <td>0.000000</td>\n",
       "      <td>1.000000</td>\n",
       "      <td>0.000000</td>\n",
       "    </tr>\n",
       "    <tr>\n",
       "      <th>25%</th>\n",
       "      <td>731.000000</td>\n",
       "      <td>0.000000</td>\n",
       "      <td>0.000000</td>\n",
       "      <td>2.000000</td>\n",
       "      <td>15.000000</td>\n",
       "      <td>20.000000</td>\n",
       "      <td>0.000000</td>\n",
       "      <td>1.000000</td>\n",
       "      <td>0.000000</td>\n",
       "    </tr>\n",
       "    <tr>\n",
       "      <th>50%</th>\n",
       "      <td>1212.000000</td>\n",
       "      <td>0.000000</td>\n",
       "      <td>0.000000</td>\n",
       "      <td>2.000000</td>\n",
       "      <td>20.000000</td>\n",
       "      <td>28.000000</td>\n",
       "      <td>7.000000</td>\n",
       "      <td>2.000000</td>\n",
       "      <td>0.000000</td>\n",
       "    </tr>\n",
       "    <tr>\n",
       "      <th>75%</th>\n",
       "      <td>1898.000000</td>\n",
       "      <td>1.000000</td>\n",
       "      <td>1.000000</td>\n",
       "      <td>3.000000</td>\n",
       "      <td>40.000000</td>\n",
       "      <td>36.000000</td>\n",
       "      <td>16.000000</td>\n",
       "      <td>2.000000</td>\n",
       "      <td>0.000000</td>\n",
       "    </tr>\n",
       "    <tr>\n",
       "      <th>max</th>\n",
       "      <td>4097.000000</td>\n",
       "      <td>1.000000</td>\n",
       "      <td>1.000000</td>\n",
       "      <td>3.000000</td>\n",
       "      <td>95.000000</td>\n",
       "      <td>67.000000</td>\n",
       "      <td>50.000000</td>\n",
       "      <td>3.000000</td>\n",
       "      <td>2.000000</td>\n",
       "    </tr>\n",
       "  </tbody>\n",
       "</table>\n",
       "</div>"
      ],
      "text/plain": [
       "       Estimated_Insects_Count     Crop_Type     Soil_Type  \\\n",
       "count             88858.000000  88858.000000  88858.000000   \n",
       "mean               1399.012210      0.284375      0.458417   \n",
       "std                 849.048781      0.451119      0.498271   \n",
       "min                 150.000000      0.000000      0.000000   \n",
       "25%                 731.000000      0.000000      0.000000   \n",
       "50%                1212.000000      0.000000      0.000000   \n",
       "75%                1898.000000      1.000000      1.000000   \n",
       "max                4097.000000      1.000000      1.000000   \n",
       "\n",
       "       Pesticide_Use_Category  Number_Doses_Week  Number_Weeks_Used  \\\n",
       "count            88858.000000       88858.000000       88858.000000   \n",
       "mean                 2.264186          25.849952          28.560771   \n",
       "std                  0.461772          15.554428          11.749075   \n",
       "min                  1.000000           0.000000           0.000000   \n",
       "25%                  2.000000          15.000000          20.000000   \n",
       "50%                  2.000000          20.000000          28.000000   \n",
       "75%                  3.000000          40.000000          36.000000   \n",
       "max                  3.000000          95.000000          67.000000   \n",
       "\n",
       "       Number_Weeks_Quit        Season   Crop_Damage  \n",
       "count       88858.000000  88858.000000  88858.000000  \n",
       "mean            9.589986      1.896959      0.190562  \n",
       "std             9.900631      0.701322      0.454215  \n",
       "min             0.000000      1.000000      0.000000  \n",
       "25%             0.000000      1.000000      0.000000  \n",
       "50%             7.000000      2.000000      0.000000  \n",
       "75%            16.000000      2.000000      0.000000  \n",
       "max            50.000000      3.000000      2.000000  "
      ]
     },
     "execution_count": 392,
     "metadata": {},
     "output_type": "execute_result"
    }
   ],
   "source": [
    "df.describe()"
   ]
  },
  {
   "cell_type": "markdown",
   "metadata": {},
   "source": [
    "Observations:\n",
    "    \n",
    "    1. Min and Max number of pesticide Doses per week are 0 and 95 respectively\n",
    "    2. Min and Max number of weeks used to do pesticide are 0 and 67 respectively\n",
    "    3. Min and Max number of weeks pesticide was not used are 0 and 50 respectively\n",
    "    4. In Estimated_Insects_Count, Number_Doses_Week, Number_Weeks_Used and Number_Weeks_Quit difference between Q3 and max is high so there might be some outliers are present in these columns"
   ]
  },
  {
   "cell_type": "markdown",
   "metadata": {},
   "source": [
    "Data Correlation"
   ]
  },
  {
   "cell_type": "code",
   "execution_count": 393,
   "metadata": {},
   "outputs": [
    {
     "data": {
      "text/plain": [
       "<matplotlib.axes._subplots.AxesSubplot at 0x1521e7af580>"
      ]
     },
     "execution_count": 393,
     "metadata": {},
     "output_type": "execute_result"
    },
    {
     "data": {
      "image/png": "[encoded data removed]",
      "text/plain": [
       "<Figure size 576x432 with 2 Axes>"
      ]
     },
     "metadata": {
      "needs_background": "light"
     },
     "output_type": "display_data"
    }
   ],
   "source": [
    "import seaborn as sns\n",
    "import matplotlib.pyplot as plt\n",
    "plt.figure(figsize=(8,6))\n",
    "cor=df.corr()\n",
    "sns.heatmap(cor,annot=True,fmt='.0%',cmap='cool')"
   ]
  },
  {
   "cell_type": "raw",
   "metadata": {},
   "source": [
    "Observations:\n",
    "    \n",
    "    1. From above heatmap we observe that there is no any highly positive correlation between any two attributes.\n",
    "    2. Estimated_Insects_Count-Number_Weeks_Used and Pesticide_Use_Category-Number_Weeks_Used attributes are moderately        correlated\n",
    "    3. There is high negative correlation between Pesticide_Use_Category-Number_Weeks_Quit and Number_Weeks_Used-Number_Weeks_Quit"
   ]
  },
  {
   "cell_type": "markdown",
   "metadata": {},
   "source": [
    "Correlation with Target"
   ]
  },
  {
   "cell_type": "code",
   "execution_count": 394,
   "metadata": {},
   "outputs": [
    {
     "data": {
      "text/plain": [
       "Text(0.5, 1.0, 'correlation with target variable')"
      ]
     },
     "execution_count": 394,
     "metadata": {},
     "output_type": "execute_result"
    },
    {
     "data": {
      "image/png": "[encoded data removed]",
      "text/plain": [
       "<Figure size 576x432 with 1 Axes>"
      ]
     },
     "metadata": {
      "needs_background": "light"
     },
     "output_type": "display_data"
    }
   ],
   "source": [
    "plt.figure(figsize=(8,6))\n",
    "df.drop('Crop_Damage',axis=1).corrwith(df['Crop_Damage']).plot(kind='bar',grid=True)\n",
    "plt.xticks(rotation=20)\n",
    "plt.title(\"correlation with target variable\")"
   ]
  },
  {
   "cell_type": "markdown",
   "metadata": {},
   "source": [
    "Observations:\n",
    "    \n",
    "    1. Number of weeks used and Number of weeks quit attributes are most positively and most negatively correlated with Crop_Damage target attribute\n",
    "\n",
    "    From the above fact we can analyse the significance or importance of overall week basis use of pesticides over crop output. Here more weeks the pesticide used resulted into more Live or 0 Damage of crops , on the other hand less no of weeks use of pesticide resulted into 1 Damage of crops"
   ]
  },
  {
   "cell_type": "markdown",
   "metadata": {},
   "source": [
    "Univariate Analysis"
   ]
  },
  {
   "cell_type": "code",
   "execution_count": 395,
   "metadata": {},
   "outputs": [
    {
     "data": {
      "image/png": "[encoded data removed]",
      "text/plain": [
       "<Figure size 432x288 with 1 Axes>"
      ]
     },
     "metadata": {
      "needs_background": "light"
     },
     "output_type": "display_data"
    },
    {
     "name": "stdout",
     "output_type": "stream",
     "text": [
      "0    74238\n",
      "1    12307\n",
      "2     2313\n",
      "Name: Crop_Damage, dtype: int64\n"
     ]
    }
   ],
   "source": [
    "plt.subplots(figsize=(6,4))\n",
    "sns.countplot(x='Crop_Damage',data=df)\n",
    "plt.title('Crop_Damage count')\n",
    "plt.xlabel('Crop_Damage type')\n",
    "plt.ylabel('Crop_Damage cases count')\n",
    "plt.show()\n",
    "\n",
    "print(df['Crop_Damage'].value_counts())"
   ]
  },
  {
   "cell_type": "markdown",
   "metadata": {},
   "source": [
    "From above plot we observe that there is output class imbalance present as Live crops class(0) and other two classes have very high difference among them"
   ]
  },
  {
   "cell_type": "code",
   "execution_count": 396,
   "metadata": {},
   "outputs": [
    {
     "data": {
      "image/png": "[encoded data removed]",
      "text/plain": [
       "<Figure size 432x288 with 1 Axes>"
      ]
     },
     "metadata": {
      "needs_background": "light"
     },
     "output_type": "display_data"
    },
    {
     "name": "stdout",
     "output_type": "stream",
     "text": [
      "2    63709\n",
      "3    24312\n",
      "1      837\n",
      "Name: Pesticide_Use_Category, dtype: int64\n"
     ]
    }
   ],
   "source": [
    "plt.subplots(figsize=(6,4))\n",
    "sns.countplot(x='Pesticide_Use_Category',data=df)\n",
    "plt.title('Pesticide category count')\n",
    "plt.xlabel('Pesticide type')\n",
    "plt.ylabel('Pesticide category uses count')\n",
    "plt.show()\n",
    "\n",
    "print(df['Pesticide_Use_Category'].value_counts())"
   ]
  },
  {
   "cell_type": "markdown",
   "metadata": {},
   "source": [
    "From above plot we can see that there are highest number of farmers who used pesticides before and lowest number of farmers who haven't used it in their life "
   ]
  },
  {
   "cell_type": "code",
   "execution_count": 397,
   "metadata": {},
   "outputs": [
    {
     "data": {
      "image/png": "[encoded data removed]",
      "text/plain": [
       "<Figure size 432x288 with 1 Axes>"
      ]
     },
     "metadata": {
      "needs_background": "light"
     },
     "output_type": "display_data"
    }
   ],
   "source": [
    "import numpy as np\n",
    "Weeks_used=df['Number_Weeks_Used'].hist()\n",
    "mean_val=np.mean(df['Number_Weeks_Used'])\n",
    "plt.axvline(mean_val,linewidth=3,color='red',label='mean weeks used')\n",
    "plt.xlabel('Number_Weeks_Used')\n",
    "plt.ylabel('Farmers Count')\n",
    "plt.legend()\n",
    "plt.show()"
   ]
  },
  {
   "cell_type": "markdown",
   "metadata": {},
   "source": [
    "From above plot we observe that the Mean no of weeks, the pesticide was used is around 28 weeks and that is used by around 24000 farmers"
   ]
  },
  {
   "cell_type": "markdown",
   "metadata": {},
   "source": [
    "Bivariate Analysis"
   ]
  },
  {
   "cell_type": "code",
   "execution_count": 398,
   "metadata": {},
   "outputs": [
    {
     "data": {
      "image/png": "[encoded data removed]",
      "text/plain": [
       "<Figure size 648x216 with 3 Axes>"
      ]
     },
     "metadata": {
      "needs_background": "light"
     },
     "output_type": "display_data"
    }
   ],
   "source": [
    "facet=sns.FacetGrid(df,col='Crop_Damage')\n",
    "facet.map(sns.distplot,'Number_Weeks_Used')\n",
    "plt.show()"
   ]
  },
  {
   "cell_type": "markdown",
   "metadata": {},
   "source": [
    "Observation:\n",
    "    \n",
    "    1. From above first plot we observe that it is almost uniform since the pesticide was used uniformly over weeks hence it has 0 crop damage(all crops are live)\n",
    "    2. From second plot we observe that in this case pesticide was less used in some starting weeks hence it has crop damage\n",
    "    3. From third plot we observe that in this case there were the initial weeks when there was no use of pesticides hence it has crop damage"
   ]
  },
  {
   "cell_type": "code",
   "execution_count": 399,
   "metadata": {},
   "outputs": [
    {
     "data": {
      "image/png": "[encoded data removed]",
      "text/plain": [
       "<Figure size 648x216 with 3 Axes>"
      ]
     },
     "metadata": {
      "needs_background": "light"
     },
     "output_type": "display_data"
    }
   ],
   "source": [
    "facet=sns.FacetGrid(df,col='Crop_Damage')\n",
    "facet.map(sns.distplot,'Number_Weeks_Quit')\n",
    "plt.show()"
   ]
  },
  {
   "cell_type": "markdown",
   "metadata": {},
   "source": [
    "These plots are inverse of the above plots, here we observe that where there is more initial weeks the pesticides are quited, it resulted into high damage."
   ]
  },
  {
   "cell_type": "code",
   "execution_count": 400,
   "metadata": {},
   "outputs": [
    {
     "data": {
      "image/png": "[encoded data removed]",
      "text/plain": [
       "<Figure size 432x288 with 1 Axes>"
      ]
     },
     "metadata": {
      "needs_background": "light"
     },
     "output_type": "display_data"
    },
    {
     "name": "stdout",
     "output_type": "stream",
     "text": [
      "Pesticide_Use_Category  Crop_Damage\n",
      "1                       1                554\n",
      "                        2                165\n",
      "                        0                118\n",
      "2                       0              56958\n",
      "                        1               6072\n",
      "                        2                679\n",
      "3                       0              17162\n",
      "                        1               5681\n",
      "                        2               1469\n",
      "Name: Crop_Damage, dtype: int64\n"
     ]
    }
   ],
   "source": [
    "plt.subplots(figsize=(6,4))\n",
    "sns.countplot(x='Pesticide_Use_Category',hue='Crop_Damage',data=df)\n",
    "plt.title('Crop Damage according to Pesticide used')\n",
    "plt.xlabel('Pesticide type')\n",
    "plt.ylabel('Farmers count')\n",
    "plt.show()\n",
    "\n",
    "print(df.groupby('Pesticide_Use_Category')['Crop_Damage'].value_counts())"
   ]
  },
  {
   "cell_type": "markdown",
   "metadata": {},
   "source": [
    "From above plot we observe that the count of Live(0- Damage) crops is highest for pesticide type 2 i.e farmers who previously used pesticides and lowest for the farmers who never ever used pesticides i.e Pesticide type 1"
   ]
  },
  {
   "cell_type": "code",
   "execution_count": 401,
   "metadata": {},
   "outputs": [
    {
     "data": {
      "image/png": "[encoded data removed]",
      "text/plain": [
       "<Figure size 432x288 with 1 Axes>"
      ]
     },
     "metadata": {
      "needs_background": "light"
     },
     "output_type": "display_data"
    },
    {
     "name": "stdout",
     "output_type": "stream",
     "text": [
      "Number_Doses_Week  Crop_Damage\n",
      "0                  1                554\n",
      "                   2                165\n",
      "                   0                118\n",
      "5                  0               5007\n",
      "                   1                473\n",
      "                   2                 40\n",
      "10                 0              10422\n",
      "                   1               1542\n",
      "                   2                147\n",
      "15                 0               7108\n",
      "                   1                950\n",
      "                   2                120\n",
      "20                 0              17789\n",
      "                   1               4042\n",
      "                   2                758\n",
      "25                 0               4310\n",
      "                   1                468\n",
      "                   2                112\n",
      "30                 0               8708\n",
      "                   1               1399\n",
      "                   2                331\n",
      "35                 0               1647\n",
      "                   1                155\n",
      "                   2                 30\n",
      "40                 0              10092\n",
      "                   1               1797\n",
      "                   2                409\n",
      "45                 0                868\n",
      "                   1                 55\n",
      "                   2                 13\n",
      "50                 0               2995\n",
      "                   1                300\n",
      "                   2                 66\n",
      "55                 0                250\n",
      "                   1                 25\n",
      "                   2                  2\n",
      "60                 0               3836\n",
      "                   1                435\n",
      "                   2                 96\n",
      "65                 0                 57\n",
      "                   1                  7\n",
      "70                 0                275\n",
      "                   1                 21\n",
      "                   2                  7\n",
      "75                 0                 56\n",
      "                   1                  5\n",
      "80                 0                590\n",
      "                   1                 68\n",
      "                   2                 14\n",
      "85                 0                  9\n",
      "                   1                  1\n",
      "                   2                  1\n",
      "90                 0                 73\n",
      "                   1                  8\n",
      "                   2                  2\n",
      "95                 0                 28\n",
      "                   1                  2\n",
      "Name: Crop_Damage, dtype: int64\n"
     ]
    }
   ],
   "source": [
    "plt.subplots(figsize=(6,4))\n",
    "sns.countplot(x='Number_Doses_Week',hue='Crop_Damage',data=df)\n",
    "plt.title('Crop Damage according to Number of Weeks Used')\n",
    "plt.xlabel('No of Weeks pesticide used')\n",
    "plt.ylabel('Farmers with crop damage count')\n",
    "plt.show()\n",
    "\n",
    "print(df.groupby('Number_Doses_Week')['Crop_Damage'].value_counts())"
   ]
  },
  {
   "cell_type": "markdown",
   "metadata": {},
   "source": [
    "Observations:\n",
    "\n",
    "1. From above plots we observe that there are most no of live crops also the most no of damage crops while harvesting when pesticides are used for 20 weeks.\n",
    "\n",
    "2. The best ratio we observe of live:lost is when the pesticides are used for 5 to 15 weeks"
   ]
  },
  {
   "cell_type": "code",
   "execution_count": 402,
   "metadata": {},
   "outputs": [
    {
     "data": {
      "image/png": "[encoded data removed]",
      "text/plain": [
       "<Figure size 360x360 with 1 Axes>"
      ]
     },
     "metadata": {
      "needs_background": "light"
     },
     "output_type": "display_data"
    }
   ],
   "source": [
    "import warnings\n",
    "warnings.filterwarnings('ignore')\n",
    "sns.factorplot(x='Crop_Type',y='Crop_Damage',data=df,kind='bar')\n",
    "plt.title('probablity of crop damage according to crop type')\n",
    "plt.show()"
   ]
  },
  {
   "cell_type": "markdown",
   "metadata": {},
   "source": [
    "From above probability plot we can see that the probability of crop 0 type to damage is higher than crop 1"
   ]
  },
  {
   "cell_type": "code",
   "execution_count": 403,
   "metadata": {},
   "outputs": [
    {
     "data": {
      "image/png": "[encoded data removed]",
      "text/plain": [
       "<Figure size 360x360 with 1 Axes>"
      ]
     },
     "metadata": {
      "needs_background": "light"
     },
     "output_type": "display_data"
    }
   ],
   "source": [
    "sns.factorplot(x='Soil_Type',y='Crop_Damage',data=df,kind='bar')\n",
    "plt.title('probablity of crop damage according to soil type')\n",
    "plt.show()"
   ]
  },
  {
   "cell_type": "markdown",
   "metadata": {},
   "source": [
    "From above probability plot we can see that the probability of crop in soil type 0 to damage is higher than that in soil type 1"
   ]
  },
  {
   "cell_type": "code",
   "execution_count": 404,
   "metadata": {},
   "outputs": [
    {
     "data": {
      "image/png": "[encoded data removed]",
      "text/plain": [
       "<Figure size 360x360 with 1 Axes>"
      ]
     },
     "metadata": {
      "needs_background": "light"
     },
     "output_type": "display_data"
    }
   ],
   "source": [
    "sns.factorplot(x='Season',y='Crop_Damage',data=df,kind='bar')\n",
    "plt.title('probablity of crop damage according to Season')\n",
    "plt.show()"
   ]
  },
  {
   "cell_type": "markdown",
   "metadata": {},
   "source": [
    "From above probability plot we can see that the probability of crop damage is highest in Season 2"
   ]
  },
  {
   "cell_type": "markdown",
   "metadata": {},
   "source": [
    "Plotting Distribution of Skewness"
   ]
  },
  {
   "cell_type": "code",
   "execution_count": 405,
   "metadata": {},
   "outputs": [
    {
     "data": {
      "text/plain": [
       "Estimated_Insects_Count    0.839146\n",
       "Crop_Type                  0.955978\n",
       "Soil_Type                  0.166914\n",
       "Pesticide_Use_Category     0.779488\n",
       "Number_Doses_Week          0.962879\n",
       "Number_Weeks_Used          0.274030\n",
       "Number_Weeks_Quit          0.892773\n",
       "Season                     0.145228\n",
       "Crop_Damage                2.367816\n",
       "dtype: float64"
      ]
     },
     "execution_count": 405,
     "metadata": {},
     "output_type": "execute_result"
    }
   ],
   "source": [
    "df.skew()"
   ]
  },
  {
   "cell_type": "code",
   "execution_count": 406,
   "metadata": {},
   "outputs": [
    {
     "data": {
      "image/png": "[encoded data removed]",
      "text/plain": [
       "<Figure size 432x288 with 1 Axes>"
      ]
     },
     "metadata": {
      "needs_background": "light"
     },
     "output_type": "display_data"
    },
    {
     "data": {
      "image/png": "[encoded data removed]",
      "text/plain": [
       "<Figure size 432x288 with 1 Axes>"
      ]
     },
     "metadata": {
      "needs_background": "light"
     },
     "output_type": "display_data"
    },
    {
     "data": {
      "image/png": "[encoded data removed]",
      "text/plain": [
       "<Figure size 432x288 with 1 Axes>"
      ]
     },
     "metadata": {
      "needs_background": "light"
     },
     "output_type": "display_data"
    },
    {
     "data": {
      "image/png": "[encoded data removed]",
      "text/plain": [
       "<Figure size 432x288 with 1 Axes>"
      ]
     },
     "metadata": {
      "needs_background": "light"
     },
     "output_type": "display_data"
    },
    {
     "data": {
      "image/png": "[encoded data removed]",
      "text/plain": [
       "<Figure size 432x288 with 1 Axes>"
      ]
     },
     "metadata": {
      "needs_background": "light"
     },
     "output_type": "display_data"
    },
    {
     "data": {
      "image/png": "[encoded data removed]",
      "text/plain": [
       "<Figure size 432x288 with 1 Axes>"
      ]
     },
     "metadata": {
      "needs_background": "light"
     },
     "output_type": "display_data"
    },
    {
     "data": {
      "image/png": "[encoded data removed]",
      "text/plain": [
       "<Figure size 432x288 with 1 Axes>"
      ]
     },
     "metadata": {
      "needs_background": "light"
     },
     "output_type": "display_data"
    },
    {
     "data": {
      "image/png": "[encoded data removed]",
      "text/plain": [
       "<Figure size 432x288 with 1 Axes>"
      ]
     },
     "metadata": {
      "needs_background": "light"
     },
     "output_type": "display_data"
    },
    {
     "data": {
      "image/png": "[encoded data removed]",
      "text/plain": [
       "<Figure size 432x288 with 1 Axes>"
      ]
     },
     "metadata": {
      "needs_background": "light"
     },
     "output_type": "display_data"
    }
   ],
   "source": [
    "for col in df.describe().columns:\n",
    "    sns.distplot(df[col],color='b')\n",
    "    plt.show()"
   ]
  },
  {
   "cell_type": "markdown",
   "metadata": {},
   "source": [
    "Observations:\n",
    "    \n",
    "    1. Estimated Insect counts is postively skewed(Right skewed)i.e - Mean>Median\n",
    "    2. Number Weeks Used is nearby uniformly distributed\n",
    "    3. Number of Weeks Quit is positively skewedi.e -Mean>Median\n",
    "    4. Others are categorical attributes.    "
   ]
  },
  {
   "cell_type": "markdown",
   "metadata": {},
   "source": [
    "Plotting Outliers using Boxplot"
   ]
  },
  {
   "cell_type": "code",
   "execution_count": 407,
   "metadata": {},
   "outputs": [
    {
     "data": {
      "image/png": "[encoded data removed]",
      "text/plain": [
       "<Figure size 1080x216 with 9 Axes>"
      ]
     },
     "metadata": {
      "needs_background": "light"
     },
     "output_type": "display_data"
    }
   ],
   "source": [
    "axs = df.plot(kind='box',subplots=True,figsize=(15,3))"
   ]
  },
  {
   "cell_type": "markdown",
   "metadata": {},
   "source": [
    "From above boxplot subplots we observe that Estimated_Insects_Count, Number_Doses_Week, Number_Weeks_Used and Number_Weeks_Quit attributes are having high number of outliers inside."
   ]
  },
  {
   "cell_type": "markdown",
   "metadata": {},
   "source": [
    "Removing Outliers using Zscore"
   ]
  },
  {
   "cell_type": "code",
   "execution_count": 408,
   "metadata": {},
   "outputs": [],
   "source": [
    "from scipy.stats import zscore\n",
    "z=np.abs(zscore(df))\n",
    "df_new=df[(z<3).all(axis=1)]"
   ]
  },
  {
   "cell_type": "code",
   "execution_count": 409,
   "metadata": {},
   "outputs": [
    {
     "data": {
      "text/plain": [
       "(84853, 9)"
      ]
     },
     "execution_count": 409,
     "metadata": {},
     "output_type": "execute_result"
    }
   ],
   "source": [
    "df_new.shape"
   ]
  },
  {
   "cell_type": "code",
   "execution_count": 410,
   "metadata": {},
   "outputs": [
    {
     "data": {
      "text/plain": [
       "(88858, 9)"
      ]
     },
     "execution_count": 410,
     "metadata": {},
     "output_type": "execute_result"
    }
   ],
   "source": [
    "df.shape"
   ]
  },
  {
   "cell_type": "markdown",
   "metadata": {},
   "source": [
    "Output Class Balancing, Normalization and Standardization"
   ]
  },
  {
   "cell_type": "code",
   "execution_count": 411,
   "metadata": {},
   "outputs": [
    {
     "data": {
      "text/plain": [
       "array([0, 1], dtype=int64)"
      ]
     },
     "execution_count": 411,
     "metadata": {},
     "output_type": "execute_result"
    }
   ],
   "source": [
    "df_new['Crop_Damage'].unique()"
   ]
  },
  {
   "cell_type": "code",
   "execution_count": 412,
   "metadata": {},
   "outputs": [
    {
     "data": {
      "text/plain": [
       "0    72903\n",
       "1    11950\n",
       "Name: Crop_Damage, dtype: int64"
      ]
     },
     "execution_count": 412,
     "metadata": {},
     "output_type": "execute_result"
    }
   ],
   "source": [
    "df_new['Crop_Damage'].value_counts()"
   ]
  },
  {
   "cell_type": "code",
   "execution_count": 413,
   "metadata": {},
   "outputs": [],
   "source": [
    "df_majority = df_new[df_new.Crop_Damage==0]\n",
    "df_minority = df_new[df_new.Crop_Damage==1]"
   ]
  },
  {
   "cell_type": "code",
   "execution_count": 414,
   "metadata": {},
   "outputs": [],
   "source": [
    "df_minority_upsampled = resample(df_minority,replace=True,n_samples=72903,random_state=123)"
   ]
  },
  {
   "cell_type": "code",
   "execution_count": 415,
   "metadata": {},
   "outputs": [],
   "source": [
    "df_upsampled = pd.concat([df_majority, df_minority_upsampled])"
   ]
  },
  {
   "cell_type": "code",
   "execution_count": 416,
   "metadata": {},
   "outputs": [
    {
     "data": {
      "text/plain": [
       "1    72903\n",
       "0    72903\n",
       "Name: Crop_Damage, dtype: int64"
      ]
     },
     "execution_count": 416,
     "metadata": {},
     "output_type": "execute_result"
    }
   ],
   "source": [
    "df_upsampled.Crop_Damage.value_counts()"
   ]
  },
  {
   "cell_type": "code",
   "execution_count": 417,
   "metadata": {},
   "outputs": [],
   "source": [
    "x=df_upsampled.drop(columns=['Crop_Damage'],axis=1)"
   ]
  },
  {
   "cell_type": "code",
   "execution_count": 418,
   "metadata": {},
   "outputs": [],
   "source": [
    "y=df_upsampled['Crop_Damage']"
   ]
  },
  {
   "cell_type": "code",
   "execution_count": 419,
   "metadata": {},
   "outputs": [
    {
     "data": {
      "text/plain": [
       "Estimated_Insects_Count    0.612439\n",
       "Crop_Type                  1.013398\n",
       "Soil_Type                  0.209641\n",
       "Pesticide_Use_Category     0.224919\n",
       "Number_Doses_Week          0.736585\n",
       "Number_Weeks_Used          0.003102\n",
       "Number_Weeks_Quit          0.940835\n",
       "Season                     0.148078\n",
       "dtype: float64"
      ]
     },
     "execution_count": 419,
     "metadata": {},
     "output_type": "execute_result"
    }
   ],
   "source": [
    "x.skew()"
   ]
  },
  {
   "cell_type": "code",
   "execution_count": 420,
   "metadata": {},
   "outputs": [],
   "source": [
    "from sklearn.preprocessing import PowerTransformer\n",
    "pt=PowerTransformer()\n",
    "x=pt.fit_transform(x)\n",
    "x=pd.DataFrame(x)"
   ]
  },
  {
   "cell_type": "code",
   "execution_count": 421,
   "metadata": {},
   "outputs": [
    {
     "data": {
      "text/plain": [
       "0   -0.061341\n",
       "1    1.013398\n",
       "2    0.209641\n",
       "3   -0.002390\n",
       "4   -0.006584\n",
       "5   -0.082083\n",
       "6   -0.011843\n",
       "7   -0.042064\n",
       "dtype: float64"
      ]
     },
     "execution_count": 421,
     "metadata": {},
     "output_type": "execute_result"
    }
   ],
   "source": [
    "x.skew()"
   ]
  },
  {
   "cell_type": "code",
   "execution_count": 422,
   "metadata": {},
   "outputs": [],
   "source": [
    "from sklearn.preprocessing import StandardScaler\n",
    "sc=StandardScaler()\n",
    "x=sc.fit_transform(x)\n",
    "x=pd.DataFrame(x)"
   ]
  },
  {
   "cell_type": "markdown",
   "metadata": {},
   "source": [
    "Importing All Libraries, Metrics and Models"
   ]
  },
  {
   "cell_type": "code",
   "execution_count": 423,
   "metadata": {},
   "outputs": [],
   "source": [
    "from sklearn.linear_model import LogisticRegression\n",
    "from sklearn.tree import DecisionTreeClassifier\n",
    "from sklearn.svm import SVC\n",
    "from sklearn.neighbors import KNeighborsClassifier\n",
    "from sklearn.naive_bayes import GaussianNB\n",
    "from sklearn.metrics import accuracy_score,confusion_matrix,classification_report\n",
    "from sklearn.model_selection import train_test_split,GridSearchCV,cross_val_score"
   ]
  },
  {
   "cell_type": "markdown",
   "metadata": {},
   "source": [
    "Model Training"
   ]
  },
  {
   "cell_type": "code",
   "execution_count": 424,
   "metadata": {},
   "outputs": [],
   "source": [
    "x_train,x_test,y_train,y_test=train_test_split(x,y,random_state=42,test_size=0.20)"
   ]
  },
  {
   "cell_type": "code",
   "execution_count": 425,
   "metadata": {},
   "outputs": [
    {
     "name": "stdout",
     "output_type": "stream",
     "text": [
      "(116644, 8) \t (29162, 8)\n"
     ]
    }
   ],
   "source": [
    "print(x_train.shape,'\\t',x_test.shape)"
   ]
  },
  {
   "cell_type": "code",
   "execution_count": 426,
   "metadata": {},
   "outputs": [
    {
     "name": "stdout",
     "output_type": "stream",
     "text": [
      "(116644,) \t (29162,)\n"
     ]
    }
   ],
   "source": [
    "print(y_train.shape,'\\t',y_test.shape)"
   ]
  },
  {
   "cell_type": "code",
   "execution_count": 427,
   "metadata": {},
   "outputs": [
    {
     "name": "stdout",
     "output_type": "stream",
     "text": [
      "Score of LogisticRegression() is: 0.6781831898768904\n",
      "accuracy score: 0.6821891502640423\n",
      "confusion_matrix: [[10092  4451]\n",
      " [ 4817  9802]]\n",
      "classification_report:               precision    recall  f1-score   support\n",
      "\n",
      "           0       0.68      0.69      0.69     14543\n",
      "           1       0.69      0.67      0.68     14619\n",
      "\n",
      "    accuracy                           0.68     29162\n",
      "   macro avg       0.68      0.68      0.68     29162\n",
      "weighted avg       0.68      0.68      0.68     29162\n",
      "\n",
      "\n",
      "\n",
      "Score of DecisionTreeClassifier() is: 0.9911697129728061\n",
      "accuracy score: 0.920924490775667\n",
      "confusion_matrix: [[12348  2195]\n",
      " [  111 14508]]\n",
      "classification_report:               precision    recall  f1-score   support\n",
      "\n",
      "           0       0.99      0.85      0.91     14543\n",
      "           1       0.87      0.99      0.93     14619\n",
      "\n",
      "    accuracy                           0.92     29162\n",
      "   macro avg       0.93      0.92      0.92     29162\n",
      "weighted avg       0.93      0.92      0.92     29162\n",
      "\n",
      "\n",
      "\n",
      "Score of GaussianNB() is: 0.6822382634340386\n",
      "accuracy score: 0.6855153967491942\n",
      "confusion_matrix: [[10674  3869]\n",
      " [ 5302  9317]]\n",
      "classification_report:               precision    recall  f1-score   support\n",
      "\n",
      "           0       0.67      0.73      0.70     14543\n",
      "           1       0.71      0.64      0.67     14619\n",
      "\n",
      "    accuracy                           0.69     29162\n",
      "   macro avg       0.69      0.69      0.68     29162\n",
      "weighted avg       0.69      0.69      0.68     29162\n",
      "\n",
      "\n",
      "\n",
      "Score of KNeighborsClassifier() is: 0.879985254277974\n",
      "accuracy score: 0.8260407379466429\n",
      "confusion_matrix: [[10219  4324]\n",
      " [  749 13870]]\n",
      "classification_report:               precision    recall  f1-score   support\n",
      "\n",
      "           0       0.93      0.70      0.80     14543\n",
      "           1       0.76      0.95      0.85     14619\n",
      "\n",
      "    accuracy                           0.83     29162\n",
      "   macro avg       0.85      0.83      0.82     29162\n",
      "weighted avg       0.85      0.83      0.82     29162\n",
      "\n",
      "\n",
      "\n"
     ]
    }
   ],
   "source": [
    "lr=LogisticRegression()\n",
    "dtc=DecisionTreeClassifier()\n",
    "gnb=GaussianNB()\n",
    "knc=KNeighborsClassifier()\n",
    "model=[lr,dtc,gnb,knc]\n",
    "for m in model:\n",
    "    m.fit(x_train,y_train)\n",
    "    print('Score of',m,'is:',m.score(x_train,y_train))\n",
    "    y_pred=m.predict(x_test)\n",
    "    print('accuracy score:',accuracy_score(y_test,y_pred))\n",
    "    print('confusion_matrix:',confusion_matrix(y_test,y_pred))\n",
    "    print('classification_report:',classification_report(y_test,y_pred))\n",
    "    print('\\n')"
   ]
  },
  {
   "cell_type": "markdown",
   "metadata": {},
   "source": [
    "Out of above classifiers DecisionTreeClassifier is performing good.\n",
    "\n",
    "Let's see using GridSearchCV hyperparameter tuning whether DecisionTreeClassifier is Overfitting or Not"
   ]
  },
  {
   "cell_type": "code",
   "execution_count": 428,
   "metadata": {},
   "outputs": [
    {
     "name": "stdout",
     "output_type": "stream",
     "text": [
      "{'criterion': 'entropy'}\n"
     ]
    }
   ],
   "source": [
    "grid_param={'criterion':['gini','entropy']}\n",
    "gd_sr=GridSearchCV(estimator=dtc,param_grid=grid_param,scoring='accuracy',cv=5)\n",
    "gd_sr.fit(x,y)\n",
    "best_parameters=gd_sr.best_params_\n",
    "print(best_parameters)"
   ]
  },
  {
   "cell_type": "markdown",
   "metadata": {},
   "source": [
    "Passing best parameter to the classifier"
   ]
  },
  {
   "cell_type": "code",
   "execution_count": 429,
   "metadata": {},
   "outputs": [
    {
     "name": "stdout",
     "output_type": "stream",
     "text": [
      "Score of DecisionTreeClassifier(criterion='entropy') is: 0.9911697129728061\n",
      "accuracy score: 0.9211645291818119\n",
      "confusion matrix: [[12346  2197]\n",
      " [  102 14517]]\n",
      "classification report:               precision    recall  f1-score   support\n",
      "\n",
      "           0       0.99      0.85      0.91     14543\n",
      "           1       0.87      0.99      0.93     14619\n",
      "\n",
      "    accuracy                           0.92     29162\n",
      "   macro avg       0.93      0.92      0.92     29162\n",
      "weighted avg       0.93      0.92      0.92     29162\n",
      "\n"
     ]
    }
   ],
   "source": [
    "dtc=DecisionTreeClassifier(criterion='entropy')\n",
    "dtc.fit(x_train,y_train)\n",
    "print('Score of',dtc,'is:',dtc.score(x_train,y_train))\n",
    "y_pred=dtc.predict(x_test)\n",
    "print('accuracy score:',accuracy_score(y_test,y_pred))\n",
    "print('confusion matrix:',confusion_matrix(y_test,y_pred))\n",
    "print('classification report:',classification_report(y_test,y_pred))"
   ]
  },
  {
   "cell_type": "markdown",
   "metadata": {},
   "source": [
    "So the result is same, hence the model is not overfitting\n",
    "\n",
    "Lets try one more time with Cross Validation of the scores for all the classifiers and see if there is overfitting/Underfitting."
   ]
  },
  {
   "cell_type": "code",
   "execution_count": 430,
   "metadata": {},
   "outputs": [
    {
     "name": "stdout",
     "output_type": "stream",
     "text": [
      "[0.92150744 0.9176983  0.91955008 0.92112753 0.91989301]\n",
      "mean score and standard deviation of DecisionTreeClassifier(criterion='entropy') is 0.9199552724018986 0.001345022093595327\n",
      "\n",
      "\n",
      "[0.82758384 0.8236686  0.82781798 0.8303899  0.82497171]\n",
      "mean score and standard deviation of KNeighborsClassifier() is 0.8268864059268063 0.0023515565463211865\n",
      "\n",
      "\n",
      "[0.68407517 0.67813175 0.67593704 0.68118377 0.67518261]\n",
      "mean score and standard deviation of LogisticRegression() is 0.6789020673147951 0.003322237125584497\n",
      "\n",
      "\n",
      "[0.68993896 0.6828641  0.6828641  0.68221254 0.67823463]\n",
      "mean score and standard deviation of GaussianNB() is 0.6832228665754833 0.003775357789493227\n",
      "\n",
      "\n"
     ]
    }
   ],
   "source": [
    "model=[DecisionTreeClassifier(criterion='entropy'),KNeighborsClassifier(),LogisticRegression(),GaussianNB()]\n",
    "for m in model:\n",
    "    mscores=cross_val_score(m,x,y,cv=5,scoring='accuracy')\n",
    "    print(mscores)\n",
    "    print('mean score and standard deviation of',m,'is',mscores.mean(),mscores.std())\n",
    "    print('\\n')"
   ]
  },
  {
   "cell_type": "markdown",
   "metadata": {},
   "source": [
    "Again the DecisionTreeClassifier has best score and also least Standard deviation\n",
    "\n",
    "Let's see using Ensembling techniques if we can still boost up the score"
   ]
  },
  {
   "cell_type": "code",
   "execution_count": 431,
   "metadata": {},
   "outputs": [],
   "source": [
    "from sklearn.ensemble import RandomForestClassifier\n",
    "from sklearn.ensemble import AdaBoostClassifier\n",
    "from sklearn.ensemble import GradientBoostingClassifier\n",
    "from sklearn.ensemble import BaggingClassifier\n",
    "from sklearn.ensemble import ExtraTreesClassifier"
   ]
  },
  {
   "cell_type": "code",
   "execution_count": 432,
   "metadata": {},
   "outputs": [
    {
     "name": "stdout",
     "output_type": "stream",
     "text": [
      "Score of RandomForestClassifier() is: 0.9911697129728061\n",
      "accuracy score: 0.946402853027913\n",
      "confusion matrix: [[13064  1479]\n",
      " [   84 14535]]\n",
      "classification report:               precision    recall  f1-score   support\n",
      "\n",
      "           0       0.99      0.90      0.94     14543\n",
      "           1       0.91      0.99      0.95     14619\n",
      "\n",
      "    accuracy                           0.95     29162\n",
      "   macro avg       0.95      0.95      0.95     29162\n",
      "weighted avg       0.95      0.95      0.95     29162\n",
      "\n",
      "*****************************************************************************************************************\n",
      "\n",
      "\n",
      "Score of AdaBoostClassifier() is: 0.7115325263193992\n",
      "accuracy score: 0.7127769014470887\n",
      "confusion matrix: [[10529  4014]\n",
      " [ 4362 10257]]\n",
      "classification report:               precision    recall  f1-score   support\n",
      "\n",
      "           0       0.71      0.72      0.72     14543\n",
      "           1       0.72      0.70      0.71     14619\n",
      "\n",
      "    accuracy                           0.71     29162\n",
      "   macro avg       0.71      0.71      0.71     29162\n",
      "weighted avg       0.71      0.71      0.71     29162\n",
      "\n",
      "*****************************************************************************************************************\n",
      "\n",
      "\n",
      "Score of GradientBoostingClassifier() is: 0.7256867048455129\n",
      "accuracy score: 0.7259447225841849\n",
      "confusion matrix: [[10610  3933]\n",
      " [ 4059 10560]]\n",
      "classification report:               precision    recall  f1-score   support\n",
      "\n",
      "           0       0.72      0.73      0.73     14543\n",
      "           1       0.73      0.72      0.73     14619\n",
      "\n",
      "    accuracy                           0.73     29162\n",
      "   macro avg       0.73      0.73      0.73     29162\n",
      "weighted avg       0.73      0.73      0.73     29162\n",
      "\n",
      "*****************************************************************************************************************\n",
      "\n",
      "\n",
      "Score of BaggingClassifier() is: 0.9894122286615685\n",
      "accuracy score: 0.9388244976339072\n",
      "confusion matrix: [[12887  1656]\n",
      " [  128 14491]]\n",
      "classification report:               precision    recall  f1-score   support\n",
      "\n",
      "           0       0.99      0.89      0.94     14543\n",
      "           1       0.90      0.99      0.94     14619\n",
      "\n",
      "    accuracy                           0.94     29162\n",
      "   macro avg       0.94      0.94      0.94     29162\n",
      "weighted avg       0.94      0.94      0.94     29162\n",
      "\n",
      "*****************************************************************************************************************\n",
      "\n",
      "\n",
      "Score of ExtraTreesClassifier() is: 0.9911697129728061\n",
      "accuracy score: 0.9587819765448186\n",
      "confusion matrix: [[13453  1090]\n",
      " [  112 14507]]\n",
      "classification report:               precision    recall  f1-score   support\n",
      "\n",
      "           0       0.99      0.93      0.96     14543\n",
      "           1       0.93      0.99      0.96     14619\n",
      "\n",
      "    accuracy                           0.96     29162\n",
      "   macro avg       0.96      0.96      0.96     29162\n",
      "weighted avg       0.96      0.96      0.96     29162\n",
      "\n",
      "*****************************************************************************************************************\n",
      "\n",
      "\n"
     ]
    }
   ],
   "source": [
    "model=[RandomForestClassifier(),AdaBoostClassifier(),GradientBoostingClassifier(),BaggingClassifier(),ExtraTreesClassifier()]\n",
    "\n",
    "for m in model:\n",
    "    m.fit(x_train,y_train)\n",
    "    print('Score of',m,'is:',m.score(x_train,y_train))\n",
    "    y_pred=m.predict(x_test)\n",
    "    print('accuracy score:',accuracy_score(y_test,y_pred))\n",
    "    print('confusion matrix:',confusion_matrix(y_test,y_pred))\n",
    "    print('classification report:',classification_report(y_test,y_pred))\n",
    "    print('*****************************************************************************************************************')\n",
    "    print('\\n')"
   ]
  },
  {
   "cell_type": "markdown",
   "metadata": {},
   "source": [
    "From above we observe that ExtraTreesClassifier is performing best and that too on both the output classes(Uniformly)\n",
    "\n",
    "Let's check if ExtraTreesClassifier model is Overfitting/Underfitting by using Cross Validation of Scores"
   ]
  },
  {
   "cell_type": "code",
   "execution_count": 433,
   "metadata": {},
   "outputs": [
    {
     "name": "stdout",
     "output_type": "stream",
     "text": [
      "[0.94424251 0.94314324 0.94297178 0.94667535 0.94568088]\n",
      "mean score and standard deviation of RandomForestClassifier() is 0.9445427506429315 0.001439448498303562\n",
      "\n",
      "\n",
      "[0.71493725 0.71218408 0.71084668 0.71369295 0.70933781]\n",
      "mean score and standard deviation of AdaBoostClassifier() is 0.7121997535252762 0.00198722160688932\n",
      "\n",
      "\n",
      "[0.72985392 0.72610679 0.72264326 0.72761565 0.72089435]\n",
      "mean score and standard deviation of GradientBoostingClassifier() is 0.7254227917155139 0.00326018461575732\n",
      "\n",
      "\n",
      "[0.93769289 0.93649052 0.93515312 0.93913103 0.937485  ]\n",
      "mean score and standard deviation of BaggingClassifier() is 0.9371905099764206 0.0013225500975078911\n",
      "\n",
      "\n",
      "[0.95771895 0.9572717  0.95720311 0.959535   0.96018655]\n",
      "mean score and standard deviation of ExtraTreesClassifier() is 0.9583830614934377 0.0012367678622962005\n",
      "\n",
      "\n"
     ]
    }
   ],
   "source": [
    "model=[RandomForestClassifier(),AdaBoostClassifier(),GradientBoostingClassifier(),BaggingClassifier(),ExtraTreesClassifier()]\n",
    "for m in model:\n",
    "    mscores=cross_val_score(m,x,y,cv=5,scoring='accuracy')\n",
    "    print(mscores)\n",
    "    print('mean score and standard deviation of',m,'is',mscores.mean(),mscores.std())\n",
    "    print('\\n')"
   ]
  },
  {
   "cell_type": "markdown",
   "metadata": {},
   "source": [
    "So we observe from above scores that model is perfect and since it has very less Standard deviation"
   ]
  },
  {
   "cell_type": "code",
   "execution_count": 434,
   "metadata": {},
   "outputs": [
    {
     "data": {
      "image/png": "[encoded data removed]",
      "text/plain": [
       "<Figure size 432x288 with 1 Axes>"
      ]
     },
     "metadata": {
      "needs_background": "light"
     },
     "output_type": "display_data"
    }
   ],
   "source": [
    "et=ExtraTreesClassifier()\n",
    "et.fit(x_train,y_train)\n",
    "predet=et.predict(x_test)\n",
    "cm=confusion_matrix(y_test,predet)\n",
    "sns.heatmap(cm,annot=True,cbar=False,cmap='Blues')\n",
    "plt.title('confusion matrix-ExtraTreesClassifier')\n",
    "plt.show()"
   ]
  },
  {
   "cell_type": "code",
   "execution_count": 435,
   "metadata": {},
   "outputs": [
    {
     "data": {
      "image/png": "[encoded data removed]",
      "text/plain": [
       "<Figure size 432x288 with 1 Axes>"
      ]
     },
     "metadata": {
      "needs_background": "light"
     },
     "output_type": "display_data"
    }
   ],
   "source": [
    "rf=RandomForestClassifier()\n",
    "rf.fit(x_train,y_train)\n",
    "predrf=rf.predict(x_test)\n",
    "cm=confusion_matrix(y_test,predrf)\n",
    "sns.heatmap(cm,annot=True,cbar=False,cmap='Blues')\n",
    "plt.title('confusion matrix-RandomForestClassifier')\n",
    "plt.show()"
   ]
  },
  {
   "cell_type": "code",
   "execution_count": 436,
   "metadata": {},
   "outputs": [
    {
     "data": {
      "image/png": "[encoded data removed]",
      "text/plain": [
       "<Figure size 432x288 with 1 Axes>"
      ]
     },
     "metadata": {
      "needs_background": "light"
     },
     "output_type": "display_data"
    }
   ],
   "source": [
    "bg=BaggingClassifier()\n",
    "bg.fit(x_train,y_train)\n",
    "predbg=bg.predict(x_test)\n",
    "cm=confusion_matrix(y_test,predbg)\n",
    "sns.heatmap(cm,annot=True,cbar=False,cmap='Blues')\n",
    "plt.title('confusion matrix-BaggingClassifier')\n",
    "plt.show()"
   ]
  },
  {
   "cell_type": "code",
   "execution_count": 437,
   "metadata": {},
   "outputs": [
    {
     "data": {
      "image/png": "[encoded data removed]",
      "text/plain": [
       "<Figure size 432x288 with 1 Axes>"
      ]
     },
     "metadata": {
      "needs_background": "light"
     },
     "output_type": "display_data"
    },
    {
     "name": "stdout",
     "output_type": "stream",
     "text": [
      "0.9579042512144769\n"
     ]
    }
   ],
   "source": [
    "from sklearn.metrics import roc_curve\n",
    "from sklearn.metrics import roc_auc_score\n",
    "y_pred_prob=et.predict_proba(x_test)[:,1]\n",
    "fpr,tpr,thresholds=roc_curve(y_test,y_pred_prob)\n",
    "plt.plot([0,1],[0,1],'k--')\n",
    "plt.plot(fpr,tpr,label='ExtraTreesClassifier')\n",
    "plt.xlabel('False Positive Rate')\n",
    "plt.ylabel('True Positive Rate')\n",
    "plt.show()\n",
    "\n",
    "auc_score=roc_auc_score(y_test,predet)\n",
    "print(auc_score)"
   ]
  },
  {
   "cell_type": "code",
   "execution_count": 438,
   "metadata": {},
   "outputs": [
    {
     "data": {
      "image/png": "[encoded data removed]",
      "text/plain": [
       "<Figure size 432x288 with 1 Axes>"
      ]
     },
     "metadata": {
      "needs_background": "light"
     },
     "output_type": "display_data"
    },
    {
     "name": "stdout",
     "output_type": "stream",
     "text": [
      "0.9442174748666792\n"
     ]
    }
   ],
   "source": [
    "from sklearn.metrics import roc_curve\n",
    "from sklearn.metrics import roc_auc_score\n",
    "y_pred_prob=rf.predict_proba(x_test)[:,1]\n",
    "fpr,tpr,thresholds=roc_curve(y_test,y_pred_prob)\n",
    "plt.plot([0,1],[0,1],'k--')\n",
    "plt.plot(fpr,tpr,label='RandomForestClassifier')\n",
    "plt.xlabel('False Positive Rate')\n",
    "plt.ylabel('True Positive Rate')\n",
    "plt.show()\n",
    "\n",
    "auc_score=roc_auc_score(y_test,predrf)\n",
    "print(auc_score)"
   ]
  },
  {
   "cell_type": "code",
   "execution_count": 441,
   "metadata": {},
   "outputs": [
    {
     "data": {
      "image/png": "[encoded data removed]",
      "text/plain": [
       "<Figure size 432x288 with 1 Axes>"
      ]
     },
     "metadata": {
      "needs_background": "light"
     },
     "output_type": "display_data"
    },
    {
     "name": "stdout",
     "output_type": "stream",
     "text": [
      "0.9375217978492862\n"
     ]
    }
   ],
   "source": [
    "from sklearn.metrics import roc_curve\n",
    "from sklearn.metrics import roc_auc_score\n",
    "y_pred_prob=bg.predict_proba(x_test)[:,1]\n",
    "fpr,tpr,thresholds=roc_curve(y_test,y_pred_prob)\n",
    "plt.plot([0,1],[0,1],'k--')\n",
    "plt.plot(fpr,tpr,label='BaggingClassifier')\n",
    "plt.xlabel('False Positive Rate')\n",
    "plt.ylabel('True Positive Rate')\n",
    "plt.show()\n",
    "\n",
    "auc_score=roc_auc_score(y_test,predbg)\n",
    "print(auc_score)"
   ]
  },
  {
   "cell_type": "code",
   "execution_count": 442,
   "metadata": {},
   "outputs": [
    {
     "data": {
      "image/png": "[encoded data removed]",
      "text/plain": [
       "<Figure size 432x288 with 1 Axes>"
      ]
     },
     "metadata": {
      "needs_background": "light"
     },
     "output_type": "display_data"
    }
   ],
   "source": [
    "plt.scatter(y_test,predet)\n",
    "plt.xlabel('y_test')\n",
    "plt.ylabel('predet')\n",
    "plt.title('scatter plot between test data and predicted data')\n",
    "plt.show()"
   ]
  },
  {
   "cell_type": "markdown",
   "metadata": {},
   "source": [
    "From above confusion matrices and AUC-ROC curves we have cross checked the performance and score of the ExtraTreesClassifier and it is the best model among others, so here I am going to save it for the future output prediction."
   ]
  },
  {
   "cell_type": "markdown",
   "metadata": {},
   "source": [
    "Saving ExtraTreesClassifier model"
   ]
  },
  {
   "cell_type": "code",
   "execution_count": 344,
   "metadata": {},
   "outputs": [
    {
     "data": {
      "text/plain": [
       "['agriet.pkl']"
      ]
     },
     "execution_count": 344,
     "metadata": {},
     "output_type": "execute_result"
    }
   ],
   "source": [
    "import joblib\n",
    "file='agriet.pkl'\n",
    "joblib.dump(et,file)"
   ]
  },
  {
   "cell_type": "raw",
   "metadata": {},
   "source": [
    "\n",
    "\n",
    "\n",
    "*******************************************************************************************************************************\n",
    "\n",
    "\n"
   ]
  },
  {
   "cell_type": "raw",
   "metadata": {},
   "source": [
    "Loading Test Dataset for Testing of results from the Trained Model."
   ]
  },
  {
   "cell_type": "code",
   "execution_count": 348,
   "metadata": {},
   "outputs": [
    {
     "data": {
      "text/html": [
       "<div>\n",
       "<style scoped>\n",
       "    .dataframe tbody tr th:only-of-type {\n",
       "        vertical-align: middle;\n",
       "    }\n",
       "\n",
       "    .dataframe tbody tr th {\n",
       "        vertical-align: top;\n",
       "    }\n",
       "\n",
       "    .dataframe thead th {\n",
       "        text-align: right;\n",
       "    }\n",
       "</style>\n",
       "<table border=\"1\" class=\"dataframe\">\n",
       "  <thead>\n",
       "    <tr style=\"text-align: right;\">\n",
       "      <th></th>\n",
       "      <th>ID</th>\n",
       "      <th>Estimated_Insects_Count</th>\n",
       "      <th>Crop_Type</th>\n",
       "      <th>Soil_Type</th>\n",
       "      <th>Pesticide_Use_Category</th>\n",
       "      <th>Number_Doses_Week</th>\n",
       "      <th>Number_Weeks_Used</th>\n",
       "      <th>Number_Weeks_Quit</th>\n",
       "      <th>Season</th>\n",
       "    </tr>\n",
       "  </thead>\n",
       "  <tbody>\n",
       "    <tr>\n",
       "      <th>0</th>\n",
       "      <td>F00000002</td>\n",
       "      <td>188</td>\n",
       "      <td>1</td>\n",
       "      <td>1</td>\n",
       "      <td>1</td>\n",
       "      <td>0</td>\n",
       "      <td>NaN</td>\n",
       "      <td>0</td>\n",
       "      <td>2</td>\n",
       "    </tr>\n",
       "    <tr>\n",
       "      <th>1</th>\n",
       "      <td>F00000007</td>\n",
       "      <td>410</td>\n",
       "      <td>1</td>\n",
       "      <td>1</td>\n",
       "      <td>1</td>\n",
       "      <td>0</td>\n",
       "      <td>0.0</td>\n",
       "      <td>0</td>\n",
       "      <td>2</td>\n",
       "    </tr>\n",
       "    <tr>\n",
       "      <th>2</th>\n",
       "      <td>F00000011</td>\n",
       "      <td>626</td>\n",
       "      <td>1</td>\n",
       "      <td>0</td>\n",
       "      <td>1</td>\n",
       "      <td>0</td>\n",
       "      <td>0.0</td>\n",
       "      <td>0</td>\n",
       "      <td>2</td>\n",
       "    </tr>\n",
       "    <tr>\n",
       "      <th>3</th>\n",
       "      <td>F00000013</td>\n",
       "      <td>731</td>\n",
       "      <td>1</td>\n",
       "      <td>0</td>\n",
       "      <td>1</td>\n",
       "      <td>0</td>\n",
       "      <td>0.0</td>\n",
       "      <td>0</td>\n",
       "      <td>2</td>\n",
       "    </tr>\n",
       "    <tr>\n",
       "      <th>4</th>\n",
       "      <td>F00000014</td>\n",
       "      <td>789</td>\n",
       "      <td>0</td>\n",
       "      <td>0</td>\n",
       "      <td>1</td>\n",
       "      <td>0</td>\n",
       "      <td>0.0</td>\n",
       "      <td>0</td>\n",
       "      <td>1</td>\n",
       "    </tr>\n",
       "  </tbody>\n",
       "</table>\n",
       "</div>"
      ],
      "text/plain": [
       "          ID  Estimated_Insects_Count  Crop_Type  Soil_Type  \\\n",
       "0  F00000002                      188          1          1   \n",
       "1  F00000007                      410          1          1   \n",
       "2  F00000011                      626          1          0   \n",
       "3  F00000013                      731          1          0   \n",
       "4  F00000014                      789          0          0   \n",
       "\n",
       "   Pesticide_Use_Category  Number_Doses_Week  Number_Weeks_Used  \\\n",
       "0                       1                  0                NaN   \n",
       "1                       1                  0                0.0   \n",
       "2                       1                  0                0.0   \n",
       "3                       1                  0                0.0   \n",
       "4                       1                  0                0.0   \n",
       "\n",
       "   Number_Weeks_Quit  Season  \n",
       "0                  0       2  \n",
       "1                  0       2  \n",
       "2                  0       2  \n",
       "3                  0       2  \n",
       "4                  0       1  "
      ]
     },
     "execution_count": 348,
     "metadata": {},
     "output_type": "execute_result"
    }
   ],
   "source": [
    "import pandas as pd\n",
    "df_test=pd.read_csv('test_agriculture.csv')\n",
    "df_test.head()"
   ]
  },
  {
   "cell_type": "code",
   "execution_count": 349,
   "metadata": {},
   "outputs": [],
   "source": [
    "df_test.drop(columns=['ID'],axis=1,inplace=True)"
   ]
  },
  {
   "cell_type": "code",
   "execution_count": 351,
   "metadata": {},
   "outputs": [
    {
     "data": {
      "text/plain": [
       "Estimated_Insects_Count      int64\n",
       "Crop_Type                    int64\n",
       "Soil_Type                    int64\n",
       "Pesticide_Use_Category       int64\n",
       "Number_Doses_Week            int64\n",
       "Number_Weeks_Used          float64\n",
       "Number_Weeks_Quit            int64\n",
       "Season                       int64\n",
       "dtype: object"
      ]
     },
     "execution_count": 351,
     "metadata": {},
     "output_type": "execute_result"
    }
   ],
   "source": [
    "df_test.dtypes"
   ]
  },
  {
   "cell_type": "code",
   "execution_count": 350,
   "metadata": {},
   "outputs": [
    {
     "data": {
      "text/plain": [
       "Estimated_Insects_Count      0\n",
       "Crop_Type                    0\n",
       "Soil_Type                    0\n",
       "Pesticide_Use_Category       0\n",
       "Number_Doses_Week            0\n",
       "Number_Weeks_Used          119\n",
       "Number_Weeks_Quit            0\n",
       "Season                       0\n",
       "dtype: int64"
      ]
     },
     "execution_count": 350,
     "metadata": {},
     "output_type": "execute_result"
    }
   ],
   "source": [
    "df_test.isnull().sum()"
   ]
  },
  {
   "cell_type": "code",
   "execution_count": 352,
   "metadata": {},
   "outputs": [],
   "source": [
    "df_test['Number_Weeks_Used'].fillna(df_test['Number_Weeks_Used'].mean(),inplace=True)"
   ]
  },
  {
   "cell_type": "code",
   "execution_count": 353,
   "metadata": {},
   "outputs": [],
   "source": [
    "df_test['Number_Weeks_Used']=df_test['Number_Weeks_Used'].astype(int)"
   ]
  },
  {
   "cell_type": "markdown",
   "metadata": {},
   "source": [
    "Analysing Correlation"
   ]
  },
  {
   "cell_type": "code",
   "execution_count": 354,
   "metadata": {},
   "outputs": [
    {
     "data": {
      "text/plain": [
       "<matplotlib.axes._subplots.AxesSubplot at 0x152280e1280>"
      ]
     },
     "execution_count": 354,
     "metadata": {},
     "output_type": "execute_result"
    },
    {
     "data": {
      "image/png": "[encoded data removed]",
      "text/plain": [
       "<Figure size 576x432 with 2 Axes>"
      ]
     },
     "metadata": {
      "needs_background": "light"
     },
     "output_type": "display_data"
    }
   ],
   "source": [
    "import seaborn as sns\n",
    "import matplotlib.pyplot as plt\n",
    "plt.figure(figsize=(8,6))\n",
    "cor=df_test.corr()\n",
    "sns.heatmap(cor,annot=True,fmt='.0%',cmap='cool')"
   ]
  },
  {
   "cell_type": "markdown",
   "metadata": {},
   "source": [
    "Plotting Outliers"
   ]
  },
  {
   "cell_type": "code",
   "execution_count": 356,
   "metadata": {},
   "outputs": [
    {
     "data": {
      "image/png": "[encoded data removed]",
      "text/plain": [
       "<Figure size 1080x216 with 8 Axes>"
      ]
     },
     "metadata": {
      "needs_background": "light"
     },
     "output_type": "display_data"
    }
   ],
   "source": [
    "axs = df_test.plot(kind='box',subplots=True,figsize=(15,3))"
   ]
  },
  {
   "cell_type": "markdown",
   "metadata": {},
   "source": [
    "Removing Outliers"
   ]
  },
  {
   "cell_type": "code",
   "execution_count": 357,
   "metadata": {},
   "outputs": [],
   "source": [
    "from scipy.stats import zscore\n",
    "z=np.abs(zscore(df_test))\n",
    "df_test_new=df_test[(z<3).all(axis=1)]"
   ]
  },
  {
   "cell_type": "code",
   "execution_count": 358,
   "metadata": {},
   "outputs": [
    {
     "data": {
      "text/plain": [
       "(1160, 8)"
      ]
     },
     "execution_count": 358,
     "metadata": {},
     "output_type": "execute_result"
    }
   ],
   "source": [
    "df_test_new.shape"
   ]
  },
  {
   "cell_type": "code",
   "execution_count": 359,
   "metadata": {},
   "outputs": [
    {
     "data": {
      "text/plain": [
       "(1199, 8)"
      ]
     },
     "execution_count": 359,
     "metadata": {},
     "output_type": "execute_result"
    }
   ],
   "source": [
    "df_test.shape"
   ]
  },
  {
   "cell_type": "markdown",
   "metadata": {},
   "source": [
    "Normalization and Standardization"
   ]
  },
  {
   "cell_type": "code",
   "execution_count": 360,
   "metadata": {},
   "outputs": [
    {
     "data": {
      "text/plain": [
       "Estimated_Insects_Count    1.013185\n",
       "Crop_Type                  1.515496\n",
       "Soil_Type                  0.148878\n",
       "Pesticide_Use_Category     0.069452\n",
       "Number_Doses_Week          0.645208\n",
       "Number_Weeks_Used          0.224662\n",
       "Number_Weeks_Quit          1.032108\n",
       "Season                     0.159728\n",
       "dtype: float64"
      ]
     },
     "execution_count": 360,
     "metadata": {},
     "output_type": "execute_result"
    }
   ],
   "source": [
    "df_test_new.skew()"
   ]
  },
  {
   "cell_type": "code",
   "execution_count": 361,
   "metadata": {},
   "outputs": [],
   "source": [
    "from sklearn.preprocessing import PowerTransformer\n",
    "pt=PowerTransformer()\n",
    "df_test_new=pt.fit_transform(df_test_new)\n",
    "df_test_new=pd.DataFrame(df_test_new)"
   ]
  },
  {
   "cell_type": "code",
   "execution_count": 362,
   "metadata": {},
   "outputs": [
    {
     "data": {
      "text/plain": [
       "0   -0.019796\n",
       "1    1.515496\n",
       "2    0.148878\n",
       "3   -0.023826\n",
       "4   -0.034345\n",
       "5   -0.014469\n",
       "6    0.119436\n",
       "7   -0.039436\n",
       "dtype: float64"
      ]
     },
     "execution_count": 362,
     "metadata": {},
     "output_type": "execute_result"
    }
   ],
   "source": [
    "df_test_new.skew()"
   ]
  },
  {
   "cell_type": "code",
   "execution_count": 363,
   "metadata": {},
   "outputs": [],
   "source": [
    "from sklearn.preprocessing import StandardScaler\n",
    "sc=StandardScaler()\n",
    "df_test_new=sc.fit_transform(df_test_new)\n",
    "df_test_new=pd.DataFrame(df_test_new)"
   ]
  },
  {
   "cell_type": "markdown",
   "metadata": {},
   "source": [
    "Loading previously saved best model for prediction"
   ]
  },
  {
   "cell_type": "code",
   "execution_count": 369,
   "metadata": {},
   "outputs": [],
   "source": [
    "loadfile=joblib.load('agriet.pkl')"
   ]
  },
  {
   "cell_type": "markdown",
   "metadata": {},
   "source": [
    "Passing the test file to predict results"
   ]
  },
  {
   "cell_type": "code",
   "execution_count": 371,
   "metadata": {},
   "outputs": [],
   "source": [
    "predtest_et=loadfile.predict(df_test_new)"
   ]
  },
  {
   "cell_type": "markdown",
   "metadata": {},
   "source": [
    "Output"
   ]
  },
  {
   "cell_type": "code",
   "execution_count": 374,
   "metadata": {},
   "outputs": [
    {
     "data": {
      "text/html": [
       "<div>\n",
       "<style scoped>\n",
       "    .dataframe tbody tr th:only-of-type {\n",
       "        vertical-align: middle;\n",
       "    }\n",
       "\n",
       "    .dataframe tbody tr th {\n",
       "        vertical-align: top;\n",
       "    }\n",
       "\n",
       "    .dataframe thead th {\n",
       "        text-align: right;\n",
       "    }\n",
       "</style>\n",
       "<table border=\"1\" class=\"dataframe\">\n",
       "  <thead>\n",
       "    <tr style=\"text-align: right;\">\n",
       "      <th></th>\n",
       "      <th>0</th>\n",
       "    </tr>\n",
       "  </thead>\n",
       "  <tbody>\n",
       "    <tr>\n",
       "      <th>0</th>\n",
       "      <td>1</td>\n",
       "    </tr>\n",
       "    <tr>\n",
       "      <th>1</th>\n",
       "      <td>1</td>\n",
       "    </tr>\n",
       "    <tr>\n",
       "      <th>2</th>\n",
       "      <td>1</td>\n",
       "    </tr>\n",
       "    <tr>\n",
       "      <th>3</th>\n",
       "      <td>1</td>\n",
       "    </tr>\n",
       "    <tr>\n",
       "      <th>4</th>\n",
       "      <td>1</td>\n",
       "    </tr>\n",
       "    <tr>\n",
       "      <th>...</th>\n",
       "      <td>...</td>\n",
       "    </tr>\n",
       "    <tr>\n",
       "      <th>1155</th>\n",
       "      <td>0</td>\n",
       "    </tr>\n",
       "    <tr>\n",
       "      <th>1156</th>\n",
       "      <td>0</td>\n",
       "    </tr>\n",
       "    <tr>\n",
       "      <th>1157</th>\n",
       "      <td>0</td>\n",
       "    </tr>\n",
       "    <tr>\n",
       "      <th>1158</th>\n",
       "      <td>1</td>\n",
       "    </tr>\n",
       "    <tr>\n",
       "      <th>1159</th>\n",
       "      <td>0</td>\n",
       "    </tr>\n",
       "  </tbody>\n",
       "</table>\n",
       "<p>1160 rows × 1 columns</p>\n",
       "</div>"
      ],
      "text/plain": [
       "      0\n",
       "0     1\n",
       "1     1\n",
       "2     1\n",
       "3     1\n",
       "4     1\n",
       "...  ..\n",
       "1155  0\n",
       "1156  0\n",
       "1157  0\n",
       "1158  1\n",
       "1159  0\n",
       "\n",
       "[1160 rows x 1 columns]"
      ]
     },
     "execution_count": 374,
     "metadata": {},
     "output_type": "execute_result"
    }
   ],
   "source": [
    "predtest_et=pd.DataFrame(predtest_et)\n",
    "predtest_et"
   ]
  },
  {
   "cell_type": "code",
   "execution_count": null,
   "metadata": {},
   "outputs": [],
   "source": []
  }
 ],
 "metadata": {
  "kernelspec": {
   "display_name": "Python 3",
   "language": "python",
   "name": "python3"
  },
  "language_info": {
   "codemirror_mode": {
    "name": "ipython",
    "version": 3
   },
   "file_extension": ".py",
   "mimetype": "text/x-python",
   "name": "python",
   "nbconvert_exporter": "python",
   "pygments_lexer": "ipython3",
   "version": "3.8.3"
  }
 },
 "nbformat": 4,
 "nbformat_minor": 4
}
