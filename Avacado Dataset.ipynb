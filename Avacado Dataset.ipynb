{
 "cells": [
  {
   "cell_type": "code",
   "execution_count": 783,
   "metadata": {},
   "outputs": [],
   "source": [
    "import pandas as pd"
   ]
  },
  {
   "cell_type": "code",
   "execution_count": 784,
   "metadata": {},
   "outputs": [
    {
     "data": {
      "text/html": [
       "<div>\n",
       "<style scoped>\n",
       "    .dataframe tbody tr th:only-of-type {\n",
       "        vertical-align: middle;\n",
       "    }\n",
       "\n",
       "    .dataframe tbody tr th {\n",
       "        vertical-align: top;\n",
       "    }\n",
       "\n",
       "    .dataframe thead th {\n",
       "        text-align: right;\n",
       "    }\n",
       "</style>\n",
       "<table border=\"1\" class=\"dataframe\">\n",
       "  <thead>\n",
       "    <tr style=\"text-align: right;\">\n",
       "      <th></th>\n",
       "      <th>Unnamed: 0</th>\n",
       "      <th>Date</th>\n",
       "      <th>AveragePrice</th>\n",
       "      <th>Total Volume</th>\n",
       "      <th>4046</th>\n",
       "      <th>4225</th>\n",
       "      <th>4770</th>\n",
       "      <th>Total Bags</th>\n",
       "      <th>Small Bags</th>\n",
       "      <th>Large Bags</th>\n",
       "      <th>XLarge Bags</th>\n",
       "      <th>type</th>\n",
       "      <th>year</th>\n",
       "      <th>region</th>\n",
       "    </tr>\n",
       "  </thead>\n",
       "  <tbody>\n",
       "    <tr>\n",
       "      <th>0</th>\n",
       "      <td>0</td>\n",
       "      <td>2015-12-27</td>\n",
       "      <td>1.33</td>\n",
       "      <td>64236.62</td>\n",
       "      <td>1036.74</td>\n",
       "      <td>54454.85</td>\n",
       "      <td>48.16</td>\n",
       "      <td>8696.87</td>\n",
       "      <td>8603.62</td>\n",
       "      <td>93.25</td>\n",
       "      <td>0.00</td>\n",
       "      <td>conventional</td>\n",
       "      <td>2015</td>\n",
       "      <td>Albany</td>\n",
       "    </tr>\n",
       "    <tr>\n",
       "      <th>1</th>\n",
       "      <td>1</td>\n",
       "      <td>2015-12-20</td>\n",
       "      <td>1.35</td>\n",
       "      <td>54876.98</td>\n",
       "      <td>674.28</td>\n",
       "      <td>44638.81</td>\n",
       "      <td>58.33</td>\n",
       "      <td>9505.56</td>\n",
       "      <td>9408.07</td>\n",
       "      <td>97.49</td>\n",
       "      <td>0.00</td>\n",
       "      <td>conventional</td>\n",
       "      <td>2015</td>\n",
       "      <td>Albany</td>\n",
       "    </tr>\n",
       "    <tr>\n",
       "      <th>2</th>\n",
       "      <td>2</td>\n",
       "      <td>2015-12-13</td>\n",
       "      <td>0.93</td>\n",
       "      <td>118220.22</td>\n",
       "      <td>794.70</td>\n",
       "      <td>109149.67</td>\n",
       "      <td>130.50</td>\n",
       "      <td>8145.35</td>\n",
       "      <td>8042.21</td>\n",
       "      <td>103.14</td>\n",
       "      <td>0.00</td>\n",
       "      <td>conventional</td>\n",
       "      <td>2015</td>\n",
       "      <td>Albany</td>\n",
       "    </tr>\n",
       "    <tr>\n",
       "      <th>3</th>\n",
       "      <td>3</td>\n",
       "      <td>2015-06-12</td>\n",
       "      <td>1.08</td>\n",
       "      <td>78992.15</td>\n",
       "      <td>1132.00</td>\n",
       "      <td>71976.41</td>\n",
       "      <td>72.58</td>\n",
       "      <td>5811.16</td>\n",
       "      <td>5677.40</td>\n",
       "      <td>133.76</td>\n",
       "      <td>0.00</td>\n",
       "      <td>conventional</td>\n",
       "      <td>2015</td>\n",
       "      <td>Albany</td>\n",
       "    </tr>\n",
       "    <tr>\n",
       "      <th>4</th>\n",
       "      <td>4</td>\n",
       "      <td>2015-11-29</td>\n",
       "      <td>1.28</td>\n",
       "      <td>51039.60</td>\n",
       "      <td>941.48</td>\n",
       "      <td>43838.39</td>\n",
       "      <td>75.78</td>\n",
       "      <td>6183.95</td>\n",
       "      <td>5986.26</td>\n",
       "      <td>197.69</td>\n",
       "      <td>0.00</td>\n",
       "      <td>conventional</td>\n",
       "      <td>2015</td>\n",
       "      <td>Albany</td>\n",
       "    </tr>\n",
       "    <tr>\n",
       "      <th>...</th>\n",
       "      <td>...</td>\n",
       "      <td>...</td>\n",
       "      <td>...</td>\n",
       "      <td>...</td>\n",
       "      <td>...</td>\n",
       "      <td>...</td>\n",
       "      <td>...</td>\n",
       "      <td>...</td>\n",
       "      <td>...</td>\n",
       "      <td>...</td>\n",
       "      <td>...</td>\n",
       "      <td>...</td>\n",
       "      <td>...</td>\n",
       "      <td>...</td>\n",
       "    </tr>\n",
       "    <tr>\n",
       "      <th>1512</th>\n",
       "      <td>10</td>\n",
       "      <td>2016-10-16</td>\n",
       "      <td>1.39</td>\n",
       "      <td>190846.01</td>\n",
       "      <td>57529.11</td>\n",
       "      <td>56366.66</td>\n",
       "      <td>17531.78</td>\n",
       "      <td>59418.46</td>\n",
       "      <td>48823.53</td>\n",
       "      <td>10354.65</td>\n",
       "      <td>240.28</td>\n",
       "      <td>conventional</td>\n",
       "      <td>2016</td>\n",
       "      <td>Charlotte</td>\n",
       "    </tr>\n",
       "    <tr>\n",
       "      <th>1513</th>\n",
       "      <td>11</td>\n",
       "      <td>2016-09-10</td>\n",
       "      <td>1.51</td>\n",
       "      <td>178235.75</td>\n",
       "      <td>43325.87</td>\n",
       "      <td>52189.61</td>\n",
       "      <td>19419.57</td>\n",
       "      <td>63300.70</td>\n",
       "      <td>54704.14</td>\n",
       "      <td>8596.56</td>\n",
       "      <td>0.00</td>\n",
       "      <td>conventional</td>\n",
       "      <td>2016</td>\n",
       "      <td>Charlotte</td>\n",
       "    </tr>\n",
       "    <tr>\n",
       "      <th>1514</th>\n",
       "      <td>12</td>\n",
       "      <td>2016-02-10</td>\n",
       "      <td>1.48</td>\n",
       "      <td>178410.82</td>\n",
       "      <td>46364.75</td>\n",
       "      <td>52893.38</td>\n",
       "      <td>16736.92</td>\n",
       "      <td>62415.77</td>\n",
       "      <td>53332.61</td>\n",
       "      <td>8258.16</td>\n",
       "      <td>825.00</td>\n",
       "      <td>conventional</td>\n",
       "      <td>2016</td>\n",
       "      <td>Charlotte</td>\n",
       "    </tr>\n",
       "    <tr>\n",
       "      <th>1515</th>\n",
       "      <td>13</td>\n",
       "      <td>2016-09-25</td>\n",
       "      <td>1.47</td>\n",
       "      <td>189131.52</td>\n",
       "      <td>54110.79</td>\n",
       "      <td>53593.58</td>\n",
       "      <td>17495.42</td>\n",
       "      <td>63931.73</td>\n",
       "      <td>55653.47</td>\n",
       "      <td>8278.26</td>\n",
       "      <td>0.00</td>\n",
       "      <td>conventional</td>\n",
       "      <td>2016</td>\n",
       "      <td>Charlotte</td>\n",
       "    </tr>\n",
       "    <tr>\n",
       "      <th>1516</th>\n",
       "      <td>14</td>\n",
       "      <td>2016-09-18</td>\n",
       "      <td>1.43</td>\n",
       "      <td>182978.30</td>\n",
       "      <td>43116.41</td>\n",
       "      <td>54193.42</td>\n",
       "      <td>16563.91</td>\n",
       "      <td>69104.56</td>\n",
       "      <td>57456.21</td>\n",
       "      <td>11648.35</td>\n",
       "      <td>0.00</td>\n",
       "      <td>conventional</td>\n",
       "      <td>2016</td>\n",
       "      <td>Charlotte</td>\n",
       "    </tr>\n",
       "  </tbody>\n",
       "</table>\n",
       "<p>1517 rows × 14 columns</p>\n",
       "</div>"
      ],
      "text/plain": [
       "      Unnamed: 0       Date  AveragePrice  Total Volume      4046       4225  \\\n",
       "0              0 2015-12-27          1.33      64236.62   1036.74   54454.85   \n",
       "1              1 2015-12-20          1.35      54876.98    674.28   44638.81   \n",
       "2              2 2015-12-13          0.93     118220.22    794.70  109149.67   \n",
       "3              3 2015-06-12          1.08      78992.15   1132.00   71976.41   \n",
       "4              4 2015-11-29          1.28      51039.60    941.48   43838.39   \n",
       "...          ...        ...           ...           ...       ...        ...   \n",
       "1512          10 2016-10-16          1.39     190846.01  57529.11   56366.66   \n",
       "1513          11 2016-09-10          1.51     178235.75  43325.87   52189.61   \n",
       "1514          12 2016-02-10          1.48     178410.82  46364.75   52893.38   \n",
       "1515          13 2016-09-25          1.47     189131.52  54110.79   53593.58   \n",
       "1516          14 2016-09-18          1.43     182978.30  43116.41   54193.42   \n",
       "\n",
       "          4770  Total Bags  Small Bags  Large Bags  XLarge Bags          type  \\\n",
       "0        48.16     8696.87     8603.62       93.25         0.00  conventional   \n",
       "1        58.33     9505.56     9408.07       97.49         0.00  conventional   \n",
       "2       130.50     8145.35     8042.21      103.14         0.00  conventional   \n",
       "3        72.58     5811.16     5677.40      133.76         0.00  conventional   \n",
       "4        75.78     6183.95     5986.26      197.69         0.00  conventional   \n",
       "...        ...         ...         ...         ...          ...           ...   \n",
       "1512  17531.78    59418.46    48823.53    10354.65       240.28  conventional   \n",
       "1513  19419.57    63300.70    54704.14     8596.56         0.00  conventional   \n",
       "1514  16736.92    62415.77    53332.61     8258.16       825.00  conventional   \n",
       "1515  17495.42    63931.73    55653.47     8278.26         0.00  conventional   \n",
       "1516  16563.91    69104.56    57456.21    11648.35         0.00  conventional   \n",
       "\n",
       "      year     region  \n",
       "0     2015     Albany  \n",
       "1     2015     Albany  \n",
       "2     2015     Albany  \n",
       "3     2015     Albany  \n",
       "4     2015     Albany  \n",
       "...    ...        ...  \n",
       "1512  2016  Charlotte  \n",
       "1513  2016  Charlotte  \n",
       "1514  2016  Charlotte  \n",
       "1515  2016  Charlotte  \n",
       "1516  2016  Charlotte  \n",
       "\n",
       "[1517 rows x 14 columns]"
      ]
     },
     "execution_count": 784,
     "metadata": {},
     "output_type": "execute_result"
    }
   ],
   "source": [
    "df=pd.read_csv('avocado.csv',parse_dates=['Date'])\n",
    "pd.DataFrame(df)"
   ]
  },
  {
   "cell_type": "raw",
   "metadata": {},
   "source": [
    "Some relevant columns in the dataset:\n",
    "\n",
    "Date - The date of the observation\n",
    "AveragePrice - the average price of a single avocado\n",
    "type - conventional or organic\n",
    "year - the year\n",
    "Region - the city or region of the observation\n",
    "Total Volume - Total number of avocados sold\n",
    "4046 - Total number of avocados with PLU 4046 sold\n",
    "4225 - Total number of avocados with PLU 4225 sold\n",
    "4770 - Total number of avocados with PLU 4770 sold"
   ]
  },
  {
   "cell_type": "code",
   "execution_count": 785,
   "metadata": {},
   "outputs": [
    {
     "data": {
      "text/plain": [
       "(1517, 14)"
      ]
     },
     "execution_count": 785,
     "metadata": {},
     "output_type": "execute_result"
    }
   ],
   "source": [
    "df.shape"
   ]
  },
  {
   "cell_type": "markdown",
   "metadata": {},
   "source": [
    "In this dataset there are 1517 rows and 14 columns are present"
   ]
  },
  {
   "cell_type": "code",
   "execution_count": 786,
   "metadata": {},
   "outputs": [],
   "source": [
    "df.drop('Unnamed: 0',axis=1,inplace=True)"
   ]
  },
  {
   "cell_type": "code",
   "execution_count": 787,
   "metadata": {},
   "outputs": [
    {
     "data": {
      "text/plain": [
       "type          year  region             \n",
       "conventional  2015  Albany                 52\n",
       "                    Atlanta                39\n",
       "                    BaltimoreWashington    41\n",
       "                    Boise                  25\n",
       "                    Boston                 18\n",
       "                    BuffaloRochester        9\n",
       "                    California             24\n",
       "                    Charlotte              16\n",
       "                    Chicago                23\n",
       "                    Columbus               47\n",
       "                    DallasFtWorth          17\n",
       "                    Denver                 24\n",
       "                    Detroit                40\n",
       "                    GrandRapids            23\n",
       "                    GreatLakes             18\n",
       "                    HarrisburgScranton     19\n",
       "                    HartfordSpringfield    13\n",
       "                    Houston                29\n",
       "                    Indianapolis           16\n",
       "                    Jacksonville           41\n",
       "                    LasVegas               10\n",
       "                    LosAngeles              3\n",
       "                    Louisville             34\n",
       "                    MiamiFtLauderdale      17\n",
       "                    Midsouth               18\n",
       "                    Nashville              25\n",
       "                    NewYork                44\n",
       "                    Northeast              12\n",
       "                    NorthernNewEngland     29\n",
       "                    Orlando                21\n",
       "                    Philadelphia           13\n",
       "                    PhoenixTucson          52\n",
       "                    Pittsburgh             22\n",
       "                    Plains                 12\n",
       "                    Portland               30\n",
       "                    RaleighGreensboro      16\n",
       "                    RichmondNorfolk        21\n",
       "                    Roanoke                17\n",
       "                    SanDiego               38\n",
       "                    SanFrancisco           15\n",
       "                    Seattle                 9\n",
       "                    SouthCarolina          24\n",
       "                    SouthCentral           39\n",
       "                    Southeast               9\n",
       "                    Spokane                49\n",
       "                    StLouis                16\n",
       "                    Syracuse               19\n",
       "                    Tampa                  34\n",
       "                    TotalUS                25\n",
       "                    West                   36\n",
       "                    WestTexNewMexico       27\n",
       "              2016  Albany                 15\n",
       "                    Atlanta                15\n",
       "                    BaltimoreWashington    24\n",
       "                    Boise                  40\n",
       "                    Boston                 44\n",
       "                    BuffaloRochester       42\n",
       "                    California             52\n",
       "                    Charlotte              15\n",
       "dtype: int64"
      ]
     },
     "execution_count": 787,
     "metadata": {},
     "output_type": "execute_result"
    }
   ],
   "source": [
    "df.groupby(['type','year','region']).size()"
   ]
  },
  {
   "cell_type": "code",
   "execution_count": 788,
   "metadata": {},
   "outputs": [
    {
     "data": {
      "text/plain": [
       "California             76\n",
       "Albany                 67\n",
       "BaltimoreWashington    65\n",
       "Boise                  65\n",
       "Boston                 62\n",
       "Atlanta                54\n",
       "PhoenixTucson          52\n",
       "BuffaloRochester       51\n",
       "Spokane                49\n",
       "Columbus               47\n",
       "NewYork                44\n",
       "Jacksonville           41\n",
       "Detroit                40\n",
       "SouthCentral           39\n",
       "SanDiego               38\n",
       "West                   36\n",
       "Louisville             34\n",
       "Tampa                  34\n",
       "Charlotte              31\n",
       "Portland               30\n",
       "Houston                29\n",
       "NorthernNewEngland     29\n",
       "WestTexNewMexico       27\n",
       "Nashville              25\n",
       "TotalUS                25\n",
       "SouthCarolina          24\n",
       "Denver                 24\n",
       "GrandRapids            23\n",
       "Chicago                23\n",
       "Pittsburgh             22\n",
       "Orlando                21\n",
       "RichmondNorfolk        21\n",
       "Syracuse               19\n",
       "HarrisburgScranton     19\n",
       "Midsouth               18\n",
       "GreatLakes             18\n",
       "Roanoke                17\n",
       "MiamiFtLauderdale      17\n",
       "DallasFtWorth          17\n",
       "RaleighGreensboro      16\n",
       "StLouis                16\n",
       "Indianapolis           16\n",
       "SanFrancisco           15\n",
       "HartfordSpringfield    13\n",
       "Philadelphia           13\n",
       "Plains                 12\n",
       "Northeast              12\n",
       "LasVegas               10\n",
       "Seattle                 9\n",
       "Southeast               9\n",
       "LosAngeles              3\n",
       "Name: region, dtype: int64"
      ]
     },
     "execution_count": 788,
     "metadata": {},
     "output_type": "execute_result"
    }
   ],
   "source": [
    "df['region'].value_counts()"
   ]
  },
  {
   "cell_type": "code",
   "execution_count": 782,
   "metadata": {},
   "outputs": [
    {
     "data": {
      "text/plain": [
       "Unnamed: 0      0\n",
       "Date            0\n",
       "AveragePrice    0\n",
       "Total Volume    0\n",
       "4046            0\n",
       "4225            0\n",
       "4770            0\n",
       "Total Bags      0\n",
       "Small Bags      0\n",
       "Large Bags      0\n",
       "XLarge Bags     0\n",
       "type            0\n",
       "year            0\n",
       "region          0\n",
       "dtype: int64"
      ]
     },
     "execution_count": 782,
     "metadata": {},
     "output_type": "execute_result"
    }
   ],
   "source": [
    "df.isnull().sum()"
   ]
  },
  {
   "cell_type": "markdown",
   "metadata": {},
   "source": [
    "In this dataset there are no NAN values present"
   ]
  },
  {
   "cell_type": "code",
   "execution_count": 676,
   "metadata": {},
   "outputs": [
    {
     "data": {
      "text/plain": [
       "Date            datetime64[ns]\n",
       "AveragePrice           float64\n",
       "Total Volume           float64\n",
       "4046                   float64\n",
       "4225                   float64\n",
       "4770                   float64\n",
       "Total Bags             float64\n",
       "Small Bags             float64\n",
       "Large Bags             float64\n",
       "XLarge Bags            float64\n",
       "type                    object\n",
       "year                     int64\n",
       "region                  object\n",
       "dtype: object"
      ]
     },
     "execution_count": 676,
     "metadata": {},
     "output_type": "execute_result"
    }
   ],
   "source": [
    "df.dtypes"
   ]
  },
  {
   "cell_type": "code",
   "execution_count": 677,
   "metadata": {},
   "outputs": [
    {
     "name": "stdout",
     "output_type": "stream",
     "text": [
      "<class 'pandas.core.frame.DataFrame'>\n",
      "RangeIndex: 1517 entries, 0 to 1516\n",
      "Data columns (total 13 columns):\n",
      " #   Column        Non-Null Count  Dtype         \n",
      "---  ------        --------------  -----         \n",
      " 0   Date          1517 non-null   datetime64[ns]\n",
      " 1   AveragePrice  1517 non-null   float64       \n",
      " 2   Total Volume  1517 non-null   float64       \n",
      " 3   4046          1517 non-null   float64       \n",
      " 4   4225          1517 non-null   float64       \n",
      " 5   4770          1517 non-null   float64       \n",
      " 6   Total Bags    1517 non-null   float64       \n",
      " 7   Small Bags    1517 non-null   float64       \n",
      " 8   Large Bags    1517 non-null   float64       \n",
      " 9   XLarge Bags   1517 non-null   float64       \n",
      " 10  type          1517 non-null   object        \n",
      " 11  year          1517 non-null   int64         \n",
      " 12  region        1517 non-null   object        \n",
      "dtypes: datetime64[ns](1), float64(9), int64(1), object(2)\n",
      "memory usage: 154.2+ KB\n"
     ]
    }
   ],
   "source": [
    "df.info()"
   ]
  },
  {
   "cell_type": "markdown",
   "metadata": {},
   "source": [
    "observations:\n",
    "    \n",
    "    1. 1517 rows and 13 columns(0th column removed earlier as it was similar to column indexing ) are present in dataset\n",
    "    \n",
    "    2. There are no missing values present in dataset\n",
    "    \n",
    "    3. There are 9 columns with float datatype, only year column with int datatype, type and region columns with object datatype and only date column(converted) with datetime datatype"
   ]
  },
  {
   "cell_type": "code",
   "execution_count": 678,
   "metadata": {},
   "outputs": [
    {
     "data": {
      "text/html": [
       "<div>\n",
       "<style scoped>\n",
       "    .dataframe tbody tr th:only-of-type {\n",
       "        vertical-align: middle;\n",
       "    }\n",
       "\n",
       "    .dataframe tbody tr th {\n",
       "        vertical-align: top;\n",
       "    }\n",
       "\n",
       "    .dataframe thead th {\n",
       "        text-align: right;\n",
       "    }\n",
       "</style>\n",
       "<table border=\"1\" class=\"dataframe\">\n",
       "  <thead>\n",
       "    <tr style=\"text-align: right;\">\n",
       "      <th></th>\n",
       "      <th>AveragePrice</th>\n",
       "      <th>Total Volume</th>\n",
       "      <th>4046</th>\n",
       "      <th>4225</th>\n",
       "      <th>4770</th>\n",
       "      <th>Total Bags</th>\n",
       "      <th>Small Bags</th>\n",
       "      <th>Large Bags</th>\n",
       "      <th>XLarge Bags</th>\n",
       "      <th>year</th>\n",
       "    </tr>\n",
       "  </thead>\n",
       "  <tbody>\n",
       "    <tr>\n",
       "      <th>AveragePrice</th>\n",
       "      <td>1.000000</td>\n",
       "      <td>-0.140470</td>\n",
       "      <td>-0.190096</td>\n",
       "      <td>-0.092084</td>\n",
       "      <td>-0.100567</td>\n",
       "      <td>-0.111597</td>\n",
       "      <td>-0.097682</td>\n",
       "      <td>-0.177480</td>\n",
       "      <td>-0.048284</td>\n",
       "      <td>0.178683</td>\n",
       "    </tr>\n",
       "    <tr>\n",
       "      <th>Total Volume</th>\n",
       "      <td>-0.140470</td>\n",
       "      <td>1.000000</td>\n",
       "      <td>0.985568</td>\n",
       "      <td>0.987154</td>\n",
       "      <td>0.934347</td>\n",
       "      <td>0.967689</td>\n",
       "      <td>0.960642</td>\n",
       "      <td>0.910226</td>\n",
       "      <td>0.521717</td>\n",
       "      <td>-0.004189</td>\n",
       "    </tr>\n",
       "    <tr>\n",
       "      <th>4046</th>\n",
       "      <td>-0.190096</td>\n",
       "      <td>0.985568</td>\n",
       "      <td>1.000000</td>\n",
       "      <td>0.951952</td>\n",
       "      <td>0.898570</td>\n",
       "      <td>0.930395</td>\n",
       "      <td>0.922278</td>\n",
       "      <td>0.884229</td>\n",
       "      <td>0.474063</td>\n",
       "      <td>-0.040439</td>\n",
       "    </tr>\n",
       "    <tr>\n",
       "      <th>4225</th>\n",
       "      <td>-0.092084</td>\n",
       "      <td>0.987154</td>\n",
       "      <td>0.951952</td>\n",
       "      <td>1.000000</td>\n",
       "      <td>0.927757</td>\n",
       "      <td>0.951779</td>\n",
       "      <td>0.943988</td>\n",
       "      <td>0.900496</td>\n",
       "      <td>0.504718</td>\n",
       "      <td>-0.007254</td>\n",
       "    </tr>\n",
       "    <tr>\n",
       "      <th>4770</th>\n",
       "      <td>-0.100567</td>\n",
       "      <td>0.934347</td>\n",
       "      <td>0.898570</td>\n",
       "      <td>0.927757</td>\n",
       "      <td>1.000000</td>\n",
       "      <td>0.926405</td>\n",
       "      <td>0.923607</td>\n",
       "      <td>0.840523</td>\n",
       "      <td>0.646053</td>\n",
       "      <td>0.029222</td>\n",
       "    </tr>\n",
       "    <tr>\n",
       "      <th>Total Bags</th>\n",
       "      <td>-0.111597</td>\n",
       "      <td>0.967689</td>\n",
       "      <td>0.930395</td>\n",
       "      <td>0.951779</td>\n",
       "      <td>0.926405</td>\n",
       "      <td>1.000000</td>\n",
       "      <td>0.997341</td>\n",
       "      <td>0.911336</td>\n",
       "      <td>0.601856</td>\n",
       "      <td>0.090108</td>\n",
       "    </tr>\n",
       "    <tr>\n",
       "      <th>Small Bags</th>\n",
       "      <td>-0.097682</td>\n",
       "      <td>0.960642</td>\n",
       "      <td>0.922278</td>\n",
       "      <td>0.943988</td>\n",
       "      <td>0.923607</td>\n",
       "      <td>0.997341</td>\n",
       "      <td>1.000000</td>\n",
       "      <td>0.879131</td>\n",
       "      <td>0.611300</td>\n",
       "      <td>0.106382</td>\n",
       "    </tr>\n",
       "    <tr>\n",
       "      <th>Large Bags</th>\n",
       "      <td>-0.177480</td>\n",
       "      <td>0.910226</td>\n",
       "      <td>0.884229</td>\n",
       "      <td>0.900496</td>\n",
       "      <td>0.840523</td>\n",
       "      <td>0.911336</td>\n",
       "      <td>0.879131</td>\n",
       "      <td>1.000000</td>\n",
       "      <td>0.447779</td>\n",
       "      <td>-0.018678</td>\n",
       "    </tr>\n",
       "    <tr>\n",
       "      <th>XLarge Bags</th>\n",
       "      <td>-0.048284</td>\n",
       "      <td>0.521717</td>\n",
       "      <td>0.474063</td>\n",
       "      <td>0.504718</td>\n",
       "      <td>0.646053</td>\n",
       "      <td>0.601856</td>\n",
       "      <td>0.611300</td>\n",
       "      <td>0.447779</td>\n",
       "      <td>1.000000</td>\n",
       "      <td>0.218342</td>\n",
       "    </tr>\n",
       "    <tr>\n",
       "      <th>year</th>\n",
       "      <td>0.178683</td>\n",
       "      <td>-0.004189</td>\n",
       "      <td>-0.040439</td>\n",
       "      <td>-0.007254</td>\n",
       "      <td>0.029222</td>\n",
       "      <td>0.090108</td>\n",
       "      <td>0.106382</td>\n",
       "      <td>-0.018678</td>\n",
       "      <td>0.218342</td>\n",
       "      <td>1.000000</td>\n",
       "    </tr>\n",
       "  </tbody>\n",
       "</table>\n",
       "</div>"
      ],
      "text/plain": [
       "              AveragePrice  Total Volume      4046      4225      4770  \\\n",
       "AveragePrice      1.000000     -0.140470 -0.190096 -0.092084 -0.100567   \n",
       "Total Volume     -0.140470      1.000000  0.985568  0.987154  0.934347   \n",
       "4046             -0.190096      0.985568  1.000000  0.951952  0.898570   \n",
       "4225             -0.092084      0.987154  0.951952  1.000000  0.927757   \n",
       "4770             -0.100567      0.934347  0.898570  0.927757  1.000000   \n",
       "Total Bags       -0.111597      0.967689  0.930395  0.951779  0.926405   \n",
       "Small Bags       -0.097682      0.960642  0.922278  0.943988  0.923607   \n",
       "Large Bags       -0.177480      0.910226  0.884229  0.900496  0.840523   \n",
       "XLarge Bags      -0.048284      0.521717  0.474063  0.504718  0.646053   \n",
       "year              0.178683     -0.004189 -0.040439 -0.007254  0.029222   \n",
       "\n",
       "              Total Bags  Small Bags  Large Bags  XLarge Bags      year  \n",
       "AveragePrice   -0.111597   -0.097682   -0.177480    -0.048284  0.178683  \n",
       "Total Volume    0.967689    0.960642    0.910226     0.521717 -0.004189  \n",
       "4046            0.930395    0.922278    0.884229     0.474063 -0.040439  \n",
       "4225            0.951779    0.943988    0.900496     0.504718 -0.007254  \n",
       "4770            0.926405    0.923607    0.840523     0.646053  0.029222  \n",
       "Total Bags      1.000000    0.997341    0.911336     0.601856  0.090108  \n",
       "Small Bags      0.997341    1.000000    0.879131     0.611300  0.106382  \n",
       "Large Bags      0.911336    0.879131    1.000000     0.447779 -0.018678  \n",
       "XLarge Bags     0.601856    0.611300    0.447779     1.000000  0.218342  \n",
       "year            0.090108    0.106382   -0.018678     0.218342  1.000000  "
      ]
     },
     "execution_count": 678,
     "metadata": {},
     "output_type": "execute_result"
    }
   ],
   "source": [
    "cor=df.corr()\n",
    "cor"
   ]
  },
  {
   "cell_type": "markdown",
   "metadata": {},
   "source": [
    "Here we can see the correlation between the columns. For better understanding we can visualize with the help of heatmap"
   ]
  },
  {
   "cell_type": "code",
   "execution_count": 679,
   "metadata": {},
   "outputs": [
    {
     "data": {
      "text/plain": [
       "<matplotlib.axes._subplots.AxesSubplot at 0x1bbfcbdd040>"
      ]
     },
     "execution_count": 679,
     "metadata": {},
     "output_type": "execute_result"
    },
    {
     "data": {
      "image/png": "[encoded data removed]",
      "text/plain": [
       "<Figure size 576x432 with 2 Axes>"
      ]
     },
     "metadata": {},
     "output_type": "display_data"
    }
   ],
   "source": [
    "plt.figure(figsize=(8,6))\n",
    "sns.heatmap(cor,annot=True,cmap='Blues')"
   ]
  },
  {
   "cell_type": "markdown",
   "metadata": {},
   "source": [
    "observations:\n",
    "    \n",
    "    1. Averageprice and year are moderately correlated.\n",
    "    \n",
    "    2. Total Volume with PLU and Bags is highly correlated.\n",
    "    \n",
    "    3. Bags with PLU are highly correlated hence I will drop Bags, also Bags are not much contributing to the output label (AveragePrice)"
   ]
  },
  {
   "cell_type": "markdown",
   "metadata": {},
   "source": [
    "# Summary Statistics and Plotting Outliers"
   ]
  },
  {
   "cell_type": "code",
   "execution_count": 680,
   "metadata": {},
   "outputs": [
    {
     "data": {
      "text/html": [
       "<div>\n",
       "<style scoped>\n",
       "    .dataframe tbody tr th:only-of-type {\n",
       "        vertical-align: middle;\n",
       "    }\n",
       "\n",
       "    .dataframe tbody tr th {\n",
       "        vertical-align: top;\n",
       "    }\n",
       "\n",
       "    .dataframe thead th {\n",
       "        text-align: right;\n",
       "    }\n",
       "</style>\n",
       "<table border=\"1\" class=\"dataframe\">\n",
       "  <thead>\n",
       "    <tr style=\"text-align: right;\">\n",
       "      <th></th>\n",
       "      <th>AveragePrice</th>\n",
       "      <th>Total Volume</th>\n",
       "      <th>4046</th>\n",
       "      <th>4225</th>\n",
       "      <th>4770</th>\n",
       "      <th>Total Bags</th>\n",
       "      <th>Small Bags</th>\n",
       "      <th>Large Bags</th>\n",
       "      <th>XLarge Bags</th>\n",
       "      <th>year</th>\n",
       "    </tr>\n",
       "  </thead>\n",
       "  <tbody>\n",
       "    <tr>\n",
       "      <th>count</th>\n",
       "      <td>1517.000000</td>\n",
       "      <td>1.517000e+03</td>\n",
       "      <td>1.517000e+03</td>\n",
       "      <td>1.517000e+03</td>\n",
       "      <td>1.517000e+03</td>\n",
       "      <td>1.517000e+03</td>\n",
       "      <td>1.517000e+03</td>\n",
       "      <td>1.517000e+03</td>\n",
       "      <td>1517.000000</td>\n",
       "      <td>1517.000000</td>\n",
       "    </tr>\n",
       "    <tr>\n",
       "      <th>mean</th>\n",
       "      <td>1.074990</td>\n",
       "      <td>1.601879e+06</td>\n",
       "      <td>6.464387e+05</td>\n",
       "      <td>6.114375e+05</td>\n",
       "      <td>5.040550e+04</td>\n",
       "      <td>2.935974e+05</td>\n",
       "      <td>2.487736e+05</td>\n",
       "      <td>4.264205e+04</td>\n",
       "      <td>2181.771074</td>\n",
       "      <td>2015.162821</td>\n",
       "    </tr>\n",
       "    <tr>\n",
       "      <th>std</th>\n",
       "      <td>0.188891</td>\n",
       "      <td>4.433143e+06</td>\n",
       "      <td>1.947614e+06</td>\n",
       "      <td>1.672906e+06</td>\n",
       "      <td>1.377812e+05</td>\n",
       "      <td>7.579765e+05</td>\n",
       "      <td>6.474765e+05</td>\n",
       "      <td>1.182157e+05</td>\n",
       "      <td>7455.712144</td>\n",
       "      <td>0.369324</td>\n",
       "    </tr>\n",
       "    <tr>\n",
       "      <th>min</th>\n",
       "      <td>0.490000</td>\n",
       "      <td>3.875074e+04</td>\n",
       "      <td>4.677200e+02</td>\n",
       "      <td>1.783770e+03</td>\n",
       "      <td>0.000000e+00</td>\n",
       "      <td>3.311770e+03</td>\n",
       "      <td>3.311770e+03</td>\n",
       "      <td>0.000000e+00</td>\n",
       "      <td>0.000000</td>\n",
       "      <td>2015.000000</td>\n",
       "    </tr>\n",
       "    <tr>\n",
       "      <th>25%</th>\n",
       "      <td>0.980000</td>\n",
       "      <td>1.474700e+05</td>\n",
       "      <td>2.040034e+04</td>\n",
       "      <td>4.147606e+04</td>\n",
       "      <td>9.112500e+02</td>\n",
       "      <td>3.620689e+04</td>\n",
       "      <td>2.972722e+04</td>\n",
       "      <td>5.407400e+02</td>\n",
       "      <td>0.000000</td>\n",
       "      <td>2015.000000</td>\n",
       "    </tr>\n",
       "    <tr>\n",
       "      <th>50%</th>\n",
       "      <td>1.080000</td>\n",
       "      <td>4.027919e+05</td>\n",
       "      <td>8.175117e+04</td>\n",
       "      <td>1.186649e+05</td>\n",
       "      <td>7.688170e+03</td>\n",
       "      <td>7.397906e+04</td>\n",
       "      <td>6.237569e+04</td>\n",
       "      <td>5.044350e+03</td>\n",
       "      <td>0.000000</td>\n",
       "      <td>2015.000000</td>\n",
       "    </tr>\n",
       "    <tr>\n",
       "      <th>75%</th>\n",
       "      <td>1.190000</td>\n",
       "      <td>9.819751e+05</td>\n",
       "      <td>3.775785e+05</td>\n",
       "      <td>4.851503e+05</td>\n",
       "      <td>2.916730e+04</td>\n",
       "      <td>1.576097e+05</td>\n",
       "      <td>1.461994e+05</td>\n",
       "      <td>2.926767e+04</td>\n",
       "      <td>401.480000</td>\n",
       "      <td>2015.000000</td>\n",
       "    </tr>\n",
       "    <tr>\n",
       "      <th>max</th>\n",
       "      <td>1.680000</td>\n",
       "      <td>4.465546e+07</td>\n",
       "      <td>1.893304e+07</td>\n",
       "      <td>1.895648e+07</td>\n",
       "      <td>1.381516e+06</td>\n",
       "      <td>6.736304e+06</td>\n",
       "      <td>5.893642e+06</td>\n",
       "      <td>1.121076e+06</td>\n",
       "      <td>108072.790000</td>\n",
       "      <td>2016.000000</td>\n",
       "    </tr>\n",
       "  </tbody>\n",
       "</table>\n",
       "</div>"
      ],
      "text/plain": [
       "       AveragePrice  Total Volume          4046          4225          4770  \\\n",
       "count   1517.000000  1.517000e+03  1.517000e+03  1.517000e+03  1.517000e+03   \n",
       "mean       1.074990  1.601879e+06  6.464387e+05  6.114375e+05  5.040550e+04   \n",
       "std        0.188891  4.433143e+06  1.947614e+06  1.672906e+06  1.377812e+05   \n",
       "min        0.490000  3.875074e+04  4.677200e+02  1.783770e+03  0.000000e+00   \n",
       "25%        0.980000  1.474700e+05  2.040034e+04  4.147606e+04  9.112500e+02   \n",
       "50%        1.080000  4.027919e+05  8.175117e+04  1.186649e+05  7.688170e+03   \n",
       "75%        1.190000  9.819751e+05  3.775785e+05  4.851503e+05  2.916730e+04   \n",
       "max        1.680000  4.465546e+07  1.893304e+07  1.895648e+07  1.381516e+06   \n",
       "\n",
       "         Total Bags    Small Bags    Large Bags    XLarge Bags         year  \n",
       "count  1.517000e+03  1.517000e+03  1.517000e+03    1517.000000  1517.000000  \n",
       "mean   2.935974e+05  2.487736e+05  4.264205e+04    2181.771074  2015.162821  \n",
       "std    7.579765e+05  6.474765e+05  1.182157e+05    7455.712144     0.369324  \n",
       "min    3.311770e+03  3.311770e+03  0.000000e+00       0.000000  2015.000000  \n",
       "25%    3.620689e+04  2.972722e+04  5.407400e+02       0.000000  2015.000000  \n",
       "50%    7.397906e+04  6.237569e+04  5.044350e+03       0.000000  2015.000000  \n",
       "75%    1.576097e+05  1.461994e+05  2.926767e+04     401.480000  2015.000000  \n",
       "max    6.736304e+06  5.893642e+06  1.121076e+06  108072.790000  2016.000000  "
      ]
     },
     "execution_count": 680,
     "metadata": {},
     "output_type": "execute_result"
    }
   ],
   "source": [
    "df.describe()"
   ]
  },
  {
   "cell_type": "code",
   "execution_count": 778,
   "metadata": {},
   "outputs": [
    {
     "data": {
      "text/plain": [
       "Unnamed: 0         AxesSubplot(0.125,0.536818;0.0945122x0.343182)\n",
       "AveragePrice    AxesSubplot(0.238415,0.536818;0.0945122x0.343182)\n",
       "Total Volume    AxesSubplot(0.351829,0.536818;0.0945122x0.343182)\n",
       "4046            AxesSubplot(0.465244,0.536818;0.0945122x0.343182)\n",
       "4225            AxesSubplot(0.578659,0.536818;0.0945122x0.343182)\n",
       "4770            AxesSubplot(0.692073,0.536818;0.0945122x0.343182)\n",
       "Total Bags      AxesSubplot(0.805488,0.536818;0.0945122x0.343182)\n",
       "Small Bags            AxesSubplot(0.125,0.125;0.0945122x0.343182)\n",
       "Large Bags         AxesSubplot(0.238415,0.125;0.0945122x0.343182)\n",
       "XLarge Bags        AxesSubplot(0.351829,0.125;0.0945122x0.343182)\n",
       "year               AxesSubplot(0.465244,0.125;0.0945122x0.343182)\n",
       "dtype: object"
      ]
     },
     "execution_count": 778,
     "metadata": {},
     "output_type": "execute_result"
    },
    {
     "data": {
      "image/png": "[encoded data removed]",
      "text/plain": [
       "<Figure size 432x288 with 14 Axes>"
      ]
     },
     "metadata": {},
     "output_type": "display_data"
    }
   ],
   "source": [
    "df.plot(kind='box',subplots=True,layout=(2,7))"
   ]
  },
  {
   "cell_type": "markdown",
   "metadata": {},
   "source": [
    "observations:\n",
    "    \n",
    "    1. from summary statistics and above plots we can see that there may be some outliers are present in every column except AveragePrice and year column\n",
    "    2. max difference between Q2,Q3 and max is present in XLarge Bags column, also the standard deviation is extremely high XLarge Bags column\n",
    "    3. The maximum and minimum unit price of Avacado are 1.680000 and 0.490000 respectively"
   ]
  },
  {
   "cell_type": "code",
   "execution_count": 681,
   "metadata": {},
   "outputs": [
    {
     "data": {
      "text/html": [
       "<div>\n",
       "<style scoped>\n",
       "    .dataframe tbody tr th:only-of-type {\n",
       "        vertical-align: middle;\n",
       "    }\n",
       "\n",
       "    .dataframe tbody tr th {\n",
       "        vertical-align: top;\n",
       "    }\n",
       "\n",
       "    .dataframe thead th {\n",
       "        text-align: right;\n",
       "    }\n",
       "</style>\n",
       "<table border=\"1\" class=\"dataframe\">\n",
       "  <thead>\n",
       "    <tr style=\"text-align: right;\">\n",
       "      <th></th>\n",
       "      <th>month</th>\n",
       "      <th>year</th>\n",
       "      <th>day</th>\n",
       "      <th>Total Volume</th>\n",
       "    </tr>\n",
       "  </thead>\n",
       "  <tbody>\n",
       "    <tr>\n",
       "      <th>0</th>\n",
       "      <td>December</td>\n",
       "      <td>2015</td>\n",
       "      <td>Sunday</td>\n",
       "      <td>64236.62</td>\n",
       "    </tr>\n",
       "    <tr>\n",
       "      <th>1</th>\n",
       "      <td>December</td>\n",
       "      <td>2015</td>\n",
       "      <td>Sunday</td>\n",
       "      <td>54876.98</td>\n",
       "    </tr>\n",
       "    <tr>\n",
       "      <th>2</th>\n",
       "      <td>December</td>\n",
       "      <td>2015</td>\n",
       "      <td>Sunday</td>\n",
       "      <td>118220.22</td>\n",
       "    </tr>\n",
       "    <tr>\n",
       "      <th>3</th>\n",
       "      <td>June</td>\n",
       "      <td>2015</td>\n",
       "      <td>Friday</td>\n",
       "      <td>78992.15</td>\n",
       "    </tr>\n",
       "    <tr>\n",
       "      <th>4</th>\n",
       "      <td>November</td>\n",
       "      <td>2015</td>\n",
       "      <td>Sunday</td>\n",
       "      <td>51039.60</td>\n",
       "    </tr>\n",
       "    <tr>\n",
       "      <th>...</th>\n",
       "      <td>...</td>\n",
       "      <td>...</td>\n",
       "      <td>...</td>\n",
       "      <td>...</td>\n",
       "    </tr>\n",
       "    <tr>\n",
       "      <th>1512</th>\n",
       "      <td>October</td>\n",
       "      <td>2016</td>\n",
       "      <td>Sunday</td>\n",
       "      <td>190846.01</td>\n",
       "    </tr>\n",
       "    <tr>\n",
       "      <th>1513</th>\n",
       "      <td>September</td>\n",
       "      <td>2016</td>\n",
       "      <td>Saturday</td>\n",
       "      <td>178235.75</td>\n",
       "    </tr>\n",
       "    <tr>\n",
       "      <th>1514</th>\n",
       "      <td>February</td>\n",
       "      <td>2016</td>\n",
       "      <td>Wednesday</td>\n",
       "      <td>178410.82</td>\n",
       "    </tr>\n",
       "    <tr>\n",
       "      <th>1515</th>\n",
       "      <td>September</td>\n",
       "      <td>2016</td>\n",
       "      <td>Sunday</td>\n",
       "      <td>189131.52</td>\n",
       "    </tr>\n",
       "    <tr>\n",
       "      <th>1516</th>\n",
       "      <td>September</td>\n",
       "      <td>2016</td>\n",
       "      <td>Sunday</td>\n",
       "      <td>182978.30</td>\n",
       "    </tr>\n",
       "  </tbody>\n",
       "</table>\n",
       "<p>1517 rows × 4 columns</p>\n",
       "</div>"
      ],
      "text/plain": [
       "          month  year        day  Total Volume\n",
       "0      December  2015     Sunday      64236.62\n",
       "1      December  2015     Sunday      54876.98\n",
       "2      December  2015     Sunday     118220.22\n",
       "3          June  2015     Friday      78992.15\n",
       "4      November  2015     Sunday      51039.60\n",
       "...         ...   ...        ...           ...\n",
       "1512    October  2016     Sunday     190846.01\n",
       "1513  September  2016   Saturday     178235.75\n",
       "1514   February  2016  Wednesday     178410.82\n",
       "1515  September  2016     Sunday     189131.52\n",
       "1516  September  2016     Sunday     182978.30\n",
       "\n",
       "[1517 rows x 4 columns]"
      ]
     },
     "execution_count": 681,
     "metadata": {},
     "output_type": "execute_result"
    }
   ],
   "source": [
    "df_dates=pd.DataFrame()\n",
    "df_dates['month']=df['Date'].dt.month_name()\n",
    "df_dates['year']=df['Date'].dt.year\n",
    "df_dates['day']=df['Date'].dt.day_name()\n",
    "df_dates['Total Volume']=df['Total Volume']\n",
    "df_dates"
   ]
  },
  {
   "cell_type": "code",
   "execution_count": 682,
   "metadata": {},
   "outputs": [
    {
     "data": {
      "text/html": [
       "<div>\n",
       "<style scoped>\n",
       "    .dataframe tbody tr th:only-of-type {\n",
       "        vertical-align: middle;\n",
       "    }\n",
       "\n",
       "    .dataframe tbody tr th {\n",
       "        vertical-align: top;\n",
       "    }\n",
       "\n",
       "    .dataframe thead th {\n",
       "        text-align: right;\n",
       "    }\n",
       "</style>\n",
       "<table border=\"1\" class=\"dataframe\">\n",
       "  <thead>\n",
       "    <tr style=\"text-align: right;\">\n",
       "      <th></th>\n",
       "      <th>month</th>\n",
       "      <th>year</th>\n",
       "      <th>day</th>\n",
       "      <th>Total Volume</th>\n",
       "      <th>type_of_day</th>\n",
       "    </tr>\n",
       "  </thead>\n",
       "  <tbody>\n",
       "    <tr>\n",
       "      <th>0</th>\n",
       "      <td>December</td>\n",
       "      <td>2015</td>\n",
       "      <td>Sunday</td>\n",
       "      <td>64236.62</td>\n",
       "      <td>weekend</td>\n",
       "    </tr>\n",
       "    <tr>\n",
       "      <th>1</th>\n",
       "      <td>December</td>\n",
       "      <td>2015</td>\n",
       "      <td>Sunday</td>\n",
       "      <td>54876.98</td>\n",
       "      <td>weekend</td>\n",
       "    </tr>\n",
       "    <tr>\n",
       "      <th>2</th>\n",
       "      <td>December</td>\n",
       "      <td>2015</td>\n",
       "      <td>Sunday</td>\n",
       "      <td>118220.22</td>\n",
       "      <td>weekend</td>\n",
       "    </tr>\n",
       "    <tr>\n",
       "      <th>3</th>\n",
       "      <td>June</td>\n",
       "      <td>2015</td>\n",
       "      <td>Friday</td>\n",
       "      <td>78992.15</td>\n",
       "      <td>weekday</td>\n",
       "    </tr>\n",
       "    <tr>\n",
       "      <th>4</th>\n",
       "      <td>November</td>\n",
       "      <td>2015</td>\n",
       "      <td>Sunday</td>\n",
       "      <td>51039.60</td>\n",
       "      <td>weekend</td>\n",
       "    </tr>\n",
       "    <tr>\n",
       "      <th>...</th>\n",
       "      <td>...</td>\n",
       "      <td>...</td>\n",
       "      <td>...</td>\n",
       "      <td>...</td>\n",
       "      <td>...</td>\n",
       "    </tr>\n",
       "    <tr>\n",
       "      <th>1512</th>\n",
       "      <td>October</td>\n",
       "      <td>2016</td>\n",
       "      <td>Sunday</td>\n",
       "      <td>190846.01</td>\n",
       "      <td>weekend</td>\n",
       "    </tr>\n",
       "    <tr>\n",
       "      <th>1513</th>\n",
       "      <td>September</td>\n",
       "      <td>2016</td>\n",
       "      <td>Saturday</td>\n",
       "      <td>178235.75</td>\n",
       "      <td>weekend</td>\n",
       "    </tr>\n",
       "    <tr>\n",
       "      <th>1514</th>\n",
       "      <td>February</td>\n",
       "      <td>2016</td>\n",
       "      <td>Wednesday</td>\n",
       "      <td>178410.82</td>\n",
       "      <td>weekday</td>\n",
       "    </tr>\n",
       "    <tr>\n",
       "      <th>1515</th>\n",
       "      <td>September</td>\n",
       "      <td>2016</td>\n",
       "      <td>Sunday</td>\n",
       "      <td>189131.52</td>\n",
       "      <td>weekend</td>\n",
       "    </tr>\n",
       "    <tr>\n",
       "      <th>1516</th>\n",
       "      <td>September</td>\n",
       "      <td>2016</td>\n",
       "      <td>Sunday</td>\n",
       "      <td>182978.30</td>\n",
       "      <td>weekend</td>\n",
       "    </tr>\n",
       "  </tbody>\n",
       "</table>\n",
       "<p>1517 rows × 5 columns</p>\n",
       "</div>"
      ],
      "text/plain": [
       "          month  year        day  Total Volume type_of_day\n",
       "0      December  2015     Sunday      64236.62     weekend\n",
       "1      December  2015     Sunday      54876.98     weekend\n",
       "2      December  2015     Sunday     118220.22     weekend\n",
       "3          June  2015     Friday      78992.15     weekday\n",
       "4      November  2015     Sunday      51039.60     weekend\n",
       "...         ...   ...        ...           ...         ...\n",
       "1512    October  2016     Sunday     190846.01     weekend\n",
       "1513  September  2016   Saturday     178235.75     weekend\n",
       "1514   February  2016  Wednesday     178410.82     weekday\n",
       "1515  September  2016     Sunday     189131.52     weekend\n",
       "1516  September  2016     Sunday     182978.30     weekend\n",
       "\n",
       "[1517 rows x 5 columns]"
      ]
     },
     "execution_count": 682,
     "metadata": {},
     "output_type": "execute_result"
    }
   ],
   "source": [
    "import numpy as np\n",
    "df_dates['type_of_day']=np.where((df_dates['day']=='Sunday')|(df_dates['day']=='Saturday'),'weekend','weekday')\n",
    "df_dates"
   ]
  },
  {
   "cell_type": "markdown",
   "metadata": {},
   "source": [
    "# Bivariate Analysis"
   ]
  },
  {
   "cell_type": "code",
   "execution_count": 683,
   "metadata": {},
   "outputs": [
    {
     "data": {
      "image/png": "[encoded data removed]",
      "text/plain": [
       "<Figure size 432x288 with 1 Axes>"
      ]
     },
     "metadata": {},
     "output_type": "display_data"
    }
   ],
   "source": [
    "import seaborn as sns\n",
    "import matplotlib.pyplot as plt\n",
    "sns.barplot(x='type_of_day',y='Total Volume',data=df_dates)\n",
    "plt.show()"
   ]
  },
  {
   "cell_type": "markdown",
   "metadata": {},
   "source": [
    "The overall Avacado sale is higher on weekdays than weekends"
   ]
  },
  {
   "cell_type": "code",
   "execution_count": 684,
   "metadata": {},
   "outputs": [
    {
     "data": {
      "image/png": "[encoded data removed]",
      "text/plain": [
       "<Figure size 432x288 with 1 Axes>"
      ]
     },
     "metadata": {},
     "output_type": "display_data"
    }
   ],
   "source": [
    "sns.barplot(x='year',y='Total Volume',data=df_dates)\n",
    "plt.show()"
   ]
  },
  {
   "cell_type": "markdown",
   "metadata": {},
   "source": [
    "The total Avacado sales decreased in year 2016 w.r.t year 2015"
   ]
  },
  {
   "cell_type": "code",
   "execution_count": 685,
   "metadata": {},
   "outputs": [
    {
     "data": {
      "image/png": "[encoded data removed]",
      "text/plain": [
       "<Figure size 432x288 with 1 Axes>"
      ]
     },
     "metadata": {},
     "output_type": "display_data"
    }
   ],
   "source": [
    "sns.barplot(x='year',y='AveragePrice',data=df)\n",
    "plt.show()"
   ]
  },
  {
   "cell_type": "markdown",
   "metadata": {},
   "source": [
    "But the decrease in sales comes with increase of unit price in year 2016 w.r.t year 2015, it may be due to the short supply and thus more demand of Avacado in year 2016"
   ]
  },
  {
   "cell_type": "code",
   "execution_count": 686,
   "metadata": {},
   "outputs": [
    {
     "data": {
      "image/png": "[encoded data removed]",
      "text/plain": [
       "<Figure size 432x288 with 1 Axes>"
      ]
     },
     "metadata": {},
     "output_type": "display_data"
    }
   ],
   "source": [
    "sns.barplot(x='year',y='Total Volume',hue='month',data=df_dates)\n",
    "plt.show()"
   ]
  },
  {
   "cell_type": "code",
   "execution_count": 789,
   "metadata": {},
   "outputs": [
    {
     "data": {
      "text/plain": [
       "<matplotlib.axes._subplots.AxesSubplot at 0x1bb86b25df0>"
      ]
     },
     "execution_count": 789,
     "metadata": {},
     "output_type": "execute_result"
    },
    {
     "data": {
      "image/png": "[encoded data removed]",
      "text/plain": [
       "<Figure size 432x288 with 1 Axes>"
      ]
     },
     "metadata": {},
     "output_type": "display_data"
    }
   ],
   "source": [
    "sns.lineplot(x='Total Volume',y='AveragePrice',data=df)"
   ]
  },
  {
   "cell_type": "markdown",
   "metadata": {},
   "source": [
    "There is somewhat linear relationship between Total Volume and AveragePrice columns"
   ]
  },
  {
   "cell_type": "markdown",
   "metadata": {},
   "source": [
    "# Univariate Analysis"
   ]
  },
  {
   "cell_type": "code",
   "execution_count": 687,
   "metadata": {},
   "outputs": [
    {
     "data": {
      "text/plain": [
       "(array([ 20.,  47., 113., 169., 433., 393., 211.,  91.,  25.,  15.]),\n",
       " array([0.49 , 0.609, 0.728, 0.847, 0.966, 1.085, 1.204, 1.323, 1.442,\n",
       "        1.561, 1.68 ]),\n",
       " <a list of 10 Patch objects>)"
      ]
     },
     "execution_count": 687,
     "metadata": {},
     "output_type": "execute_result"
    },
    {
     "data": {
      "image/png": "[encoded data removed]",
      "text/plain": [
       "<Figure size 432x288 with 1 Axes>"
      ]
     },
     "metadata": {},
     "output_type": "display_data"
    }
   ],
   "source": [
    "plt.hist(x='AveragePrice',data=df)"
   ]
  },
  {
   "cell_type": "code",
   "execution_count": 688,
   "metadata": {},
   "outputs": [
    {
     "data": {
      "image/png": "[encoded data removed]",
      "text/plain": [
       "<Figure size 432x288 with 1 Axes>"
      ]
     },
     "metadata": {},
     "output_type": "display_data"
    }
   ],
   "source": [
    "sns.set(style='whitegrid')\n",
    "sns.violinplot(df['AveragePrice'])\n",
    "plt.show()"
   ]
  },
  {
   "cell_type": "markdown",
   "metadata": {},
   "source": [
    "The most common unit price was observed between 1 and 1.1"
   ]
  },
  {
   "cell_type": "code",
   "execution_count": 692,
   "metadata": {},
   "outputs": [],
   "source": [
    "df.drop(columns=['Total Bags','Small Bags','Large Bags','XLarge Bags','Date','type'],axis=1,inplace=True)"
   ]
  },
  {
   "cell_type": "markdown",
   "metadata": {},
   "source": [
    "Above I dropped less relevant columns"
   ]
  },
  {
   "cell_type": "markdown",
   "metadata": {},
   "source": [
    "# Data Encoding,Removing Outliers,Normalization and Standardization."
   ]
  },
  {
   "cell_type": "code",
   "execution_count": null,
   "metadata": {},
   "outputs": [],
   "source": [
    "from sklearn.preprocessing import LabelEncoder\n",
    "le=LabelEncoder()\n",
    "df['region']=le.fit_transform(df['region'])"
   ]
  },
  {
   "cell_type": "code",
   "execution_count": 694,
   "metadata": {},
   "outputs": [
    {
     "data": {
      "text/html": [
       "<div>\n",
       "<style scoped>\n",
       "    .dataframe tbody tr th:only-of-type {\n",
       "        vertical-align: middle;\n",
       "    }\n",
       "\n",
       "    .dataframe tbody tr th {\n",
       "        vertical-align: top;\n",
       "    }\n",
       "\n",
       "    .dataframe thead th {\n",
       "        text-align: right;\n",
       "    }\n",
       "</style>\n",
       "<table border=\"1\" class=\"dataframe\">\n",
       "  <thead>\n",
       "    <tr style=\"text-align: right;\">\n",
       "      <th></th>\n",
       "      <th>AveragePrice</th>\n",
       "      <th>Total Volume</th>\n",
       "      <th>4046</th>\n",
       "      <th>4225</th>\n",
       "      <th>4770</th>\n",
       "      <th>year</th>\n",
       "      <th>region</th>\n",
       "    </tr>\n",
       "  </thead>\n",
       "  <tbody>\n",
       "    <tr>\n",
       "      <th>0</th>\n",
       "      <td>1.33</td>\n",
       "      <td>64236.62</td>\n",
       "      <td>1036.74</td>\n",
       "      <td>54454.85</td>\n",
       "      <td>48.16</td>\n",
       "      <td>2015</td>\n",
       "      <td>0</td>\n",
       "    </tr>\n",
       "    <tr>\n",
       "      <th>1</th>\n",
       "      <td>1.35</td>\n",
       "      <td>54876.98</td>\n",
       "      <td>674.28</td>\n",
       "      <td>44638.81</td>\n",
       "      <td>58.33</td>\n",
       "      <td>2015</td>\n",
       "      <td>0</td>\n",
       "    </tr>\n",
       "    <tr>\n",
       "      <th>2</th>\n",
       "      <td>0.93</td>\n",
       "      <td>118220.22</td>\n",
       "      <td>794.70</td>\n",
       "      <td>109149.67</td>\n",
       "      <td>130.50</td>\n",
       "      <td>2015</td>\n",
       "      <td>0</td>\n",
       "    </tr>\n",
       "    <tr>\n",
       "      <th>3</th>\n",
       "      <td>1.08</td>\n",
       "      <td>78992.15</td>\n",
       "      <td>1132.00</td>\n",
       "      <td>71976.41</td>\n",
       "      <td>72.58</td>\n",
       "      <td>2015</td>\n",
       "      <td>0</td>\n",
       "    </tr>\n",
       "    <tr>\n",
       "      <th>4</th>\n",
       "      <td>1.28</td>\n",
       "      <td>51039.60</td>\n",
       "      <td>941.48</td>\n",
       "      <td>43838.39</td>\n",
       "      <td>75.78</td>\n",
       "      <td>2015</td>\n",
       "      <td>0</td>\n",
       "    </tr>\n",
       "    <tr>\n",
       "      <th>...</th>\n",
       "      <td>...</td>\n",
       "      <td>...</td>\n",
       "      <td>...</td>\n",
       "      <td>...</td>\n",
       "      <td>...</td>\n",
       "      <td>...</td>\n",
       "      <td>...</td>\n",
       "    </tr>\n",
       "    <tr>\n",
       "      <th>1512</th>\n",
       "      <td>1.39</td>\n",
       "      <td>190846.01</td>\n",
       "      <td>57529.11</td>\n",
       "      <td>56366.66</td>\n",
       "      <td>17531.78</td>\n",
       "      <td>2016</td>\n",
       "      <td>7</td>\n",
       "    </tr>\n",
       "    <tr>\n",
       "      <th>1513</th>\n",
       "      <td>1.51</td>\n",
       "      <td>178235.75</td>\n",
       "      <td>43325.87</td>\n",
       "      <td>52189.61</td>\n",
       "      <td>19419.57</td>\n",
       "      <td>2016</td>\n",
       "      <td>7</td>\n",
       "    </tr>\n",
       "    <tr>\n",
       "      <th>1514</th>\n",
       "      <td>1.48</td>\n",
       "      <td>178410.82</td>\n",
       "      <td>46364.75</td>\n",
       "      <td>52893.38</td>\n",
       "      <td>16736.92</td>\n",
       "      <td>2016</td>\n",
       "      <td>7</td>\n",
       "    </tr>\n",
       "    <tr>\n",
       "      <th>1515</th>\n",
       "      <td>1.47</td>\n",
       "      <td>189131.52</td>\n",
       "      <td>54110.79</td>\n",
       "      <td>53593.58</td>\n",
       "      <td>17495.42</td>\n",
       "      <td>2016</td>\n",
       "      <td>7</td>\n",
       "    </tr>\n",
       "    <tr>\n",
       "      <th>1516</th>\n",
       "      <td>1.43</td>\n",
       "      <td>182978.30</td>\n",
       "      <td>43116.41</td>\n",
       "      <td>54193.42</td>\n",
       "      <td>16563.91</td>\n",
       "      <td>2016</td>\n",
       "      <td>7</td>\n",
       "    </tr>\n",
       "  </tbody>\n",
       "</table>\n",
       "<p>1487 rows × 7 columns</p>\n",
       "</div>"
      ],
      "text/plain": [
       "      AveragePrice  Total Volume      4046       4225      4770  year  region\n",
       "0             1.33      64236.62   1036.74   54454.85     48.16  2015       0\n",
       "1             1.35      54876.98    674.28   44638.81     58.33  2015       0\n",
       "2             0.93     118220.22    794.70  109149.67    130.50  2015       0\n",
       "3             1.08      78992.15   1132.00   71976.41     72.58  2015       0\n",
       "4             1.28      51039.60    941.48   43838.39     75.78  2015       0\n",
       "...            ...           ...       ...        ...       ...   ...     ...\n",
       "1512          1.39     190846.01  57529.11   56366.66  17531.78  2016       7\n",
       "1513          1.51     178235.75  43325.87   52189.61  19419.57  2016       7\n",
       "1514          1.48     178410.82  46364.75   52893.38  16736.92  2016       7\n",
       "1515          1.47     189131.52  54110.79   53593.58  17495.42  2016       7\n",
       "1516          1.43     182978.30  43116.41   54193.42  16563.91  2016       7\n",
       "\n",
       "[1487 rows x 7 columns]"
      ]
     },
     "execution_count": 694,
     "metadata": {},
     "output_type": "execute_result"
    }
   ],
   "source": [
    "from scipy.stats import zscore\n",
    "z=np.abs(zscore(df))\n",
    "df_new=df[(z<3).all(axis=1)]\n",
    "df_new"
   ]
  },
  {
   "cell_type": "code",
   "execution_count": 695,
   "metadata": {},
   "outputs": [
    {
     "name": "stdout",
     "output_type": "stream",
     "text": [
      "(1517, 7) \t (1487, 7)\n"
     ]
    }
   ],
   "source": [
    "print(df.shape,'\\t',df_new.shape)"
   ]
  },
  {
   "cell_type": "code",
   "execution_count": 696,
   "metadata": {},
   "outputs": [],
   "source": [
    "import warnings\n",
    "warnings.filterwarnings('ignore')\n",
    "from sklearn.preprocessing import PowerTransformer\n",
    "pt=PowerTransformer(method='yeo-johnson')\n",
    "df_final=pt.fit_transform(df_new)\n",
    "df_final=pd.DataFrame(df_final)"
   ]
  },
  {
   "cell_type": "code",
   "execution_count": 697,
   "metadata": {},
   "outputs": [
    {
     "data": {
      "text/plain": [
       "0    0.016699\n",
       "1    0.000000\n",
       "2   -0.030088\n",
       "3    0.000733\n",
       "4   -0.054507\n",
       "5    1.815823\n",
       "6   -0.204240\n",
       "dtype: float64"
      ]
     },
     "execution_count": 697,
     "metadata": {},
     "output_type": "execute_result"
    }
   ],
   "source": [
    "df_final.skew()"
   ]
  },
  {
   "cell_type": "code",
   "execution_count": 698,
   "metadata": {},
   "outputs": [],
   "source": [
    "x=df_final.iloc[:,1:7]"
   ]
  },
  {
   "cell_type": "code",
   "execution_count": 699,
   "metadata": {},
   "outputs": [],
   "source": [
    "y=df_new.iloc[:,0]"
   ]
  },
  {
   "cell_type": "code",
   "execution_count": 700,
   "metadata": {},
   "outputs": [],
   "source": [
    "from sklearn.preprocessing import StandardScaler\n",
    "sc=StandardScaler()\n",
    "x=sc.fit_transform(x)\n",
    "x=pd.DataFrame(x)"
   ]
  },
  {
   "cell_type": "markdown",
   "metadata": {},
   "source": [
    "# Model Training - Regression Models"
   ]
  },
  {
   "cell_type": "markdown",
   "metadata": {},
   "source": [
    "here output label is Average price"
   ]
  },
  {
   "cell_type": "raw",
   "metadata": {},
   "source": [
    "# Random State Hyperparameter Tuning for Best Parameter Value"
   ]
  },
  {
   "cell_type": "code",
   "execution_count": 701,
   "metadata": {},
   "outputs": [
    {
     "name": "stdout",
     "output_type": "stream",
     "text": [
      "max r2 score corresponding to  LinearRegression() for 42 is 0.2964354191625047\n",
      "max r2 score corresponding to  DecisionTreeRegressor() for 42 is 0.6015170474605491\n",
      "max r2 score corresponding to  SVR() for 42 is 0.68120894686499\n",
      "max r2 score corresponding to  KNeighborsRegressor() for 42 is 0.7626085812897371\n",
      "max r2 score corresponding to  KNeighborsRegressor() for 43 is 0.8147901789931705\n",
      "max r2 score corresponding to  KNeighborsRegressor() for 48 is 0.843928562676599\n"
     ]
    }
   ],
   "source": [
    "from sklearn.linear_model import Ridge,Lasso,ElasticNet,LinearRegression\n",
    "from sklearn.tree import DecisionTreeRegressor\n",
    "from sklearn.svm import SVR\n",
    "from sklearn.neighbors import KNeighborsRegressor\n",
    "from sklearn.metrics import mean_absolute_error,mean_squared_error,r2_score\n",
    "from sklearn.model_selection import train_test_split\n",
    "max_r_score=0\n",
    "for r_state in range(42,100):\n",
    "    x_train,x_test,y_train,y_test=train_test_split(x,y,random_state=r_state,test_size=0.20)\n",
    "    lr=LinearRegression()\n",
    "    rd=Ridge()\n",
    "    ls=Lasso()\n",
    "    el=ElasticNet()\n",
    "    lr=LinearRegression()\n",
    "    dtr=DecisionTreeRegressor()\n",
    "    sv=SVR()\n",
    "    knn=KNeighborsRegressor()\n",
    "    model=[lr,rd,ls,el,lr,dtr,sv,knn]\n",
    "    for m in model:\n",
    "        m.fit(x_train,y_train)\n",
    "        m.score(x_train,y_train)\n",
    "        y_pred=m.predict(x_test)\n",
    "        r2_scr=r2_score(y_test,y_pred)\n",
    "        if r2_scr>max_r_score:\n",
    "            max_r_score=r2_scr\n",
    "            final_r_state=r_state        \n",
    "            print('max r2 score corresponding to ',m,'for',final_r_state,'is',max_r_score)"
   ]
  },
  {
   "cell_type": "code",
   "execution_count": 702,
   "metadata": {},
   "outputs": [],
   "source": [
    " x_train,x_test,y_train,y_test=train_test_split(x,y,random_state=48,test_size=0.20)"
   ]
  },
  {
   "cell_type": "code",
   "execution_count": 703,
   "metadata": {},
   "outputs": [
    {
     "name": "stdout",
     "output_type": "stream",
     "text": [
      "(1189, 6) \t (298, 6)\n"
     ]
    }
   ],
   "source": [
    "print(x_train.shape,'\\t',x_test.shape)"
   ]
  },
  {
   "cell_type": "code",
   "execution_count": 704,
   "metadata": {},
   "outputs": [
    {
     "name": "stdout",
     "output_type": "stream",
     "text": [
      "(1189,) \t (298,)\n"
     ]
    }
   ],
   "source": [
    "print(y_train.shape,'\\t',y_test.shape)"
   ]
  },
  {
   "cell_type": "markdown",
   "metadata": {},
   "source": [
    "Finding Out Best Scoring Model At Given Parameter Value"
   ]
  },
  {
   "cell_type": "code",
   "execution_count": 705,
   "metadata": {},
   "outputs": [
    {
     "name": "stdout",
     "output_type": "stream",
     "text": [
      "Score of LinearRegression() is: 0.31492446660944606\n",
      "Mean absolute error: 0.1281678120954951\n",
      "Mean squared error: 0.025639762280416586\n",
      "Root mean squared error: 0.16012420891425688\n",
      "r2_score: 0.2873952167315966\n",
      "\n",
      "\n",
      "Score of Ridge() is: 0.31492408295449614\n",
      "Mean absolute error: 0.12816639577550884\n",
      "Mean squared error: 0.02563850729689029\n",
      "Root mean squared error: 0.16012029008495549\n",
      "r2_score: 0.2874300964334433\n",
      "\n",
      "\n",
      "Score of Lasso() is: 0.0\n",
      "Mean absolute error: 0.14669873730674357\n",
      "Mean squared error: 0.036110342271382836\n",
      "Root mean squared error: 0.1900272145546075\n",
      "r2_score: -0.0036131515813937476\n",
      "\n",
      "\n",
      "Score of ElasticNet() is: 0.0\n",
      "Mean absolute error: 0.14669873730674357\n",
      "Mean squared error: 0.036110342271382836\n",
      "Root mean squared error: 0.1900272145546075\n",
      "r2_score: -0.0036131515813937476\n",
      "\n",
      "\n",
      "Score of DecisionTreeRegressor() is: 1.0\n",
      "Mean absolute error: 0.08694630872483222\n",
      "Mean squared error: 0.017154697986577185\n",
      "Root mean squared error: 0.1309759443049646\n",
      "r2_score: 0.5232202347641606\n",
      "\n",
      "\n",
      "Score of SVR() is: 0.6984735931416657\n",
      "Mean absolute error: 0.08353865792479069\n",
      "Mean squared error: 0.011726951702649254\n",
      "Root mean squared error: 0.10829105088902431\n",
      "r2_score: 0.6740733480650027\n",
      "\n",
      "\n",
      "Score of KNeighborsRegressor() is: 0.8695275416560477\n",
      "Mean absolute error: 0.05781879194630873\n",
      "Mean squared error: 0.005615503355704697\n",
      "Root mean squared error: 0.07493666229359763\n",
      "r2_score: 0.843928562676599\n",
      "\n",
      "\n"
     ]
    }
   ],
   "source": [
    "model=[lr,rd,ls,el,dtr,sv,knn]\n",
    "for m in model:\n",
    "    m.fit(x_train,y_train)\n",
    "    print('Score of',m,'is:',m.score(x_train,y_train))\n",
    "    y_pred=m.predict(x_test)\n",
    "    print('Mean absolute error:',mean_absolute_error(y_test,y_pred))\n",
    "    print('Mean squared error:',mean_squared_error(y_test,y_pred))\n",
    "    print('Root mean squared error:',np.sqrt(mean_squared_error(y_test,y_pred)))\n",
    "    print('r2_score:',r2_score(y_test,y_pred))\n",
    "    print('\\n')  "
   ]
  },
  {
   "cell_type": "markdown",
   "metadata": {},
   "source": [
    "Finding Out Best Parameter Value of KNeighborsRegressor Model"
   ]
  },
  {
   "cell_type": "code",
   "execution_count": 706,
   "metadata": {},
   "outputs": [
    {
     "name": "stdout",
     "output_type": "stream",
     "text": [
      "0.25599895191980304\n"
     ]
    },
    {
     "data": {
      "text/plain": [
       "{'n_neighbors': 9}"
      ]
     },
     "execution_count": 706,
     "metadata": {},
     "output_type": "execute_result"
    }
   ],
   "source": [
    "from sklearn.model_selection import GridSearchCV\n",
    "knn=KNeighborsRegressor()\n",
    "parameters={'n_neighbors':range(1,10)}\n",
    "Grid=GridSearchCV(knn,parameters)\n",
    "Grid.fit(x,y)\n",
    "print(Grid.best_score_)\n",
    "Grid.best_params_          "
   ]
  },
  {
   "cell_type": "markdown",
   "metadata": {},
   "source": [
    "Finding Out Different Error Metrics of KNeighborsRegressor Model with Best Parameter Value"
   ]
  },
  {
   "cell_type": "code",
   "execution_count": 707,
   "metadata": {},
   "outputs": [
    {
     "name": "stdout",
     "output_type": "stream",
     "text": [
      "Score of KNeighborsRegressor(n_neighbors=9) is: 0.795860830041565\n",
      "Mean absolute error: 0.06527218493661444\n",
      "Mean squared error: 0.00713003562846963\n",
      "Root mean squared error: 0.0844395383009028\n",
      "r2_score: 0.8018352339560364\n"
     ]
    }
   ],
   "source": [
    "knn=KNeighborsRegressor(n_neighbors=9)\n",
    "knn.fit(x_train,y_train)\n",
    "print('Score of',knn,'is:',knn.score(x_train,y_train))\n",
    "y_pred=knn.predict(x_test)\n",
    "print('Mean absolute error:',mean_absolute_error(y_test,y_pred))\n",
    "print('Mean squared error:',mean_squared_error(y_test,y_pred))\n",
    "print('Root mean squared error:',np.sqrt(mean_squared_error(y_test,y_pred)))\n",
    "print('r2_score:',r2_score(y_test,y_pred))"
   ]
  },
  {
   "cell_type": "markdown",
   "metadata": {},
   "source": [
    "Cross Validation "
   ]
  },
  {
   "cell_type": "code",
   "execution_count": 708,
   "metadata": {},
   "outputs": [
    {
     "name": "stdout",
     "output_type": "stream",
     "text": [
      "[0.19231231 0.24083084 0.27788333 0.35325499 0.21571328]\n",
      "0.25599895191980304 0.05629681737993907\n"
     ]
    }
   ],
   "source": [
    "from sklearn.model_selection import cross_val_score\n",
    "knscores=cross_val_score(knn,x,y,cv=5,scoring='r2')\n",
    "print(knscores)\n",
    "print(knscores.mean(),knscores.std())"
   ]
  },
  {
   "cell_type": "markdown",
   "metadata": {},
   "source": [
    "Ensembling Technique to Boost Score"
   ]
  },
  {
   "cell_type": "code",
   "execution_count": 709,
   "metadata": {},
   "outputs": [
    {
     "name": "stdout",
     "output_type": "stream",
     "text": [
      "0.9711955175708046\n",
      "mean absolute error: 0.06297718120805362\n",
      "mean squared error: 0.007401428187919461\n",
      "root mean squared error: 0.08603155344360267\n",
      "r2 score: 0.7942924325098968\n"
     ]
    }
   ],
   "source": [
    "from sklearn.ensemble import RandomForestRegressor\n",
    "rf=RandomForestRegressor(n_estimators=100,random_state=48)\n",
    "rf.fit(x_train,y_train)\n",
    "print(rf.score(x_train,y_train))\n",
    "predrf=rf.predict(x_test)\n",
    "print('mean absolute error:',mean_absolute_error(y_test,predrf))\n",
    "print('mean squared error:',mean_squared_error(y_test,predrf))\n",
    "print('root mean squared error:',np.sqrt(mean_squared_error(y_test,predrf)))\n",
    "print('r2 score:',r2_score(y_test,predrf))"
   ]
  },
  {
   "cell_type": "code",
   "execution_count": 710,
   "metadata": {},
   "outputs": [
    {
     "name": "stdout",
     "output_type": "stream",
     "text": [
      "[-0.91082377 -0.06875542  0.33082764  0.15463452  0.09265221]\n",
      "-0.08029296299660844 0.43451942270769156\n"
     ]
    }
   ],
   "source": [
    "from sklearn.model_selection import cross_val_score\n",
    "rfscores=cross_val_score(rf,x,y,cv=5,scoring='r2')\n",
    "print(rfscores)\n",
    "print(rfscores.mean(),rfscores.std())"
   ]
  },
  {
   "cell_type": "code",
   "execution_count": 711,
   "metadata": {},
   "outputs": [
    {
     "name": "stdout",
     "output_type": "stream",
     "text": [
      "0.8566426531104625\n",
      "mean absolute error: 0.06472408650261\n",
      "mean squared error: 0.006707660120971084\n",
      "root mean squared error: 0.08190030598826285\n",
      "r2 score: 0.8135742978243772\n"
     ]
    }
   ],
   "source": [
    "from sklearn.ensemble import AdaBoostRegressor\n",
    "ad=AdaBoostRegressor(base_estimator=knn,n_estimators=100,learning_rate=0.1,random_state=48)\n",
    "ad.fit(x_train,y_train)\n",
    "print(ad.score(x_train,y_train))\n",
    "ad_pred=ad.predict(x_test)\n",
    "print('mean absolute error:',mean_absolute_error(y_test,ad_pred))\n",
    "print('mean squared error:',mean_squared_error(y_test,ad_pred))\n",
    "print('root mean squared error:',np.sqrt(mean_squared_error(y_test,ad_pred)))\n",
    "print('r2 score:',r2_score(y_test,ad_pred))"
   ]
  },
  {
   "cell_type": "code",
   "execution_count": 712,
   "metadata": {},
   "outputs": [
    {
     "name": "stdout",
     "output_type": "stream",
     "text": [
      "[0.21228111 0.23893991 0.19930076 0.34093691 0.24992418]\n",
      "0.24827657149298937 0.04973958115692646\n"
     ]
    }
   ],
   "source": [
    "from sklearn.model_selection import cross_val_score\n",
    "adscores=cross_val_score(ad,x,y,cv=5,scoring='r2')\n",
    "print(adscores)\n",
    "print(adscores.mean(),adscores.std())"
   ]
  },
  {
   "cell_type": "markdown",
   "metadata": {},
   "source": [
    "Relationship between actual and predicted value of Adaboost Regressor model"
   ]
  },
  {
   "cell_type": "code",
   "execution_count": 713,
   "metadata": {},
   "outputs": [
    {
     "data": {
      "image/png": "[encoded data removed]",
      "text/plain": [
       "<Figure size 432x288 with 1 Axes>"
      ]
     },
     "metadata": {},
     "output_type": "display_data"
    }
   ],
   "source": [
    "plt.scatter(y_test,ad_pred)\n",
    "plt.xlabel('y_test')\n",
    "plt.ylabel('ad_pred')\n",
    "plt.title('scatter plot between test data and predicted data')\n",
    "plt.show()"
   ]
  },
  {
   "cell_type": "markdown",
   "metadata": {},
   "source": [
    "    Saving Adaboost Regressor Model"
   ]
  },
  {
   "cell_type": "code",
   "execution_count": 773,
   "metadata": {},
   "outputs": [],
   "source": [
    "import pickle\n",
    "filename='pickladfile.pkl'\n",
    "pickle.dump(ad,open(filename,'wb'))"
   ]
  },
  {
   "cell_type": "markdown",
   "metadata": {},
   "source": [
    "# Model Training - Classification Models"
   ]
  },
  {
   "cell_type": "markdown",
   "metadata": {},
   "source": [
    "Here the output label is Region Column"
   ]
  },
  {
   "cell_type": "code",
   "execution_count": 723,
   "metadata": {},
   "outputs": [
    {
     "data": {
      "text/html": [
       "<div>\n",
       "<style scoped>\n",
       "    .dataframe tbody tr th:only-of-type {\n",
       "        vertical-align: middle;\n",
       "    }\n",
       "\n",
       "    .dataframe tbody tr th {\n",
       "        vertical-align: top;\n",
       "    }\n",
       "\n",
       "    .dataframe thead th {\n",
       "        text-align: right;\n",
       "    }\n",
       "</style>\n",
       "<table border=\"1\" class=\"dataframe\">\n",
       "  <thead>\n",
       "    <tr style=\"text-align: right;\">\n",
       "      <th></th>\n",
       "      <th>AveragePrice</th>\n",
       "      <th>Total Volume</th>\n",
       "      <th>4046</th>\n",
       "      <th>4225</th>\n",
       "      <th>4770</th>\n",
       "      <th>year</th>\n",
       "      <th>region</th>\n",
       "    </tr>\n",
       "  </thead>\n",
       "  <tbody>\n",
       "    <tr>\n",
       "      <th>0</th>\n",
       "      <td>1.33</td>\n",
       "      <td>64236.62</td>\n",
       "      <td>1036.74</td>\n",
       "      <td>54454.85</td>\n",
       "      <td>48.16</td>\n",
       "      <td>2015</td>\n",
       "      <td>0</td>\n",
       "    </tr>\n",
       "    <tr>\n",
       "      <th>1</th>\n",
       "      <td>1.35</td>\n",
       "      <td>54876.98</td>\n",
       "      <td>674.28</td>\n",
       "      <td>44638.81</td>\n",
       "      <td>58.33</td>\n",
       "      <td>2015</td>\n",
       "      <td>0</td>\n",
       "    </tr>\n",
       "    <tr>\n",
       "      <th>2</th>\n",
       "      <td>0.93</td>\n",
       "      <td>118220.22</td>\n",
       "      <td>794.70</td>\n",
       "      <td>109149.67</td>\n",
       "      <td>130.50</td>\n",
       "      <td>2015</td>\n",
       "      <td>0</td>\n",
       "    </tr>\n",
       "    <tr>\n",
       "      <th>3</th>\n",
       "      <td>1.08</td>\n",
       "      <td>78992.15</td>\n",
       "      <td>1132.00</td>\n",
       "      <td>71976.41</td>\n",
       "      <td>72.58</td>\n",
       "      <td>2015</td>\n",
       "      <td>0</td>\n",
       "    </tr>\n",
       "    <tr>\n",
       "      <th>4</th>\n",
       "      <td>1.28</td>\n",
       "      <td>51039.60</td>\n",
       "      <td>941.48</td>\n",
       "      <td>43838.39</td>\n",
       "      <td>75.78</td>\n",
       "      <td>2015</td>\n",
       "      <td>0</td>\n",
       "    </tr>\n",
       "    <tr>\n",
       "      <th>...</th>\n",
       "      <td>...</td>\n",
       "      <td>...</td>\n",
       "      <td>...</td>\n",
       "      <td>...</td>\n",
       "      <td>...</td>\n",
       "      <td>...</td>\n",
       "      <td>...</td>\n",
       "    </tr>\n",
       "    <tr>\n",
       "      <th>1512</th>\n",
       "      <td>1.39</td>\n",
       "      <td>190846.01</td>\n",
       "      <td>57529.11</td>\n",
       "      <td>56366.66</td>\n",
       "      <td>17531.78</td>\n",
       "      <td>2016</td>\n",
       "      <td>7</td>\n",
       "    </tr>\n",
       "    <tr>\n",
       "      <th>1513</th>\n",
       "      <td>1.51</td>\n",
       "      <td>178235.75</td>\n",
       "      <td>43325.87</td>\n",
       "      <td>52189.61</td>\n",
       "      <td>19419.57</td>\n",
       "      <td>2016</td>\n",
       "      <td>7</td>\n",
       "    </tr>\n",
       "    <tr>\n",
       "      <th>1514</th>\n",
       "      <td>1.48</td>\n",
       "      <td>178410.82</td>\n",
       "      <td>46364.75</td>\n",
       "      <td>52893.38</td>\n",
       "      <td>16736.92</td>\n",
       "      <td>2016</td>\n",
       "      <td>7</td>\n",
       "    </tr>\n",
       "    <tr>\n",
       "      <th>1515</th>\n",
       "      <td>1.47</td>\n",
       "      <td>189131.52</td>\n",
       "      <td>54110.79</td>\n",
       "      <td>53593.58</td>\n",
       "      <td>17495.42</td>\n",
       "      <td>2016</td>\n",
       "      <td>7</td>\n",
       "    </tr>\n",
       "    <tr>\n",
       "      <th>1516</th>\n",
       "      <td>1.43</td>\n",
       "      <td>182978.30</td>\n",
       "      <td>43116.41</td>\n",
       "      <td>54193.42</td>\n",
       "      <td>16563.91</td>\n",
       "      <td>2016</td>\n",
       "      <td>7</td>\n",
       "    </tr>\n",
       "  </tbody>\n",
       "</table>\n",
       "<p>1487 rows × 7 columns</p>\n",
       "</div>"
      ],
      "text/plain": [
       "      AveragePrice  Total Volume      4046       4225      4770  year  region\n",
       "0             1.33      64236.62   1036.74   54454.85     48.16  2015       0\n",
       "1             1.35      54876.98    674.28   44638.81     58.33  2015       0\n",
       "2             0.93     118220.22    794.70  109149.67    130.50  2015       0\n",
       "3             1.08      78992.15   1132.00   71976.41     72.58  2015       0\n",
       "4             1.28      51039.60    941.48   43838.39     75.78  2015       0\n",
       "...            ...           ...       ...        ...       ...   ...     ...\n",
       "1512          1.39     190846.01  57529.11   56366.66  17531.78  2016       7\n",
       "1513          1.51     178235.75  43325.87   52189.61  19419.57  2016       7\n",
       "1514          1.48     178410.82  46364.75   52893.38  16736.92  2016       7\n",
       "1515          1.47     189131.52  54110.79   53593.58  17495.42  2016       7\n",
       "1516          1.43     182978.30  43116.41   54193.42  16563.91  2016       7\n",
       "\n",
       "[1487 rows x 7 columns]"
      ]
     },
     "execution_count": 723,
     "metadata": {},
     "output_type": "execute_result"
    }
   ],
   "source": [
    "df_new"
   ]
  },
  {
   "cell_type": "code",
   "execution_count": 724,
   "metadata": {},
   "outputs": [],
   "source": [
    "X=df_new.iloc[:,0:-1]"
   ]
  },
  {
   "cell_type": "code",
   "execution_count": 725,
   "metadata": {},
   "outputs": [],
   "source": [
    "Y=df_new.iloc[:,-1]"
   ]
  },
  {
   "cell_type": "code",
   "execution_count": 726,
   "metadata": {},
   "outputs": [],
   "source": [
    "from sklearn.preprocessing import StandardScaler\n",
    "sc=StandardScaler()\n",
    "X=sc.fit_transform(X)\n",
    "X=pd.DataFrame(X)"
   ]
  },
  {
   "cell_type": "markdown",
   "metadata": {},
   "source": [
    "Random State Hyperparameter Tuning for Best Value"
   ]
  },
  {
   "cell_type": "code",
   "execution_count": 738,
   "metadata": {},
   "outputs": [
    {
     "name": "stdout",
     "output_type": "stream",
     "text": [
      "max accuracy score corresponding to  DecisionTreeClassifier() for 42 is 0.825503355704698\n",
      "max accuracy score corresponding to  DecisionTreeClassifier() for 43 is 0.8624161073825504\n",
      "max accuracy score corresponding to  DecisionTreeClassifier() for 56 is 0.8926174496644296\n",
      "max accuracy score corresponding to  DecisionTreeClassifier() for 80 is 0.8959731543624161\n"
     ]
    }
   ],
   "source": [
    "from sklearn.tree import DecisionTreeClassifier\n",
    "from sklearn.svm import SVC\n",
    "from sklearn.neighbors import KNeighborsClassifier\n",
    "from sklearn.metrics import accuracy_score,confusion_matrix,classification_report\n",
    "from sklearn.model_selection import train_test_split\n",
    "max_acc_score=0.80\n",
    "for r_state in range(42,100):\n",
    "    x_train,x_test,y_train,y_test=train_test_split(X,Y,random_state=r_state,test_size=0.20)\n",
    "    dtc=DecisionTreeClassifier()\n",
    "    svc=SVC()\n",
    "    knc=KNeighborsClassifier()\n",
    "    model=[dtc,svc,knc]\n",
    "    for m in model:\n",
    "        m.fit(x_train,y_train)\n",
    "        m.score(x_train,y_train)\n",
    "        y_pred=m.predict(x_test)\n",
    "        acc_scr=accuracy_score(y_test,y_pred)\n",
    "        if acc_scr>max_acc_score:\n",
    "            max_acc_score=acc_scr\n",
    "            final_r_state=r_state        \n",
    "            print('max accuracy score corresponding to ',m,'for',final_r_state,'is',max_acc_score)"
   ]
  },
  {
   "cell_type": "code",
   "execution_count": 744,
   "metadata": {},
   "outputs": [],
   "source": [
    "x_train,x_test,y_train,y_test=train_test_split(X,Y,random_state=80,test_size=0.20)"
   ]
  },
  {
   "cell_type": "code",
   "execution_count": 745,
   "metadata": {},
   "outputs": [
    {
     "name": "stdout",
     "output_type": "stream",
     "text": [
      "(1189, 6) \t (298, 6)\n"
     ]
    }
   ],
   "source": [
    "print(x_train.shape,'\\t',x_test.shape)"
   ]
  },
  {
   "cell_type": "code",
   "execution_count": 746,
   "metadata": {},
   "outputs": [
    {
     "name": "stdout",
     "output_type": "stream",
     "text": [
      "(1189,) \t (298,)\n"
     ]
    }
   ],
   "source": [
    "print(y_train.shape,'\\t',y_test.shape)"
   ]
  },
  {
   "cell_type": "markdown",
   "metadata": {},
   "source": [
    "Finding Out Error Metrics of Classification Models at Given Parameter Value and Choosing Best One Model."
   ]
  },
  {
   "cell_type": "code",
   "execution_count": 748,
   "metadata": {},
   "outputs": [
    {
     "name": "stdout",
     "output_type": "stream",
     "text": [
      "Score of DecisionTreeClassifier() is: 1.0\n",
      "accuracy score: 0.889261744966443\n",
      "confusion matrix: [[10  0  0 ...  0  0  0]\n",
      " [ 0 10  0 ...  1  0  0]\n",
      " [ 0  0  8 ...  0  0  0]\n",
      " ...\n",
      " [ 0  0  0 ...  4  0  0]\n",
      " [ 0  0  0 ...  0  7  0]\n",
      " [ 0  0  0 ...  0  0  8]]\n",
      "classification report:               precision    recall  f1-score   support\n",
      "\n",
      "           0       0.83      0.91      0.87        11\n",
      "           1       1.00      0.83      0.91        12\n",
      "           2       0.89      0.89      0.89         9\n",
      "           3       0.94      1.00      0.97        16\n",
      "           4       0.77      0.91      0.83        11\n",
      "           5       0.86      0.86      0.86        14\n",
      "           6       1.00      0.82      0.90        17\n",
      "           7       0.75      0.75      0.75         4\n",
      "           8       1.00      1.00      1.00         7\n",
      "           9       1.00      1.00      1.00         7\n",
      "          10       1.00      0.75      0.86         4\n",
      "          11       0.86      1.00      0.92         6\n",
      "          12       0.90      0.82      0.86        11\n",
      "          13       0.67      0.50      0.57         4\n",
      "          14       1.00      1.00      1.00         4\n",
      "          15       1.00      1.00      1.00         4\n",
      "          16       1.00      0.50      0.67         4\n",
      "          17       1.00      1.00      1.00         7\n",
      "          18       0.33      0.33      0.33         3\n",
      "          19       1.00      0.78      0.88         9\n",
      "          20       1.00      1.00      1.00         1\n",
      "          21       1.00      1.00      1.00         2\n",
      "          22       1.00      0.83      0.91         6\n",
      "          23       0.67      0.67      0.67         3\n",
      "          24       1.00      1.00      1.00         5\n",
      "          25       0.86      1.00      0.92         6\n",
      "          26       1.00      1.00      1.00         6\n",
      "          27       1.00      1.00      1.00         2\n",
      "          28       0.75      0.60      0.67         5\n",
      "          29       0.00      0.00      0.00         0\n",
      "          31       0.80      1.00      0.89         8\n",
      "          32       0.80      1.00      0.89         4\n",
      "          33       0.50      1.00      0.67         1\n",
      "          34       1.00      0.67      0.80         6\n",
      "          35       0.60      1.00      0.75         3\n",
      "          36       1.00      0.67      0.80         3\n",
      "          37       1.00      1.00      1.00         2\n",
      "          38       0.90      0.90      0.90        10\n",
      "          39       0.75      1.00      0.86         3\n",
      "          40       1.00      0.50      0.67         2\n",
      "          41       1.00      1.00      1.00         3\n",
      "          42       1.00      1.00      1.00        11\n",
      "          43       1.00      1.00      1.00         2\n",
      "          44       1.00      1.00      1.00         8\n",
      "          45       1.00      1.00      1.00         5\n",
      "          46       1.00      1.00      1.00         6\n",
      "          47       0.80      0.67      0.73         6\n",
      "          49       0.70      1.00      0.82         7\n",
      "          50       1.00      1.00      1.00         8\n",
      "\n",
      "    accuracy                           0.89       298\n",
      "   macro avg       0.88      0.86      0.86       298\n",
      "weighted avg       0.91      0.89      0.89       298\n",
      "\n",
      "\n",
      "\n",
      "Score of SVC() is: 0.5197645079899075\n",
      "accuracy score: 0.5067114093959731\n",
      "confusion matrix: [[3 0 0 ... 0 0 0]\n",
      " [0 6 0 ... 0 0 0]\n",
      " [0 0 8 ... 0 0 0]\n",
      " ...\n",
      " [0 3 0 ... 0 0 0]\n",
      " [0 0 0 ... 0 7 0]\n",
      " [0 0 0 ... 0 0 0]]\n",
      "classification report:               precision    recall  f1-score   support\n",
      "\n",
      "           0       0.09      0.27      0.14        11\n",
      "           1       0.50      0.50      0.50        12\n",
      "           2       0.73      0.89      0.80         9\n",
      "           3       0.57      0.50      0.53        16\n",
      "           4       0.85      1.00      0.92        11\n",
      "           5       0.62      0.71      0.67        14\n",
      "           6       1.00      1.00      1.00        17\n",
      "           7       0.00      0.00      0.00         4\n",
      "           8       1.00      1.00      1.00         7\n",
      "           9       0.18      1.00      0.31         7\n",
      "          10       0.00      0.00      0.00         4\n",
      "          11       1.00      0.50      0.67         6\n",
      "          12       1.00      0.82      0.90        11\n",
      "          13       0.00      0.00      0.00         4\n",
      "          14       1.00      1.00      1.00         4\n",
      "          15       0.00      0.00      0.00         4\n",
      "          16       0.00      0.00      0.00         4\n",
      "          17       0.60      0.86      0.71         7\n",
      "          18       0.00      0.00      0.00         3\n",
      "          19       0.00      0.00      0.00         9\n",
      "          20       0.00      0.00      0.00         1\n",
      "          21       0.00      0.00      0.00         2\n",
      "          22       0.00      0.00      0.00         6\n",
      "          23       0.00      0.00      0.00         3\n",
      "          24       1.00      1.00      1.00         5\n",
      "          25       0.00      0.00      0.00         6\n",
      "          26       1.00      1.00      1.00         6\n",
      "          27       1.00      1.00      1.00         2\n",
      "          28       0.50      0.60      0.55         5\n",
      "          31       0.42      1.00      0.59         8\n",
      "          32       0.00      0.00      0.00         4\n",
      "          33       0.50      1.00      0.67         1\n",
      "          34       0.50      0.17      0.25         6\n",
      "          35       0.00      0.00      0.00         3\n",
      "          36       0.00      0.00      0.00         3\n",
      "          37       0.00      0.00      0.00         2\n",
      "          38       0.44      0.40      0.42        10\n",
      "          39       0.00      0.00      0.00         3\n",
      "          40       0.00      0.00      0.00         2\n",
      "          41       0.00      0.00      0.00         3\n",
      "          42       1.00      0.82      0.90        11\n",
      "          43       0.67      1.00      0.80         2\n",
      "          44       0.11      0.50      0.19         8\n",
      "          45       0.00      0.00      0.00         5\n",
      "          46       0.00      0.00      0.00         6\n",
      "          47       0.00      0.00      0.00         6\n",
      "          49       0.78      1.00      0.88         7\n",
      "          50       0.00      0.00      0.00         8\n",
      "\n",
      "    accuracy                           0.51       298\n",
      "   macro avg       0.36      0.41      0.36       298\n",
      "weighted avg       0.46      0.51      0.46       298\n",
      "\n",
      "\n",
      "\n",
      "Score of KNeighborsClassifier() is: 0.8166526492851135\n",
      "accuracy score: 0.7315436241610739\n",
      "confusion matrix: [[ 7  0  0 ...  0  0  0]\n",
      " [ 0 11  0 ...  1  0  0]\n",
      " [ 0  0  8 ...  0  0  0]\n",
      " ...\n",
      " [ 0  1  0 ...  5  0  0]\n",
      " [ 0  0  0 ...  0  7  0]\n",
      " [ 0  0  0 ...  0  0  6]]\n",
      "classification report:               precision    recall  f1-score   support\n",
      "\n",
      "           0       0.32      0.64      0.42        11\n",
      "           1       0.85      0.92      0.88        12\n",
      "           2       0.62      0.89      0.73         9\n",
      "           3       0.85      0.69      0.76        16\n",
      "           4       0.83      0.91      0.87        11\n",
      "           5       0.58      0.79      0.67        14\n",
      "           6       1.00      1.00      1.00        17\n",
      "           7       0.50      0.25      0.33         4\n",
      "           8       1.00      1.00      1.00         7\n",
      "           9       0.67      0.86      0.75         7\n",
      "          10       1.00      0.75      0.86         4\n",
      "          11       0.83      0.83      0.83         6\n",
      "          12       0.92      1.00      0.96        11\n",
      "          13       0.00      0.00      0.00         4\n",
      "          14       0.80      1.00      0.89         4\n",
      "          15       0.50      0.50      0.50         4\n",
      "          16       0.00      0.00      0.00         4\n",
      "          17       0.86      0.86      0.86         7\n",
      "          18       0.00      0.00      0.00         3\n",
      "          19       0.80      0.89      0.84         9\n",
      "          20       0.00      0.00      0.00         1\n",
      "          21       0.00      0.00      0.00         2\n",
      "          22       1.00      0.33      0.50         6\n",
      "          23       1.00      0.67      0.80         3\n",
      "          24       1.00      0.80      0.89         5\n",
      "          25       1.00      0.67      0.80         6\n",
      "          26       1.00      1.00      1.00         6\n",
      "          27       1.00      1.00      1.00         2\n",
      "          28       0.50      0.40      0.44         5\n",
      "          30       0.00      0.00      0.00         0\n",
      "          31       0.67      1.00      0.80         8\n",
      "          32       0.00      0.00      0.00         4\n",
      "          33       0.50      1.00      0.67         1\n",
      "          34       0.20      0.17      0.18         6\n",
      "          35       1.00      0.67      0.80         3\n",
      "          36       0.75      1.00      0.86         3\n",
      "          37       0.50      1.00      0.67         2\n",
      "          38       0.67      0.60      0.63        10\n",
      "          39       0.00      0.00      0.00         3\n",
      "          40       1.00      0.50      0.67         2\n",
      "          41       1.00      1.00      1.00         3\n",
      "          42       1.00      0.82      0.90        11\n",
      "          43       0.67      1.00      0.80         2\n",
      "          44       0.43      0.75      0.55         8\n",
      "          45       1.00      0.20      0.33         5\n",
      "          46       1.00      0.83      0.91         6\n",
      "          47       0.83      0.83      0.83         6\n",
      "          49       0.78      1.00      0.88         7\n",
      "          50       1.00      0.75      0.86         8\n",
      "\n",
      "    accuracy                           0.73       298\n",
      "   macro avg       0.66      0.65      0.63       298\n",
      "weighted avg       0.73      0.73      0.71       298\n",
      "\n",
      "\n",
      "\n"
     ]
    }
   ],
   "source": [
    "model=[dtc,svc,knc]\n",
    "for m in model:\n",
    "    m.fit(x_train,y_train)\n",
    "    print('Score of',m,'is:',m.score(x_train,y_train))\n",
    "    y_pred=m.predict(x_test)\n",
    "    print('accuracy score:',accuracy_score(y_test,y_pred))\n",
    "    print('confusion matrix:',confusion_matrix(y_test,y_pred))\n",
    "    print('classification report:',classification_report(y_test,y_pred))\n",
    "    print('\\n')"
   ]
  },
  {
   "cell_type": "markdown",
   "metadata": {},
   "source": [
    "Passing DTC model to GridSearchCV to Find Out Best Parameter for This."
   ]
  },
  {
   "cell_type": "code",
   "execution_count": 754,
   "metadata": {},
   "outputs": [
    {
     "name": "stdout",
     "output_type": "stream",
     "text": [
      "{'criterion': 'entropy'}\n",
      "0.7848462251146815\n"
     ]
    }
   ],
   "source": [
    "dtc=DecisionTreeClassifier()\n",
    "grid_param={'criterion':['gini','entropy']}\n",
    "gd_sr=GridSearchCV(estimator=dtc,param_grid=grid_param,scoring='accuracy',cv=5)\n",
    "gd_sr.fit(X,Y)\n",
    "best_parameters=gd_sr.best_params_\n",
    "print(best_parameters)\n",
    "best_result=gd_sr.best_score_\n",
    "print(best_result)"
   ]
  },
  {
   "cell_type": "markdown",
   "metadata": {},
   "source": [
    "Passing Best Parameter to DTC Model for The Best Results."
   ]
  },
  {
   "cell_type": "code",
   "execution_count": 755,
   "metadata": {},
   "outputs": [
    {
     "name": "stdout",
     "output_type": "stream",
     "text": [
      "Score of DecisionTreeClassifier(criterion='entropy') is: 1.0\n",
      "accuracy score: 0.8590604026845637\n",
      "confusion matrix: [[10  0  0 ...  0  0  0]\n",
      " [ 0 10  0 ...  1  0  0]\n",
      " [ 0  0  8 ...  0  0  0]\n",
      " ...\n",
      " [ 0  0  0 ...  4  0  0]\n",
      " [ 0  0  0 ...  0  6  0]\n",
      " [ 0  0  0 ...  0  0  6]]\n",
      "classification report:               precision    recall  f1-score   support\n",
      "\n",
      "           0       0.77      0.91      0.83        11\n",
      "           1       1.00      0.83      0.91        12\n",
      "           2       0.89      0.89      0.89         9\n",
      "           3       0.94      1.00      0.97        16\n",
      "           4       0.83      0.91      0.87        11\n",
      "           5       0.92      0.79      0.85        14\n",
      "           6       1.00      0.82      0.90        17\n",
      "           7       0.40      0.50      0.44         4\n",
      "           8       1.00      1.00      1.00         7\n",
      "           9       1.00      0.86      0.92         7\n",
      "          10       1.00      0.50      0.67         4\n",
      "          11       1.00      0.83      0.91         6\n",
      "          12       1.00      0.82      0.90        11\n",
      "          13       0.67      1.00      0.80         4\n",
      "          14       1.00      1.00      1.00         4\n",
      "          15       1.00      1.00      1.00         4\n",
      "          16       1.00      0.50      0.67         4\n",
      "          17       1.00      1.00      1.00         7\n",
      "          18       1.00      0.67      0.80         3\n",
      "          19       1.00      0.89      0.94         9\n",
      "          20       1.00      1.00      1.00         1\n",
      "          21       1.00      0.50      0.67         2\n",
      "          22       0.86      1.00      0.92         6\n",
      "          23       0.75      1.00      0.86         3\n",
      "          24       1.00      0.80      0.89         5\n",
      "          25       0.86      1.00      0.92         6\n",
      "          26       1.00      1.00      1.00         6\n",
      "          27       1.00      1.00      1.00         2\n",
      "          28       0.67      0.40      0.50         5\n",
      "          29       0.00      0.00      0.00         0\n",
      "          31       0.62      1.00      0.76         8\n",
      "          32       0.75      0.75      0.75         4\n",
      "          33       0.33      1.00      0.50         1\n",
      "          34       0.83      0.83      0.83         6\n",
      "          35       0.50      0.67      0.57         3\n",
      "          36       1.00      0.67      0.80         3\n",
      "          37       0.50      1.00      0.67         2\n",
      "          38       0.90      0.90      0.90        10\n",
      "          39       0.50      1.00      0.67         3\n",
      "          40       1.00      1.00      1.00         2\n",
      "          41       1.00      1.00      1.00         3\n",
      "          42       0.91      0.91      0.91        11\n",
      "          43       1.00      0.50      0.67         2\n",
      "          44       1.00      0.88      0.93         8\n",
      "          45       1.00      0.80      0.89         5\n",
      "          46       1.00      1.00      1.00         6\n",
      "          47       0.80      0.67      0.73         6\n",
      "          49       0.60      0.86      0.71         7\n",
      "          50       1.00      0.75      0.86         8\n",
      "\n",
      "    accuracy                           0.86       298\n",
      "   macro avg       0.85      0.83      0.82       298\n",
      "weighted avg       0.90      0.86      0.86       298\n",
      "\n"
     ]
    }
   ],
   "source": [
    "dtc=DecisionTreeClassifier(criterion='entropy')\n",
    "dtc.fit(x_train,y_train)\n",
    "print('Score of',dtc,'is:',dtc.score(x_train,y_train))\n",
    "dtpred=dtc.predict(x_test)\n",
    "print('accuracy score:',accuracy_score(y_test,dtpred))\n",
    "print('confusion matrix:',confusion_matrix(y_test,dtpred))\n",
    "print('classification report:',classification_report(y_test,dtpred))"
   ]
  },
  {
   "cell_type": "markdown",
   "metadata": {},
   "source": [
    "Cross Validation of DTC Model"
   ]
  },
  {
   "cell_type": "code",
   "execution_count": 761,
   "metadata": {},
   "outputs": [
    {
     "name": "stdout",
     "output_type": "stream",
     "text": [
      "[0.67114094 0.82550336 0.87205387 0.83838384 0.76094276]\n",
      "0.7936049533364968 0.07105088731427336\n"
     ]
    }
   ],
   "source": [
    "dtcscores=cross_val_score(dtc,X,Y,cv=5,scoring='accuracy')\n",
    "print(dtcscores)\n",
    "print(dtcscores.mean(),dtcscores.std())"
   ]
  },
  {
   "cell_type": "markdown",
   "metadata": {},
   "source": [
    "Ensembling Techniques to Boost Up Score."
   ]
  },
  {
   "cell_type": "code",
   "execution_count": 760,
   "metadata": {},
   "outputs": [
    {
     "name": "stdout",
     "output_type": "stream",
     "text": [
      "1.0\n",
      "accuracy score: 0.9463087248322147\n",
      "confusion matrix: [[11  0  0 ...  0  0  0]\n",
      " [ 0 11  0 ...  0  0  0]\n",
      " [ 0  0  9 ...  0  0  0]\n",
      " ...\n",
      " [ 0  0  0 ...  4  0  0]\n",
      " [ 0  0  0 ...  0  7  0]\n",
      " [ 0  0  0 ...  0  0  7]]\n",
      "classification report:               precision    recall  f1-score   support\n",
      "\n",
      "           0       0.92      1.00      0.96        11\n",
      "           1       1.00      0.92      0.96        12\n",
      "           2       0.90      1.00      0.95         9\n",
      "           3       1.00      1.00      1.00        16\n",
      "           4       0.91      0.91      0.91        11\n",
      "           5       1.00      0.93      0.96        14\n",
      "           6       0.94      0.94      0.94        17\n",
      "           7       1.00      1.00      1.00         4\n",
      "           8       1.00      1.00      1.00         7\n",
      "           9       1.00      1.00      1.00         7\n",
      "          10       1.00      1.00      1.00         4\n",
      "          11       1.00      1.00      1.00         6\n",
      "          12       1.00      1.00      1.00        11\n",
      "          13       0.67      1.00      0.80         4\n",
      "          14       1.00      1.00      1.00         4\n",
      "          15       1.00      1.00      1.00         4\n",
      "          16       1.00      0.75      0.86         4\n",
      "          17       1.00      1.00      1.00         7\n",
      "          18       1.00      0.67      0.80         3\n",
      "          19       1.00      1.00      1.00         9\n",
      "          20       1.00      1.00      1.00         1\n",
      "          21       1.00      1.00      1.00         2\n",
      "          22       1.00      0.83      0.91         6\n",
      "          23       1.00      1.00      1.00         3\n",
      "          24       1.00      1.00      1.00         5\n",
      "          25       1.00      1.00      1.00         6\n",
      "          26       1.00      1.00      1.00         6\n",
      "          27       1.00      1.00      1.00         2\n",
      "          28       1.00      0.80      0.89         5\n",
      "          29       0.00      0.00      0.00         0\n",
      "          31       0.73      1.00      0.84         8\n",
      "          32       0.80      1.00      0.89         4\n",
      "          33       1.00      1.00      1.00         1\n",
      "          34       1.00      0.83      0.91         6\n",
      "          35       1.00      1.00      1.00         3\n",
      "          36       1.00      1.00      1.00         3\n",
      "          37       1.00      1.00      1.00         2\n",
      "          38       1.00      0.90      0.95        10\n",
      "          39       1.00      1.00      1.00         3\n",
      "          40       1.00      1.00      1.00         2\n",
      "          41       1.00      1.00      1.00         3\n",
      "          42       1.00      0.82      0.90        11\n",
      "          43       1.00      1.00      1.00         2\n",
      "          44       1.00      1.00      1.00         8\n",
      "          45       1.00      0.80      0.89         5\n",
      "          46       1.00      1.00      1.00         6\n",
      "          47       0.80      0.67      0.73         6\n",
      "          49       0.78      1.00      0.88         7\n",
      "          50       1.00      0.88      0.93         8\n",
      "\n",
      "    accuracy                           0.95       298\n",
      "   macro avg       0.95      0.93      0.94       298\n",
      "weighted avg       0.96      0.95      0.95       298\n",
      "\n"
     ]
    }
   ],
   "source": [
    "from sklearn.ensemble import RandomForestClassifier\n",
    "rfc=RandomForestClassifier(n_estimators=100,random_state=80)\n",
    "rfc.fit(x_train,y_train)\n",
    "print(rfc.score(x_train,y_train))\n",
    "predrfc=rfc.predict(x_test)\n",
    "print('accuracy score:',accuracy_score(y_test,predrfc))\n",
    "print('confusion matrix:',confusion_matrix(y_test,predrfc))\n",
    "print('classification report:',classification_report(y_test,predrfc))"
   ]
  },
  {
   "cell_type": "code",
   "execution_count": 762,
   "metadata": {},
   "outputs": [
    {
     "name": "stdout",
     "output_type": "stream",
     "text": [
      "[0.77852349 0.85234899 0.91582492 0.92929293 0.85521886]\n",
      "0.8662418367116353 0.05374559998923278\n"
     ]
    }
   ],
   "source": [
    "rfcscores=cross_val_score(rfc,X,Y,cv=5,scoring='accuracy')\n",
    "print(rfcscores)\n",
    "print(rfcscores.mean(),rfcscores.std())"
   ]
  },
  {
   "cell_type": "code",
   "execution_count": 763,
   "metadata": {},
   "outputs": [
    {
     "name": "stdout",
     "output_type": "stream",
     "text": [
      "1.0\n",
      "accuracy score: 0.8557046979865772\n",
      "confusion matrix: [[ 9  0  0 ...  0  0  0]\n",
      " [ 0 11  0 ...  1  0  0]\n",
      " [ 0  0  8 ...  0  0  0]\n",
      " ...\n",
      " [ 0  0  0 ...  3  0  0]\n",
      " [ 0  0  0 ...  0  6  0]\n",
      " [ 0  0  0 ...  0  0  6]]\n",
      "classification report:               precision    recall  f1-score   support\n",
      "\n",
      "           0       0.90      0.82      0.86        11\n",
      "           1       1.00      0.92      0.96        12\n",
      "           2       0.89      0.89      0.89         9\n",
      "           3       0.94      1.00      0.97        16\n",
      "           4       0.83      0.91      0.87        11\n",
      "           5       0.93      0.93      0.93        14\n",
      "           6       1.00      0.82      0.90        17\n",
      "           7       0.50      0.50      0.50         4\n",
      "           8       1.00      1.00      1.00         7\n",
      "           9       1.00      0.86      0.92         7\n",
      "          10       1.00      0.50      0.67         4\n",
      "          11       1.00      0.83      0.91         6\n",
      "          12       1.00      0.73      0.84        11\n",
      "          13       0.67      1.00      0.80         4\n",
      "          14       1.00      1.00      1.00         4\n",
      "          15       0.80      1.00      0.89         4\n",
      "          16       1.00      0.50      0.67         4\n",
      "          17       1.00      1.00      1.00         7\n",
      "          18       1.00      0.67      0.80         3\n",
      "          19       1.00      0.89      0.94         9\n",
      "          20       1.00      1.00      1.00         1\n",
      "          21       1.00      0.50      0.67         2\n",
      "          22       0.86      1.00      0.92         6\n",
      "          23       0.75      1.00      0.86         3\n",
      "          24       1.00      0.80      0.89         5\n",
      "          25       0.86      1.00      0.92         6\n",
      "          26       1.00      1.00      1.00         6\n",
      "          27       1.00      1.00      1.00         2\n",
      "          28       0.67      0.40      0.50         5\n",
      "          29       0.00      0.00      0.00         0\n",
      "          31       0.62      1.00      0.76         8\n",
      "          32       0.75      0.75      0.75         4\n",
      "          33       0.33      1.00      0.50         1\n",
      "          34       0.83      0.83      0.83         6\n",
      "          35       0.33      0.67      0.44         3\n",
      "          36       1.00      0.67      0.80         3\n",
      "          37       0.67      1.00      0.80         2\n",
      "          38       0.90      0.90      0.90        10\n",
      "          39       0.50      1.00      0.67         3\n",
      "          40       1.00      1.00      1.00         2\n",
      "          41       1.00      1.00      1.00         3\n",
      "          42       0.90      0.82      0.86        11\n",
      "          43       1.00      0.50      0.67         2\n",
      "          44       1.00      0.88      0.93         8\n",
      "          45       1.00      0.80      0.89         5\n",
      "          46       0.86      1.00      0.92         6\n",
      "          47       0.75      0.50      0.60         6\n",
      "          49       0.55      0.86      0.67         7\n",
      "          50       1.00      0.75      0.86         8\n",
      "\n",
      "    accuracy                           0.86       298\n",
      "   macro avg       0.85      0.82      0.81       298\n",
      "weighted avg       0.89      0.86      0.86       298\n",
      "\n"
     ]
    }
   ],
   "source": [
    "from sklearn.ensemble import AdaBoostClassifier\n",
    "adc=AdaBoostClassifier(base_estimator=dtc,n_estimators=100,learning_rate=0.1,random_state=80)\n",
    "adc.fit(x_train,y_train)\n",
    "print(adc.score(x_train,y_train))\n",
    "adc_pred=adc.predict(x_test)\n",
    "print('accuracy score:',accuracy_score(y_test,adc_pred))\n",
    "print('confusion matrix:',confusion_matrix(y_test,adc_pred))\n",
    "print('classification report:',classification_report(y_test,adc_pred))"
   ]
  },
  {
   "cell_type": "code",
   "execution_count": 764,
   "metadata": {},
   "outputs": [
    {
     "name": "stdout",
     "output_type": "stream",
     "text": [
      "[0.68120805 0.81879195 0.85185185 0.82828283 0.74410774]\n",
      "0.7848484848484849 0.06313366595061586\n"
     ]
    }
   ],
   "source": [
    "adcscores=cross_val_score(adc,X,Y,cv=5,scoring='accuracy')\n",
    "print(adcscores)\n",
    "print(adcscores.mean(),adcscores.std())"
   ]
  },
  {
   "cell_type": "markdown",
   "metadata": {},
   "source": [
    "Relationship between Random Forest Classifier's Actual Output and Predicted One"
   ]
  },
  {
   "cell_type": "code",
   "execution_count": 765,
   "metadata": {},
   "outputs": [
    {
     "data": {
      "image/png": "[encoded data removed]",
      "text/plain": [
       "<Figure size 432x288 with 1 Axes>"
      ]
     },
     "metadata": {},
     "output_type": "display_data"
    }
   ],
   "source": [
    "plt.scatter(y_test,predrfc)\n",
    "plt.xlabel('y_test')\n",
    "plt.ylabel('predrfc')\n",
    "plt.title('scatter plot between test data and predicted data')\n",
    "plt.show()"
   ]
  },
  {
   "cell_type": "code",
   "execution_count": null,
   "metadata": {},
   "outputs": [],
   "source": [
    "Saving Random Forest Classifier Model."
   ]
  },
  {
   "cell_type": "code",
   "execution_count": 772,
   "metadata": {},
   "outputs": [
    {
     "data": {
      "text/plain": [
       "['avacadorfc.obj']"
      ]
     },
     "execution_count": 772,
     "metadata": {},
     "output_type": "execute_result"
    }
   ],
   "source": [
    "import joblib\n",
    "file='avacadorfc.obj'\n",
    "joblib.dump(rfc,file)"
   ]
  },
  {
   "cell_type": "markdown",
   "metadata": {},
   "source": [
    "# Conclusion"
   ]
  },
  {
   "cell_type": "raw",
   "metadata": {},
   "source": [
    "1. Regression Model -\n",
    "\n",
    "I have chosen Adaboost Regressor model as the best amongst others as it is relatively less overfitting compared to its closest competitor RandomForest Regressor. Also R2 score of Adaboost Regressor is higher than RandomForest Regressor"
   ]
  },
  {
   "cell_type": "raw",
   "metadata": {},
   "source": [
    "-------------------------------------------------------------------------------------------------------------------------------"
   ]
  },
  {
   "cell_type": "raw",
   "metadata": {},
   "source": [
    "2. Classification Model -\n",
    "\n",
    "I have chosen Random Forest Classifier model as the best amongst others as it is relatively less overfitting compared to its closest competitor Adaboost Classifier Model. Also the accuracy score of Random Forest Classifier Model is higher than Adaboost Classifier Model\n"
   ]
  },
  {
   "cell_type": "code",
   "execution_count": null,
   "metadata": {},
   "outputs": [],
   "source": []
  }
 ],
 "metadata": {
  "kernelspec": {
   "display_name": "Python 3",
   "language": "python",
   "name": "python3"
  },
  "language_info": {
   "codemirror_mode": {
    "name": "ipython",
    "version": 3
   },
   "file_extension": ".py",
   "mimetype": "text/x-python",
   "name": "python",
   "nbconvert_exporter": "python",
   "pygments_lexer": "ipython3",
   "version": "3.8.3"
  }
 },
 "nbformat": 4,
 "nbformat_minor": 4
}
